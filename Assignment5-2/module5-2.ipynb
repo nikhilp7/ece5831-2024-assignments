{
 "cells": [
  {
   "cell_type": "markdown",
   "metadata": {},
   "source": [
    "### Softmax Function"
   ]
  },
  {
   "cell_type": "code",
   "execution_count": 1,
   "metadata": {},
   "outputs": [],
   "source": [
    "import numpy as np"
   ]
  },
  {
   "cell_type": "code",
   "execution_count": 2,
   "metadata": {},
   "outputs": [],
   "source": [
    "def softmax(a):\n",
    "    return np.exp(a)/np.sum(np.exp(a))"
   ]
  },
  {
   "cell_type": "code",
   "execution_count": 3,
   "metadata": {},
   "outputs": [],
   "source": [
    "a = np.array([10, 20, 30])\n",
    "s = softmax(a)"
   ]
  },
  {
   "cell_type": "code",
   "execution_count": 4,
   "metadata": {},
   "outputs": [
    {
     "data": {
      "text/plain": [
       "array([2.06106005e-09, 4.53978686e-05, 9.99954600e-01])"
      ]
     },
     "execution_count": 4,
     "metadata": {},
     "output_type": "execute_result"
    }
   ],
   "source": [
    "s"
   ]
  },
  {
   "cell_type": "code",
   "execution_count": 5,
   "metadata": {},
   "outputs": [
    {
     "name": "stderr",
     "output_type": "stream",
     "text": [
      "C:\\Users\\Nikhi\\AppData\\Local\\Temp\\ipykernel_23016\\2942892012.py:2: RuntimeWarning: overflow encountered in exp\n",
      "  return np.exp(a)/np.sum(np.exp(a))\n",
      "C:\\Users\\Nikhi\\AppData\\Local\\Temp\\ipykernel_23016\\2942892012.py:2: RuntimeWarning: invalid value encountered in divide\n",
      "  return np.exp(a)/np.sum(np.exp(a))\n"
     ]
    }
   ],
   "source": [
    "# How about 900, 1000?\n",
    "a = np.array([900, 1000])\n",
    "s = softmax(a)"
   ]
  },
  {
   "cell_type": "code",
   "execution_count": 6,
   "metadata": {},
   "outputs": [],
   "source": [
    "# a new version of softmax\n",
    "def softmax(a):\n",
    "    c = np.max(a)\n",
    "    exp_a = np.exp(a - c)\n",
    "    return exp_a/ np.sum(exp_a)"
   ]
  },
  {
   "cell_type": "code",
   "execution_count": 7,
   "metadata": {},
   "outputs": [],
   "source": [
    "# Check if this modification resolves the overflow issue.\n",
    "a = np.array([900, 1000])\n",
    "s = softmax(a)"
   ]
  },
  {
   "cell_type": "code",
   "execution_count": 8,
   "metadata": {},
   "outputs": [
    {
     "data": {
      "text/plain": [
       "array([3.72007598e-44, 1.00000000e+00])"
      ]
     },
     "execution_count": 8,
     "metadata": {},
     "output_type": "execute_result"
    }
   ],
   "source": [
    "s"
   ]
  },
  {
   "cell_type": "markdown",
   "metadata": {},
   "source": [
    "## MNIST Dataset"
   ]
  },
  {
   "cell_type": "code",
   "execution_count": 9,
   "metadata": {},
   "outputs": [],
   "source": [
    "import urllib.request\n",
    "import gzip\n",
    "import numpy as np\n",
    "import pickle\n",
    "import os"
   ]
  },
  {
   "cell_type": "code",
   "execution_count": 10,
   "metadata": {},
   "outputs": [],
   "source": [
    "image_size = 28*28\n",
    "dataset_dir = 'C:/Users/Nikhi/Pattern Recognition/HW5-2'\n",
    "dataset_pkl = 'mnist.pkl'\n",
    "url_base = 'http://jrkwon.com/data/ece5831/mnist/' # 'http://yann.lecun.com/exdb/mnist/'\n"
   ]
  },
  {
   "cell_type": "code",
   "execution_count": 11,
   "metadata": {},
   "outputs": [],
   "source": [
    "key_file = {\n",
    "    'train_images':'train-images-idx3-ubyte.gz',\n",
    "    'train_labels':'train-labels-idx1-ubyte.gz',\n",
    "    'test_images': 'train-images-idx3-ubyte.gz',\n",
    "    'test_labels': 't10k-labels-idx1-ubyte.gz'\n",
    "}"
   ]
  },
  {
   "cell_type": "markdown",
   "metadata": {},
   "source": [
    "### Test if 'key_file' works!"
   ]
  },
  {
   "cell_type": "code",
   "execution_count": 12,
   "metadata": {},
   "outputs": [
    {
     "data": {
      "text/plain": [
       "'train-images-idx3-ubyte.gz'"
      ]
     },
     "execution_count": 12,
     "metadata": {},
     "output_type": "execute_result"
    }
   ],
   "source": [
    "key_file['test_images']"
   ]
  },
  {
   "cell_type": "markdown",
   "metadata": {},
   "source": [
    "Lets try to download one of these files if the idea works"
   ]
  },
  {
   "cell_type": "markdown",
   "metadata": {},
   "source": [
    "Make sure that you're in 'ece5831/05'"
   ]
  },
  {
   "cell_type": "code",
   "execution_count": 13,
   "metadata": {},
   "outputs": [
    {
     "name": "stdout",
     "output_type": "stream",
     "text": [
      "C:\\Users\\Nikhi\\Pattern Recognition\\HW5-2\n"
     ]
    }
   ],
   "source": [
    "!cd\n",
    "file_name = key_file['train_images']"
   ]
  },
  {
   "cell_type": "markdown",
   "metadata": {},
   "source": [
    "### _download and _download_all"
   ]
  },
  {
   "cell_type": "code",
   "execution_count": 14,
   "metadata": {},
   "outputs": [],
   "source": [
    "import os\n",
    "import urllib.request\n",
    "\n",
    "def download(file_name):\n",
    "    # Construct the directory path\n",
    "    dataset_dir = 'C:/Users/Nikhi/Pattern Recognition/HW5-2'\n",
    "    \n",
    "    # Ensure the directory exists\n",
    "    if not os.path.exists(dataset_dir):\n",
    "        os.makedirs(dataset_dir)  # Create the directory if it doesn't exist\n",
    "\n",
    "    file_path = os.path.join(dataset_dir, file_name)\n",
    "\n",
    "    # Check if the file already exists\n",
    "    if os.path.exists(file_path):\n",
    "        print(f'File: {file_name} already exists.')\n",
    "        return\n",
    "\n",
    "    # Prepare the request with Google Chrome User-Agent\n",
    "    url = url_base + file_name\n",
    "    headers = {\n",
    "        'User-Agent': 'Mozilla/5.0 (Windows NT 10.0; Win64; x64) AppleWebKit/537.36 (KHTML, like Gecko) Chrome/115.0.0.0 Safari/537.36',\n",
    "        'Accept': 'application/octet-stream'\n",
    "    }\n",
    "    request = urllib.request.Request(url, headers=headers)\n",
    "\n",
    "    # Attempt the download with error handling\n",
    "    try:\n",
    "        print(f'Downloading {file_name}...')\n",
    "        with urllib.request.urlopen(request) as response, open(file_path, 'wb') as out_file:\n",
    "            out_file.write(response.read())\n",
    "        print('Download completed:', file_name)\n",
    "    except urllib.error.HTTPError as e:\n",
    "        print(f'HTTPError: {e.code} - {e.reason}')\n",
    "    except Exception as e:\n",
    "        print(f'Error downloading {file_name}: {str(e)}')\n"
   ]
  },
  {
   "cell_type": "code",
   "execution_count": 15,
   "metadata": {},
   "outputs": [],
   "source": [
    "def _download_all():\n",
    "    for file_name in key_file.values():\n",
    "        # Place your file download or processing logic here\n",
    "        print(f\"Processing {file_name}\")\n",
    "        download(file_name)\n",
    "        # print(\"Downloaded: \", file_name)"
   ]
  },
  {
   "cell_type": "code",
   "execution_count": 16,
   "metadata": {},
   "outputs": [
    {
     "name": "stdout",
     "output_type": "stream",
     "text": [
      "Processing train-images-idx3-ubyte.gz\n",
      "File: train-images-idx3-ubyte.gz already exists.\n",
      "Processing train-labels-idx1-ubyte.gz\n",
      "File: train-labels-idx1-ubyte.gz already exists.\n",
      "Processing train-images-idx3-ubyte.gz\n",
      "File: train-images-idx3-ubyte.gz already exists.\n",
      "Processing t10k-labels-idx1-ubyte.gz\n",
      "File: t10k-labels-idx1-ubyte.gz already exists.\n"
     ]
    }
   ],
   "source": [
    "_download_all()"
   ]
  },
  {
   "cell_type": "markdown",
   "metadata": {},
   "source": [
    "#### '_load_images' and '_load_lables'"
   ]
  },
  {
   "cell_type": "code",
   "execution_count": 17,
   "metadata": {},
   "outputs": [],
   "source": [
    "def _load_images(file_name):\n",
    "    with gzip.open(file_name, 'rb') as f:\n",
    "        images = np.frombuffer(f.read(), np.uint8, offset = 16)\n",
    "    images = images.reshape(-1, image_size)\n",
    "    return images"
   ]
  },
  {
   "cell_type": "code",
   "execution_count": 18,
   "metadata": {},
   "outputs": [],
   "source": [
    "images = _load_images(dataset_dir + '/' +key_file['test_images'])"
   ]
  },
  {
   "cell_type": "code",
   "execution_count": 19,
   "metadata": {},
   "outputs": [
    {
     "data": {
      "text/plain": [
       "(60000, 784)"
      ]
     },
     "execution_count": 19,
     "metadata": {},
     "output_type": "execute_result"
    }
   ],
   "source": [
    "images.shape"
   ]
  },
  {
   "cell_type": "markdown",
   "metadata": {},
   "source": [
    "#### Show the loaded images and labels are proper by displaying at least one image and label."
   ]
  },
  {
   "cell_type": "code",
   "execution_count": 20,
   "metadata": {},
   "outputs": [],
   "source": [
    "import matplotlib.pyplot as plt"
   ]
  },
  {
   "cell_type": "code",
   "execution_count": 21,
   "metadata": {},
   "outputs": [],
   "source": [
    "idx = 1000"
   ]
  },
  {
   "cell_type": "code",
   "execution_count": 22,
   "metadata": {},
   "outputs": [
    {
     "data": {
      "text/plain": [
       "<matplotlib.image.AxesImage at 0x20a63920550>"
      ]
     },
     "execution_count": 22,
     "metadata": {},
     "output_type": "execute_result"
    },
    {
     "data": {
      "image/png": "[encoded data removed]",
      "text/plain": [
       "<Figure size 640x480 with 1 Axes>"
      ]
     },
     "metadata": {},
     "output_type": "display_data"
    }
   ],
   "source": [
    "a = images[idx].reshape(28, 28)\n",
    "plt.imshow(a)"
   ]
  },
  {
   "cell_type": "code",
   "execution_count": 23,
   "metadata": {},
   "outputs": [],
   "source": [
    "def _load_labels(file_name):\n",
    "    with gzip.open(file_name, 'rb') as f:\n",
    "        labels = np.frombuffer(f.read(), np.uint8, offset=8)\n",
    "    return labels"
   ]
  },
  {
   "cell_type": "code",
   "execution_count": 24,
   "metadata": {},
   "outputs": [],
   "source": [
    "labels = _load_labels(f\"{dataset_dir}/{key_file['test_labels']}\")"
   ]
  },
  {
   "cell_type": "code",
   "execution_count": 25,
   "metadata": {},
   "outputs": [
    {
     "data": {
      "text/plain": [
       "9"
      ]
     },
     "execution_count": 25,
     "metadata": {},
     "output_type": "execute_result"
    }
   ],
   "source": [
    "labels[idx]"
   ]
  },
  {
   "cell_type": "markdown",
   "metadata": {},
   "source": [
    "#### _create_dataset() "
   ]
  },
  {
   "cell_type": "code",
   "execution_count": 26,
   "metadata": {},
   "outputs": [],
   "source": [
    "def _create_dataset():\n",
    "    dataset = {}\n",
    "    dataset['train_images'] = _load_images(f\"{dataset_dir}/{key_file['train_images']}\")\n",
    "    dataset['train_labels'] = _load_labels(f\"{dataset_dir}/{key_file['train_labels']}\")\n",
    "    dataset['test_images'] = _load_images(f\"{dataset_dir}/{key_file['test_images']}\")\n",
    "    dataset['test_labels'] = _load_labels(f\"{dataset_dir}/{key_file['test_labels']}\")\n",
    "    \n",
    "    with open(f\"{dataset_dir}/{dataset_pkl}\", 'wb') as f:\n",
    "        print(f\"Pickle: {dataset_dir}/{dataset_pkl} is being created\")\n",
    "        pickle.dump(dataset, f)\n",
    "        print('Done.')\n",
    "    return dataset"
   ]
  },
  {
   "cell_type": "code",
   "execution_count": 27,
   "metadata": {},
   "outputs": [
    {
     "name": "stdout",
     "output_type": "stream",
     "text": [
      "Pickle: C:/Users/Nikhi/Pattern Recognition/HW5-2/mnist.pkl is being created\n",
      "Done.\n"
     ]
    }
   ],
   "source": [
    "dataset = _create_dataset()"
   ]
  },
  {
   "cell_type": "code",
   "execution_count": 28,
   "metadata": {},
   "outputs": [
    {
     "name": "stdout",
     "output_type": "stream",
     "text": [
      "Label: 9\n"
     ]
    },
    {
     "data": {
      "image/png": "[encoded data removed]",
      "text/plain": [
       "<Figure size 640x480 with 1 Axes>"
      ]
     },
     "metadata": {},
     "output_type": "display_data"
    }
   ],
   "source": [
    "plt.imshow(dataset['train_images'][idx].reshape(28, 28))\n",
    "print(f\"Label: {dataset['test_labels'][idx]}\")"
   ]
  },
  {
   "cell_type": "code",
   "execution_count": 29,
   "metadata": {},
   "outputs": [
    {
     "data": {
      "text/plain": [
       "<matplotlib.image.AxesImage at 0x20a63973190>"
      ]
     },
     "execution_count": 29,
     "metadata": {},
     "output_type": "execute_result"
    },
    {
     "data": {
      "image/png": "[encoded data removed]",
      "text/plain": [
       "<Figure size 640x480 with 1 Axes>"
      ]
     },
     "metadata": {},
     "output_type": "display_data"
    }
   ],
   "source": [
    "img = dataset['train_images'][idx].reshape(28, 28)\n",
    "plt.imshow(img)"
   ]
  },
  {
   "cell_type": "markdown",
   "metadata": {},
   "source": [
    "#### _change_one_hot_label()"
   ]
  },
  {
   "cell_type": "code",
   "execution_count": 30,
   "metadata": {},
   "outputs": [],
   "source": [
    "def _change_one_hot_label(y, num_class):\n",
    "    t = np.zeros((y.size, num_class))\n",
    "    for idx, row in enumerate(t):\n",
    "        row[y[idx]] = 1\n",
    "    return t"
   ]
  },
  {
   "cell_type": "markdown",
   "metadata": {},
   "source": [
    "#### Show an example of one_hot_encoded result."
   ]
  },
  {
   "cell_type": "code",
   "execution_count": 31,
   "metadata": {},
   "outputs": [],
   "source": [
    "y = np.array([1, 0, 9, 8])\n",
    "one_hot_y = _change_one_hot_label(y, 10)"
   ]
  },
  {
   "cell_type": "code",
   "execution_count": 32,
   "metadata": {},
   "outputs": [
    {
     "name": "stdout",
     "output_type": "stream",
     "text": [
      "[1 0 9 8]\n",
      "[[0. 1. 0. 0. 0. 0. 0. 0. 0. 0.]\n",
      " [1. 0. 0. 0. 0. 0. 0. 0. 0. 0.]\n",
      " [0. 0. 0. 0. 0. 0. 0. 0. 0. 1.]\n",
      " [0. 0. 0. 0. 0. 0. 0. 0. 1. 0.]]\n"
     ]
    }
   ],
   "source": [
    "print(y)\n",
    "print(one_hot_y)"
   ]
  },
  {
   "cell_type": "markdown",
   "metadata": {},
   "source": [
    "#### _init_dataset"
   ]
  },
  {
   "cell_type": "code",
   "execution_count": 33,
   "metadata": {},
   "outputs": [],
   "source": [
    "def _init_dataset():\n",
    "    _download_all()\n",
    "    if os.path.exists(f'{dataset_dir}/{dataset_pkl}') is False:\n",
    "        with open(f'{dataset_dir}/{dataset_pkl}', 'rb')as f:\n",
    "            print(f'Pickle: {dataset_dir}/{dataset_pkl} already exists.')\n",
    "            print('Loading....')\n",
    "            dataset = pickle.load(f)\n",
    "            print('Done.')\n",
    "    else:\n",
    "        dataset = _create_dataset()\n",
    "    \n",
    "    return dataset"
   ]
  },
  {
   "cell_type": "code",
   "execution_count": 34,
   "metadata": {},
   "outputs": [],
   "source": [
    "# Clear the dictionary for testing the loading dataset\n",
    "dataset = {}"
   ]
  },
  {
   "cell_type": "code",
   "execution_count": 35,
   "metadata": {},
   "outputs": [
    {
     "name": "stdout",
     "output_type": "stream",
     "text": [
      "Processing train-images-idx3-ubyte.gz\n",
      "File: train-images-idx3-ubyte.gz already exists.\n",
      "Processing train-labels-idx1-ubyte.gz\n",
      "File: train-labels-idx1-ubyte.gz already exists.\n",
      "Processing train-images-idx3-ubyte.gz\n",
      "File: train-images-idx3-ubyte.gz already exists.\n",
      "Processing t10k-labels-idx1-ubyte.gz\n",
      "File: t10k-labels-idx1-ubyte.gz already exists.\n",
      "Pickle: C:/Users/Nikhi/Pattern Recognition/HW5-2/mnist.pkl is being created\n",
      "Done.\n"
     ]
    }
   ],
   "source": [
    "dataset = _init_dataset()"
   ]
  },
  {
   "cell_type": "code",
   "execution_count": 37,
   "metadata": {},
   "outputs": [
    {
     "data": {
      "text/plain": [
       "(60000, 784)"
      ]
     },
     "execution_count": 37,
     "metadata": {},
     "output_type": "execute_result"
    }
   ],
   "source": [
    "dataset['test_images'].shape"
   ]
  },
  {
   "cell_type": "markdown",
   "metadata": {},
   "source": [
    "#### MnistData class"
   ]
  },
  {
   "cell_type": "code",
   "execution_count": 38,
   "metadata": {},
   "outputs": [],
   "source": [
    "import urllib.request\n",
    "import gzip\n",
    "import numpy as np\n",
    "import pickle\n",
    "import os"
   ]
  },
  {
   "cell_type": "code",
   "execution_count": 59,
   "metadata": {},
   "outputs": [],
   "source": [
    "import os\n",
    "import urllib.request\n",
    "import numpy as np\n",
    "import pickle\n",
    "import gzip\n",
    "\n",
    "class MnistData:\n",
    "    image_size = 28*28\n",
    "    dataset_dir = 'C:/Users/Nikhi/Pattern Recognition/HW5-2'\n",
    "    dataset_pkl = 'mnist.pkl'\n",
    "    url_base = 'http://jrkwon.com/data/ece5831/mnist/'\n",
    "\n",
    "    key_file = {\n",
    "        'train_images': 'train-images-idx3-ubyte.gz',\n",
    "        'train_labels': 'train-labels-idx1-ubyte.gz',\n",
    "        'test_images': 't10k-images-idx3-ubyte.gz',\n",
    "        'test_labels': 't10k-labels-idx1-ubyte.gz'\n",
    "    }\n",
    "\n",
    "    def __init__(self):\n",
    "        self.dataset = {}\n",
    "        self.dataset_pkl_path = os.path.join(self.dataset_dir, self.dataset_pkl)\n",
    "        self._init_dataset()\n",
    "\n",
    "    def _change_one_hot_label(self, y, num_class):\n",
    "        t = np.zeros((y.size, num_class))\n",
    "        for idx, row in enumerate(t):\n",
    "            row[y[idx]] = 1\n",
    "        return t\n",
    "\n",
    "    def download(self, file_name):\n",
    "        dataset_dir = 'C:/Users/Nikhi/Pattern Recognition/HW5-2'\n",
    "        if not os.path.exists(dataset_dir):\n",
    "            os.makedirs(dataset_dir)  # Create the directory if it doesn't exist\n",
    "        file_path = os.path.join(dataset_dir, file_name)\n",
    "\n",
    "        # Check if the file already exists\n",
    "        if os.path.exists(file_path):\n",
    "            print(f'File: {file_name} already exists.')\n",
    "            return\n",
    "\n",
    "        # Prepare the request with Google Chrome User-Agent\n",
    "        url = self.url_base + file_name\n",
    "        headers = {\n",
    "            'User-Agent': 'Mozilla/5.0 (Windows NT 10.0; Win64; x64) AppleWebKit/537.36 (KHTML, like Gecko) Chrome/115.0.0.0 Safari/537.36',\n",
    "            'Accept': 'application/octet-stream'\n",
    "        }\n",
    "        request = urllib.request.Request(url, headers=headers)\n",
    "\n",
    "        # Attempt the download with error handling\n",
    "        try:\n",
    "            print(f'Downloading {file_name}...')\n",
    "            with urllib.request.urlopen(request) as response, open(file_path, 'wb') as out_file:\n",
    "                out_file.write(response.read())\n",
    "            print('Download completed:', file_name)\n",
    "        except urllib.error.HTTPError as e:\n",
    "            print(f'HTTPError: {e.code} - {e.reason}')\n",
    "        except Exception as e:\n",
    "            print(f'Error downloading {file_name}: {str(e)}')\n",
    "\n",
    "    def _download_all(self):\n",
    "        for file_name in self.key_file.values():\n",
    "            # Place your file download or processing logic here\n",
    "            print(f\"Processing {file_name}\")\n",
    "            self.download(file_name)\n",
    "\n",
    "    def _load_images(self, file_name):\n",
    "        with gzip.open(file_name, 'rb') as f:\n",
    "            images = np.frombuffer(f.read(), np.uint8, offset=16)\n",
    "        images = images.reshape(-1, self.image_size)\n",
    "        return images\n",
    "\n",
    "    def _load_labels(self, file_name):\n",
    "        with gzip.open(file_name, 'rb') as f:\n",
    "            labels = np.frombuffer(f.read(), np.uint8, offset=8)\n",
    "        return labels\n",
    "\n",
    "    def _create_dataset(self):\n",
    "        self.dataset['train_images'] = self._load_images(f\"{self.dataset_dir}/{self.key_file['train_images']}\")\n",
    "        self.dataset['train_labels'] = self._load_labels(f\"{self.dataset_dir}/{self.key_file['train_labels']}\")\n",
    "        self.dataset['test_images'] = self._load_images(f\"{self.dataset_dir}/{self.key_file['test_images']}\")\n",
    "        self.dataset['test_labels'] = self._load_labels(f\"{self.dataset_dir}/{self.key_file['test_labels']}\")\n",
    "\n",
    "        with open(f\"{self.dataset_pkl_path}\", 'wb') as f:\n",
    "            print(f\"Pickle: {self.dataset_pkl_path} is being created\")\n",
    "            pickle.dump(self.dataset, f)\n",
    "            print('Done.')\n",
    "\n",
    "    def _init_dataset(self):\n",
    "        self._download_all()\n",
    "        if os.path.exists(f'{self.dataset_pkl_path}'):\n",
    "            with open(f\"{self.dataset_pkl_path}\", 'rb') as f:\n",
    "                print(f'Pickle: {self.dataset_pkl_path} already exists.')\n",
    "                print('Loading....')\n",
    "                self.dataset = pickle.load(f)\n",
    "                print('Done.')\n",
    "        else:\n",
    "            self._create_dataset()\n"
   ]
  },
  {
   "cell_type": "code",
   "execution_count": 60,
   "metadata": {},
   "outputs": [
    {
     "name": "stdout",
     "output_type": "stream",
     "text": [
      "Processing train-images-idx3-ubyte.gz\n",
      "File: train-images-idx3-ubyte.gz already exists.\n",
      "Processing train-labels-idx1-ubyte.gz\n",
      "File: train-labels-idx1-ubyte.gz already exists.\n",
      "Processing t10k-images-idx3-ubyte.gz\n",
      "File: t10k-images-idx3-ubyte.gz already exists.\n",
      "Processing t10k-labels-idx1-ubyte.gz\n",
      "File: t10k-labels-idx1-ubyte.gz already exists.\n",
      "Pickle: C:/Users/Nikhi/Pattern Recognition/HW5-2\\mnist.pkl already exists.\n",
      "Loading....\n",
      "Done.\n",
      "Dataset keys: dict_keys(['train_images', 'train_labels', 'test_images', 'test_labels'])\n"
     ]
    }
   ],
   "source": [
    "mnist_data = MnistData()\n",
    "print(\"Dataset keys:\", mnist_data.dataset.keys())  # This should include 'test_labels'"
   ]
  },
  {
   "cell_type": "code",
   "execution_count": null,
   "metadata": {},
   "outputs": [],
   "source": [
    "def _init_dataset(self):\n",
    "    self._download_all()  # Ensure all necessary files are downloaded\n",
    "    \n",
    "    # If the pickle file exists, load the dataset from it\n",
    "    if os.path.exists(self.dataset_pkl_path):\n",
    "        with open(self.dataset_pkl_path, 'rb') as f:\n",
    "            print(f'Pickle: {self.dataset_pkl_path} already exists.')\n",
    "            print('Loading....')\n",
    "            self.dataset = pickle.load(f)\n",
    "            print('Done.')\n",
    "    # Otherwise, create the dataset and save it to a pickle file\n",
    "    else:\n",
    "        self._create_dataset()  # Fixed the missing 'self'\n"
   ]
  },
  {
   "cell_type": "code",
   "execution_count": 55,
   "metadata": {},
   "outputs": [],
   "source": [
    "import numpy as np\n",
    "import gzip\n",
    "import os\n",
    "import urllib.request\n",
    "import pickle\n",
    "\n",
    "class MnistData:\n",
    "    image_size = 28*28\n",
    "    dataset_dir = 'C:/Users/Nikhi/Pattern Recognition/HW5-2'\n",
    "    dataset_pkl = 'mnist.pkl'\n",
    "    url_base = 'http://jrkwon.com/data/ece5831/mnist/' \n",
    "    \n",
    "    key_file = {\n",
    "        'train_images':'train-images-idx3-ubyte.gz',\n",
    "        'train_labels':'train-labels-idx1-ubyte.gz',\n",
    "        'test_images': 'train-images-idx3-ubyte.gz',\n",
    "        'test_labels': 't10k-labels-idx1-ubyte.gz'\n",
    "    }\n",
    "\n",
    "    def __init__ (self):\n",
    "        self.dataset = {}\n",
    "        self.dataset_pkl_path = os.path.join(self.dataset_dir, self.dataset_pkl)\n",
    "\n",
    "        self._init_dataset()\n",
    "\n",
    "    @staticmethod\n",
    "    def _change_one_hot_label(y, num_class):\n",
    "        t = np.zeros((y.size, num_class))\n",
    "        for idx, row in enumerate(t):\n",
    "            row[y[idx]] = 1\n",
    "        return t\n",
    "\n",
    "    def download(self, file_name):\n",
    "        # Construct the directory path\n",
    "        dataset_dir = 'C:/Users/Nikhi/Pattern Recognition/HW5-2'\n",
    "    \n",
    "        # Ensure the directory exists\n",
    "        if not os.path.exists(dataset_dir):\n",
    "            os.makedirs(dataset_dir)  # Create the directory if it doesn't exist\n",
    "\n",
    "        file_path = os.path.join(dataset_dir, file_name)\n",
    "\n",
    "        # Check if the file already exists\n",
    "        if os.path.exists(file_path):\n",
    "            print(f'File: {file_name} already exists.')\n",
    "            return\n",
    "\n",
    "    # Prepare the request with Google Chrome User-Agent\n",
    "        url = url_base + file_name\n",
    "        headers = {\n",
    "            'User-Agent': 'Mozilla/5.0 (Windows NT 10.0; Win64; x64) AppleWebKit/537.36 (KHTML, like Gecko) Chrome/115.0.0.0 Safari/537.36',\n",
    "            'Accept': 'application/octet-stream'\n",
    "        }\n",
    "        request = urllib.request.Request(url, headers=headers)\n",
    "\n",
    "        # Attempt the download with error handling\n",
    "        try:\n",
    "            print(f'Downloading {file_name}...')\n",
    "            with urllib.request.urlopen(request) as response, open(file_path, 'wb') as out_file:\n",
    "                out_file.write(response.read())\n",
    "            print('Download completed:', file_name)\n",
    "        except urllib.error.HTTPError as e:\n",
    "            print(f'HTTPError: {e.code} - {e.reason}')\n",
    "        except Exception as e:\n",
    "            print(f'Error downloading {file_name}: {str(e)}')\n",
    "\n",
    "\n",
    "    def _download_all(self):\n",
    "        for file_name in key_file.values():\n",
    "            # Place your file download or processing logic here\n",
    "            print(f\"Processing {file_name}\")\n",
    "            download(file_name)\n",
    "            # print(\"Downloaded: \", file_name)\n",
    "\n",
    "    def _load_images(self, file_name):\n",
    "        with gzip.open(file_name, 'rb') as f:\n",
    "            images = np.frombuffer(f.read(), np.uint8, offset=16)\n",
    "        images = images.reshape(-1, self.image_size)\n",
    "        return images\n",
    "\n",
    "    def _load_labels(self, file_name):\n",
    "        with gzip.open(file_name, 'rb') as f:\n",
    "            labels = np.frombuffer(f.read(), np.uint8, offset=8)\n",
    "        return labels\n",
    "\n",
    "    def _create_dataset(self):\n",
    "        print(\"Loading train images...\")\n",
    "        train_images = self._load_images(os.path.join(self.dataset_dir, self.key_file['train_images']))\n",
    "        print(f\"Train images shape: {train_images.shape}\")\n",
    "        \n",
    "        print(\"Loading train labels...\")\n",
    "        train_labels = self._load_labels(os.path.join(self.dataset_dir, self.key_file['train_labels']))\n",
    "        print(f\"Train labels shape: {train_labels.shape}\")\n",
    "        \n",
    "        print(\"Loading test images...\")\n",
    "        test_images = self._load_images(os.path.join(self.dataset_dir, self.key_file['test_images']))\n",
    "        print(f\"Test images shape: {test_images.shape}\")\n",
    "        \n",
    "        print(\"Loading test labels...\")\n",
    "        test_labels = self._load_labels(os.path.join(self.dataset_dir, self.key_file['test_labels']))\n",
    "        print(f\"Test labels shape: {test_labels.shape}\")\n",
    "        \n",
    "        # Now populate the self.dataset dictionary\n",
    "        self.dataset['train_images'] = train_images\n",
    "        self.dataset['train_labels'] = train_labels\n",
    "        self.dataset['test_images'] = test_images\n",
    "        self.dataset['test_labels'] = test_labels\n",
    "\n",
    "        # Save the dataset as a pickle\n",
    "        with open(self.dataset_pkl_path, 'wb') as f:\n",
    "            print(f'Pickle: {self.dataset_pkl_path} is being created')\n",
    "            pickle.dump(self.dataset, f)\n",
    "            print('Done.')\n",
    "\n",
    "    def _init_dataset(self):\n",
    "        self._download_all()  # Ensure all necessary files are downloaded\n",
    "        \n",
    "        if os.path.exists(self.dataset_pkl_path):\n",
    "            with open(self.dataset_pkl_path, 'rb') as f:\n",
    "                print(f'Pickle: {self.dataset_pkl_path} already exists.')\n",
    "                print('Loading....')\n",
    "                self.dataset = pickle.load(f)\n",
    "                print('Done.')\n",
    "        else:\n",
    "            self._create_dataset() \n",
    "\n",
    "    def load(self):\n",
    "        #normalize image datasets\n",
    "        for key in ('train_images', 'test_images'):\n",
    "            self.dataset[key] = self.dataset[key].astype(np.float32)\n",
    "            self.dataset[key] /= 255.0\n",
    "\n",
    "        # one-hot encoding\n",
    "        for key in('train_labels', 'test_labels'):\n",
    "            self.dataset[key] = _change_one_hot_label(self.dataset[key], 10)\n",
    "\n",
    "        return (self.dataset['train_images'], self.dataset['train_labels']), \\\n",
    "                (self.dataset['test_images'], self.dataset['test_labels'])\n"
   ]
  },
  {
   "cell_type": "markdown",
   "metadata": {},
   "source": [
    "#### Show the class is working with four examples (two from train and two from test)."
   ]
  },
  {
   "cell_type": "code",
   "execution_count": 56,
   "metadata": {},
   "outputs": [
    {
     "name": "stdout",
     "output_type": "stream",
     "text": [
      "Processing train-images-idx3-ubyte.gz\n",
      "File: train-images-idx3-ubyte.gz already exists.\n",
      "Processing train-labels-idx1-ubyte.gz\n",
      "File: train-labels-idx1-ubyte.gz already exists.\n",
      "Processing train-images-idx3-ubyte.gz\n",
      "File: train-images-idx3-ubyte.gz already exists.\n",
      "Processing t10k-labels-idx1-ubyte.gz\n",
      "File: t10k-labels-idx1-ubyte.gz already exists.\n",
      "Pickle: C:/Users/Nikhi/Pattern Recognition/HW5-2\\mnist.pkl already exists.\n",
      "Loading....\n",
      "Done.\n",
      "Dataset keys: dict_keys(['train_images', 'train_labels', 'test_images', 'test_labels'])\n",
      "First 10 test labels: [[0. 0. 0. 0. 0. 0. 0. 1. 0. 0.]\n",
      " [0. 0. 1. 0. 0. 0. 0. 0. 0. 0.]\n",
      " [0. 1. 0. 0. 0. 0. 0. 0. 0. 0.]\n",
      " [1. 0. 0. 0. 0. 0. 0. 0. 0. 0.]\n",
      " [0. 0. 0. 0. 1. 0. 0. 0. 0. 0.]\n",
      " [0. 1. 0. 0. 0. 0. 0. 0. 0. 0.]\n",
      " [0. 0. 0. 0. 1. 0. 0. 0. 0. 0.]\n",
      " [0. 0. 0. 0. 0. 0. 0. 0. 0. 1.]\n",
      " [0. 0. 0. 0. 0. 1. 0. 0. 0. 0.]\n",
      " [0. 0. 0. 0. 0. 0. 0. 0. 0. 1.]]\n"
     ]
    }
   ],
   "source": [
    "mnist_data = MnistData()\n",
    "\n",
    "\n",
    "# Check if the dataset is loaded properly\n",
    "print(\"Dataset keys:\", mnist_data.dataset.keys())  # Should include 'test_labels'\n",
    "\n",
    "# Access the test labels\n",
    "test_labels = mnist_data.dataset['test_labels']\n",
    "(train_images, train_labels), (test_images, test_labels) = mnist_data.load()\n",
    "# Display the first few test labels\n",
    "print(\"First 10 test labels:\", test_labels[:10])\n"
   ]
  },
  {
   "cell_type": "code",
   "execution_count": 57,
   "metadata": {},
   "outputs": [
    {
     "data": {
      "text/plain": [
       "(60000, 784)"
      ]
     },
     "execution_count": 57,
     "metadata": {},
     "output_type": "execute_result"
    }
   ],
   "source": [
    "test_images.shape"
   ]
  },
  {
   "cell_type": "code",
   "execution_count": 58,
   "metadata": {},
   "outputs": [
    {
     "data": {
      "text/plain": [
       "(10000,)"
      ]
     },
     "execution_count": 58,
     "metadata": {},
     "output_type": "execute_result"
    }
   ],
   "source": [
    "labels.shape\n"
   ]
  },
  {
   "cell_type": "code",
   "execution_count": null,
   "metadata": {},
   "outputs": [],
   "source": []
  },
  {
   "cell_type": "code",
   "execution_count": null,
   "metadata": {},
   "outputs": [],
   "source": []
  }
 ],
 "metadata": {
  "kernelspec": {
   "display_name": "Python 3 (ipykernel)",
   "language": "python",
   "name": "python3"
  },
  "language_info": {
   "codemirror_mode": {
    "name": "ipython",
    "version": 3
   },
   "file_extension": ".py",
   "mimetype": "text/x-python",
   "name": "python",
   "nbconvert_exporter": "python",
   "pygments_lexer": "ipython3",
   "version": "3.11.4"
  }
 },
 "nbformat": 4,
 "nbformat_minor": 2
}
