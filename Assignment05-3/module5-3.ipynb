{
 "cells": [
  {
   "cell_type": "markdown",
   "metadata": {},
   "source": []
  },
  {
   "cell_type": "code",
   "execution_count": 3,
   "metadata": {},
   "outputs": [],
   "source": [
    "import numpy as np\n",
    "import matplotlib.pyplot as plt\n",
    "import cv2\n",
    "import pickle\n",
    "from mnist import Mnist  # Import the Mnist class "
   ]
  },
  {
   "cell_type": "code",
   "execution_count": 4,
   "metadata": {},
   "outputs": [],
   "source": [
    "def load_and_preprocess_image(image_path):\n",
    "    \"\"\"Load and preprocess a single image for prediction.\"\"\"\n",
    "    # Load the image using OpenCV\n",
    "    img = cv2.imread(image_path)\n",
    "\n",
    "    # Check if the image was loaded correctly\n",
    "    if img is None:\n",
    "        raise ValueError(f\"Image not found or unable to load: {image_path}\")\n",
    "\n",
    "    # Convert to grayscale if the image is colored\n",
    "    if img.ndim == 3:\n",
    "        img = cv2.cvtColor(img, cv2.COLOR_BGR2GRAY)\n",
    "\n",
    "    # Resize the image to 28x28 pixels\n",
    "    img = cv2.resize(img, (28, 28))\n",
    "\n",
    "    # Apply binary thresholding to enhance features\n",
    "    _, img = cv2.threshold(img, 127, 255, cv2.THRESH_BINARY_INV)\n",
    "\n",
    "    # Normalize the image data to [0, 1] range\n",
    "    img = img.astype(np.float32) / 255.0\n",
    "\n",
    "    # Flatten the image to (784,) for the model input\n",
    "    img = img.flatten()  # This creates a 1D array of 784 elements\n",
    "\n",
    "    plt.imshow(img.reshape(28, 28), cmap='gray')\n",
    "    plt.title(\"Preprocessed Image\")\n",
    "    plt.show()\n",
    "\n",
    "    return img "
   ]
  },
  {
   "cell_type": "code",
   "execution_count": 25,
   "metadata": {},
   "outputs": [
    {
     "data": {
      "image/png": "[encoded data removed]",
      "text/plain": [
       "<Figure size 640x480 with 1 Axes>"
      ]
     },
     "metadata": {},
     "output_type": "display_data"
    }
   ],
   "source": [
    "Image = load_and_preprocess_image(\"sample.jpg\")"
   ]
  },
  {
   "cell_type": "code",
   "execution_count": 26,
   "metadata": {},
   "outputs": [
    {
     "data": {
      "text/plain": [
       "numpy.ndarray"
      ]
     },
     "execution_count": 26,
     "metadata": {},
     "output_type": "execute_result"
    }
   ],
   "source": [
    "type(Image) # one dimensional array of 784 elements !!"
   ]
  },
  {
   "cell_type": "markdown",
   "metadata": {},
   "source": [
    "### Check for sigmoid function"
   ]
  },
  {
   "cell_type": "code",
   "execution_count": 8,
   "metadata": {},
   "outputs": [],
   "source": [
    "def sigmoid(x):\n",
    "        return 1 / (1 + np.exp(-x))"
   ]
  },
  {
   "cell_type": "code",
   "execution_count": 9,
   "metadata": {},
   "outputs": [
    {
     "data": {
      "text/plain": [
       "0.9999546021312976"
      ]
     },
     "execution_count": 9,
     "metadata": {},
     "output_type": "execute_result"
    }
   ],
   "source": [
    "sigmoid(10)"
   ]
  },
  {
   "cell_type": "code",
   "execution_count": 10,
   "metadata": {},
   "outputs": [],
   "source": [
    "#check for softmax function\n",
    "def softmax(a):\n",
    "    c = np.max(a)\n",
    "    exp_a = np.exp(a - c)\n",
    "    return exp_a / np.sum(exp_a)"
   ]
  },
  {
   "cell_type": "code",
   "execution_count": 11,
   "metadata": {},
   "outputs": [
    {
     "data": {
      "text/plain": [
       "array([4.24835425e-18, 9.35762295e-14, 2.06115362e-09, 9.99999998e-01])"
      ]
     },
     "execution_count": 11,
     "metadata": {},
     "output_type": "execute_result"
    }
   ],
   "source": [
    "softmax([10,20,30,50])"
   ]
  },
  {
   "cell_type": "code",
   "execution_count": 28,
   "metadata": {},
   "outputs": [],
   "source": [
    "#function for Loading the weights \n",
    "import os \n",
    "def init_network():\n",
    "    file_path = 'sample_weight.pkl'\n",
    "    if not os.path.exists(file_path):\n",
    "        raise FileNotFoundError(f\"File not found: {file_path}\")\n",
    "    \n",
    "    with open(file_path, 'rb') as f:\n",
    "        try:\n",
    "            params = pickle.load(f, encoding='latin1')  # Add encoding if compatibility is an issue\n",
    "            print(\"Network initialized successfully.\")\n",
    "            return params\n",
    "        except Exception as e:\n",
    "            print(\"Error loading network:\", e)\n",
    "            return None"
   ]
  },
  {
   "cell_type": "code",
   "execution_count": 29,
   "metadata": {},
   "outputs": [
    {
     "name": "stdout",
     "output_type": "stream",
     "text": [
      "Network initialized successfully.\n"
     ]
    }
   ],
   "source": [
    "params_dict = init_network()"
   ]
  },
  {
   "cell_type": "code",
   "execution_count": 30,
   "metadata": {},
   "outputs": [],
   "source": [
    "# Predict function \n",
    "def predict(x):\n",
    "        w1, w2, w3 = params_dict['W1'], params_dict['W2'], params_dict['W3']\n",
    "        b1, b2, b3 = params_dict['b1'], params_dict['b2'], params_dict['b3']\n",
    "\n",
    "        a1 = np.dot(x, w1) + b1\n",
    "        z1 = sigmoid(a1)\n",
    "\n",
    "        a2 = np.dot(z1, w2) + b2\n",
    "        z2 = sigmoid(a2)\n",
    "\n",
    "        a3 = np.dot(z2, w3) + b3\n",
    "        y =  softmax(a3)\n",
    "        return y"
   ]
  },
  {
   "cell_type": "code",
   "execution_count": 31,
   "metadata": {},
   "outputs": [
    {
     "data": {
      "text/plain": [
       "array([0.01661317, 0.04230091, 0.11368436, 0.11830398, 0.03712232,\n",
       "       0.14367911, 0.07438006, 0.15945564, 0.1421485 , 0.15231197],\n",
       "      dtype=float32)"
      ]
     },
     "execution_count": 31,
     "metadata": {},
     "output_type": "execute_result"
    }
   ],
   "source": [
    "predict(Image)"
   ]
  }
 ],
 "metadata": {
  "kernelspec": {
   "display_name": "ece5831-2024",
   "language": "python",
   "name": "python3"
  },
  "language_info": {
   "codemirror_mode": {
    "name": "ipython",
    "version": 3
   },
   "file_extension": ".py",
   "mimetype": "text/x-python",
   "name": "python",
   "nbconvert_exporter": "python",
   "pygments_lexer": "ipython3",
   "version": "3.12.5"
  }
 },
 "nbformat": 4,
 "nbformat_minor": 2
}
