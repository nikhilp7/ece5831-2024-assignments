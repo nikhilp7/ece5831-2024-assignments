{
 "cells": [
  {
   "cell_type": "code",
   "execution_count": 1,
   "id": "1c70c350",
   "metadata": {},
   "outputs": [],
   "source": [
    "# Variable Initialization \n",
    "x1, x2 = 1, 2\n",
    "w1, w2 = 0.4, 0.8\n",
    "th = 0.5"
   ]
  },
  {
   "cell_type": "markdown",
   "id": "f6331fad",
   "metadata": {},
   "source": [
    "#### Following is the output variable conditions\n",
    "\n",
    "```\n",
    "y = 0 (x1*w1 + x2*w2) <= th\n",
    "y = 1 (x1*w1 + x2*w2) <= th\n",
    "\n",
    "```"
   ]
  },
  {
   "cell_type": "code",
   "execution_count": 2,
   "id": "f4cc9981",
   "metadata": {},
   "outputs": [],
   "source": [
    "# Code Implementation\n",
    "\n",
    "output = x1*w1 + x2*w2"
   ]
  },
  {
   "cell_type": "code",
   "execution_count": 3,
   "id": "a1c2e700",
   "metadata": {},
   "outputs": [
    {
     "name": "stdout",
     "output_type": "stream",
     "text": [
      "2.0\n"
     ]
    }
   ],
   "source": [
    "# Print Output\n",
    "\n",
    "print(output)"
   ]
  },
  {
   "cell_type": "code",
   "execution_count": 4,
   "id": "48cff2bb",
   "metadata": {},
   "outputs": [
    {
     "name": "stdout",
     "output_type": "stream",
     "text": [
      "1\n"
     ]
    }
   ],
   "source": [
    "if output <= th:\n",
    "    y = 0\n",
    "else:\n",
    "    y = 1\n",
    "    \n",
    "print(y) # print the value of y"
   ]
  },
  {
   "cell_type": "code",
   "execution_count": 5,
   "id": "fba5fb8c",
   "metadata": {},
   "outputs": [],
   "source": [
    "def andd(x1, x2):\n",
    "    w1, w2 = 0.5, 0.5\n",
    "\n",
    "    th = 0.8 # threshold\n",
    "    \n",
    "    y= x1*w1 + x2*w2\n",
    "    \n",
    "    #Defining AND gate\n",
    "    if y <= th:\n",
    "        return 0\n",
    "    else:\n",
    "        return 1"
   ]
  },
  {
   "cell_type": "markdown",
   "id": "474e1f74",
   "metadata": {},
   "source": [
    "Testing andd() function!"
   ]
  },
  {
   "cell_type": "code",
   "execution_count": 6,
   "id": "2b959ae7",
   "metadata": {},
   "outputs": [
    {
     "data": {
      "text/plain": [
       "0"
      ]
     },
     "execution_count": 6,
     "metadata": {},
     "output_type": "execute_result"
    }
   ],
   "source": [
    "andd(0, 0)"
   ]
  },
  {
   "cell_type": "code",
   "execution_count": 7,
   "id": "9882569c",
   "metadata": {},
   "outputs": [
    {
     "data": {
      "text/plain": [
       "0"
      ]
     },
     "execution_count": 7,
     "metadata": {},
     "output_type": "execute_result"
    }
   ],
   "source": [
    "andd(0, 1)"
   ]
  },
  {
   "cell_type": "code",
   "execution_count": 8,
   "id": "712cdcef",
   "metadata": {},
   "outputs": [
    {
     "data": {
      "text/plain": [
       "0"
      ]
     },
     "execution_count": 8,
     "metadata": {},
     "output_type": "execute_result"
    }
   ],
   "source": [
    "andd(1, 0)"
   ]
  },
  {
   "cell_type": "code",
   "execution_count": 9,
   "id": "6151dc17",
   "metadata": {},
   "outputs": [
    {
     "data": {
      "text/plain": [
       "1"
      ]
     },
     "execution_count": 9,
     "metadata": {},
     "output_type": "execute_result"
    }
   ],
   "source": [
    "andd(1, 1)"
   ]
  },
  {
   "cell_type": "markdown",
   "id": "7cb17009",
   "metadata": {},
   "source": [
    "NAND gate using AND gate function and reversing the output conditions."
   ]
  },
  {
   "cell_type": "code",
   "execution_count": 10,
   "id": "c9c68524",
   "metadata": {},
   "outputs": [],
   "source": [
    "def nand(x1, x2):\n",
    "    y = andd(x1, x2)\n",
    "    \n",
    "    #reversing output of AND gate for NAND gate\n",
    "    if y == 1:\n",
    "        return 0\n",
    "    else:\n",
    "        return 1"
   ]
  },
  {
   "cell_type": "markdown",
   "id": "44862214",
   "metadata": {},
   "source": [
    "Testing nand() function!"
   ]
  },
  {
   "cell_type": "code",
   "execution_count": 11,
   "id": "5be71170",
   "metadata": {},
   "outputs": [
    {
     "data": {
      "text/plain": [
       "1"
      ]
     },
     "execution_count": 11,
     "metadata": {},
     "output_type": "execute_result"
    }
   ],
   "source": [
    "nand(0, 0)"
   ]
  },
  {
   "cell_type": "code",
   "execution_count": 12,
   "id": "8856ab07",
   "metadata": {},
   "outputs": [
    {
     "data": {
      "text/plain": [
       "1"
      ]
     },
     "execution_count": 12,
     "metadata": {},
     "output_type": "execute_result"
    }
   ],
   "source": [
    "nand(0, 1)"
   ]
  },
  {
   "cell_type": "code",
   "execution_count": 14,
   "id": "47ff22d2",
   "metadata": {},
   "outputs": [
    {
     "data": {
      "text/plain": [
       "1"
      ]
     },
     "execution_count": 14,
     "metadata": {},
     "output_type": "execute_result"
    }
   ],
   "source": [
    "nand(1, 0)"
   ]
  },
  {
   "cell_type": "code",
   "execution_count": 16,
   "id": "30e49e21",
   "metadata": {},
   "outputs": [
    {
     "data": {
      "text/plain": [
       "0"
      ]
     },
     "execution_count": 16,
     "metadata": {},
     "output_type": "execute_result"
    }
   ],
   "source": [
    "nand(1, 1)"
   ]
  },
  {
   "cell_type": "markdown",
   "id": "3e3bce39",
   "metadata": {},
   "source": [
    "### Another approach to implementing the NAND gate is to use the original computation for 'y' but invert the input weights and adjust the threshold condition accordingly."
   ]
  },
  {
   "cell_type": "code",
   "execution_count": 17,
   "id": "81a8ea67",
   "metadata": {},
   "outputs": [],
   "source": [
    "def nand_i(x1, x2):\n",
    "    w1, w2 = -0.3, -0.3\n",
    "\n",
    "    th = -0.6 \n",
    "    \n",
    "    y= x1*w1 + x2*w2\n",
    "    \n",
    "    if y <= th:\n",
    "        return 0\n",
    "    else:\n",
    "        return 1"
   ]
  },
  {
   "cell_type": "code",
   "execution_count": 18,
   "id": "54512129",
   "metadata": {},
   "outputs": [
    {
     "data": {
      "text/plain": [
       "1"
      ]
     },
     "execution_count": 18,
     "metadata": {},
     "output_type": "execute_result"
    }
   ],
   "source": [
    "nand_i(0, 0)"
   ]
  },
  {
   "cell_type": "code",
   "execution_count": 19,
   "id": "99bbc609",
   "metadata": {},
   "outputs": [
    {
     "data": {
      "text/plain": [
       "1"
      ]
     },
     "execution_count": 19,
     "metadata": {},
     "output_type": "execute_result"
    }
   ],
   "source": [
    "nand_i(1, 0)"
   ]
  },
  {
   "cell_type": "code",
   "execution_count": 20,
   "id": "05c346e7",
   "metadata": {},
   "outputs": [
    {
     "data": {
      "text/plain": [
       "1"
      ]
     },
     "execution_count": 20,
     "metadata": {},
     "output_type": "execute_result"
    }
   ],
   "source": [
    "nand_i(0, 1)"
   ]
  },
  {
   "cell_type": "code",
   "execution_count": 21,
   "id": "9fd399c9",
   "metadata": {},
   "outputs": [
    {
     "data": {
      "text/plain": [
       "0"
      ]
     },
     "execution_count": 21,
     "metadata": {},
     "output_type": "execute_result"
    }
   ],
   "source": [
    "nand_i(1, 1)"
   ]
  },
  {
   "cell_type": "markdown",
   "id": "f80fcad1",
   "metadata": {},
   "source": [
    "### OR gate"
   ]
  },
  {
   "cell_type": "code",
   "execution_count": 22,
   "id": "adab2383",
   "metadata": {},
   "outputs": [],
   "source": [
    "def orr(x1, x2):\n",
    "    w1, w2, th = 0.7, 0.7, 0.4\n",
    "    \n",
    "# We've put all three variables in one line to make the code shorter. \n",
    "# In the same way, we can also write the conditions and results in one line, so we don't need to use 'y' separately.\n",
    "    \n",
    "    return 0 if x1*w1 + x2*w2 <= th else 1"
   ]
  },
  {
   "cell_type": "markdown",
   "id": "3dabd978",
   "metadata": {},
   "source": [
    "Testing orr() function!"
   ]
  },
  {
   "cell_type": "code",
   "execution_count": 23,
   "id": "7aa91bc8",
   "metadata": {},
   "outputs": [
    {
     "data": {
      "text/plain": [
       "0"
      ]
     },
     "execution_count": 23,
     "metadata": {},
     "output_type": "execute_result"
    }
   ],
   "source": [
    "orr(0, 0)"
   ]
  },
  {
   "cell_type": "code",
   "execution_count": 24,
   "id": "6d24c30d",
   "metadata": {},
   "outputs": [
    {
     "data": {
      "text/plain": [
       "1"
      ]
     },
     "execution_count": 24,
     "metadata": {},
     "output_type": "execute_result"
    }
   ],
   "source": [
    "orr(0, 1)"
   ]
  },
  {
   "cell_type": "code",
   "execution_count": 25,
   "id": "eb56f98f",
   "metadata": {},
   "outputs": [
    {
     "data": {
      "text/plain": [
       "1"
      ]
     },
     "execution_count": 25,
     "metadata": {},
     "output_type": "execute_result"
    }
   ],
   "source": [
    "orr(1, 0)"
   ]
  },
  {
   "cell_type": "code",
   "execution_count": 26,
   "id": "4370da4f",
   "metadata": {},
   "outputs": [
    {
     "data": {
      "text/plain": [
       "1"
      ]
     },
     "execution_count": 26,
     "metadata": {},
     "output_type": "execute_result"
    }
   ],
   "source": [
    "orr(1, 1)"
   ]
  },
  {
   "cell_type": "markdown",
   "id": "1521868e",
   "metadata": {},
   "source": [
    "### Implementing logic gates using list of input combination"
   ]
  },
  {
   "cell_type": "code",
   "execution_count": 27,
   "id": "2bc95b3c",
   "metadata": {},
   "outputs": [],
   "source": [
    "# Input combinations list initializing\n",
    "ab = [ (0, 0), (1, 0), (0, 1), (1, 1)]"
   ]
  },
  {
   "cell_type": "code",
   "execution_count": 28,
   "id": "5047fee1",
   "metadata": {},
   "outputs": [
    {
     "data": {
      "text/plain": [
       "[(0, 0), (1, 0), (0, 1), (1, 1)]"
      ]
     },
     "execution_count": 28,
     "metadata": {},
     "output_type": "execute_result"
    }
   ],
   "source": [
    "ab"
   ]
  },
  {
   "cell_type": "markdown",
   "id": "2a7fe4c8",
   "metadata": {},
   "source": [
    "Implementing logic condition in for loop for OR gate"
   ]
  },
  {
   "cell_type": "code",
   "execution_count": 29,
   "id": "cf4f98ce",
   "metadata": {},
   "outputs": [
    {
     "name": "stdout",
     "output_type": "stream",
     "text": [
      "0 OR 0 gives 0\n",
      "1 OR 0 gives 1\n",
      "0 OR 1 gives 1\n",
      "1 OR 1 gives 1\n"
     ]
    }
   ],
   "source": [
    "for a in ab:\n",
    "    b = orr(a[0], a[1])\n",
    "    print('{} OR {} gives {}'.format(a[0], a[1], b))"
   ]
  },
  {
   "cell_type": "markdown",
   "id": "82191e3f",
   "metadata": {},
   "source": [
    "### NOR gate"
   ]
  },
  {
   "cell_type": "markdown",
   "id": "4319eb86",
   "metadata": {},
   "source": [
    "### First, by negating the input weights of OR gate"
   ]
  },
  {
   "cell_type": "code",
   "execution_count": 30,
   "id": "6ff3d934",
   "metadata": {},
   "outputs": [],
   "source": [
    "def nor(x1, x2):\n",
    "    w1, w2, th = -0.7, -0.7, -0.4\n",
    "    \n",
    "    #Defined all 3 variables in single line to reduce no.of code lines\n",
    "    #We can also provide conditions and output in single line without defining 'y'\n",
    "    \n",
    "    return 0 if x1*w1 + x2*w2 <= th else 1"
   ]
  },
  {
   "cell_type": "markdown",
   "id": "f29d0ada",
   "metadata": {},
   "source": [
    "Testing nor() "
   ]
  },
  {
   "cell_type": "code",
   "execution_count": 31,
   "id": "0a7a8f35",
   "metadata": {},
   "outputs": [
    {
     "data": {
      "text/plain": [
       "1"
      ]
     },
     "execution_count": 31,
     "metadata": {},
     "output_type": "execute_result"
    }
   ],
   "source": [
    "nor(0, 0)"
   ]
  },
  {
   "cell_type": "code",
   "execution_count": 32,
   "id": "eaa2cf14",
   "metadata": {},
   "outputs": [
    {
     "data": {
      "text/plain": [
       "0"
      ]
     },
     "execution_count": 32,
     "metadata": {},
     "output_type": "execute_result"
    }
   ],
   "source": [
    "nor(1, 0)"
   ]
  },
  {
   "cell_type": "code",
   "execution_count": 33,
   "id": "686d6e8d",
   "metadata": {},
   "outputs": [
    {
     "data": {
      "text/plain": [
       "0"
      ]
     },
     "execution_count": 33,
     "metadata": {},
     "output_type": "execute_result"
    }
   ],
   "source": [
    "nor(0, 1)"
   ]
  },
  {
   "cell_type": "code",
   "execution_count": 34,
   "id": "168f09b6",
   "metadata": {},
   "outputs": [
    {
     "data": {
      "text/plain": [
       "0"
      ]
     },
     "execution_count": 34,
     "metadata": {},
     "output_type": "execute_result"
    }
   ],
   "source": [
    "nor(1, 1)"
   ]
  },
  {
   "cell_type": "markdown",
   "id": "1a02c8b3",
   "metadata": {},
   "source": [
    "### Second, by reversing the OR logic gate conditions"
   ]
  },
  {
   "cell_type": "code",
   "execution_count": 35,
   "id": "87545553",
   "metadata": {},
   "outputs": [],
   "source": [
    "def nor_i(x1, x2):\n",
    "    y = orr(x1, x2)\n",
    "    \n",
    "    #reversing the output conditions of OR gate for NOR gate\n",
    "    if y == 0:\n",
    "        return 1\n",
    "    else:\n",
    "        return 0"
   ]
  },
  {
   "cell_type": "code",
   "execution_count": 36,
   "id": "63db6450",
   "metadata": {},
   "outputs": [
    {
     "data": {
      "text/plain": [
       "1"
      ]
     },
     "execution_count": 36,
     "metadata": {},
     "output_type": "execute_result"
    }
   ],
   "source": [
    "nor_i(0, 0)"
   ]
  },
  {
   "cell_type": "code",
   "execution_count": 37,
   "id": "08a2c04e",
   "metadata": {},
   "outputs": [
    {
     "data": {
      "text/plain": [
       "0"
      ]
     },
     "execution_count": 37,
     "metadata": {},
     "output_type": "execute_result"
    }
   ],
   "source": [
    "nor_i(0, 1)"
   ]
  },
  {
   "cell_type": "code",
   "execution_count": 38,
   "id": "dfb0cefa",
   "metadata": {},
   "outputs": [
    {
     "data": {
      "text/plain": [
       "0"
      ]
     },
     "execution_count": 38,
     "metadata": {},
     "output_type": "execute_result"
    }
   ],
   "source": [
    "nor_i(1, 0)"
   ]
  },
  {
   "cell_type": "code",
   "execution_count": 39,
   "id": "1213416e",
   "metadata": {},
   "outputs": [
    {
     "data": {
      "text/plain": [
       "0"
      ]
     },
     "execution_count": 39,
     "metadata": {},
     "output_type": "execute_result"
    }
   ],
   "source": [
    "nor_i(1, 1)"
   ]
  },
  {
   "cell_type": "markdown",
   "id": "4b834eb5",
   "metadata": {},
   "source": [
    "### Numpy for logic gates implementation - element-wise multiplication"
   ]
  },
  {
   "cell_type": "code",
   "execution_count": 40,
   "id": "374f7198",
   "metadata": {},
   "outputs": [],
   "source": [
    "c = [1, 1]\n",
    "d = [0.7, 0.7]"
   ]
  },
  {
   "cell_type": "code",
   "execution_count": 41,
   "id": "fc887bc5",
   "metadata": {},
   "outputs": [],
   "source": [
    "import numpy as np"
   ]
  },
  {
   "cell_type": "code",
   "execution_count": 42,
   "id": "9e5f44a4",
   "metadata": {},
   "outputs": [],
   "source": [
    "# numpy arrays\n",
    "nc = np.array(c)\n",
    "nd = np.array(d)"
   ]
  },
  {
   "cell_type": "markdown",
   "id": "36cd0676",
   "metadata": {},
   "source": [
    "For using the function 'y = x1*w1 + x2*w2' we need to add the product of nx and nw using np.sum() "
   ]
  },
  {
   "cell_type": "code",
   "execution_count": 43,
   "id": "2cbd0d0b",
   "metadata": {},
   "outputs": [
    {
     "data": {
      "text/plain": [
       "1.4"
      ]
     },
     "execution_count": 43,
     "metadata": {},
     "output_type": "execute_result"
    }
   ],
   "source": [
    "np.sum(nc*nd)"
   ]
  },
  {
   "cell_type": "markdown",
   "id": "4259513c",
   "metadata": {},
   "source": [
    "For simple calculation using numpy we can bias instead of threshold.\n",
    "Therefore, the conditions will go as follows:-\n",
    "\n",
    "        a = 0 (c1*d1 + c2*d2 + x <= 0)\n",
    "        a = 1 (c1*d1 +c2*d2 + x > 1)"
   ]
  },
  {
   "cell_type": "markdown",
   "id": "002c9306",
   "metadata": {},
   "source": [
    "### OR gate implementation using numpy"
   ]
  },
  {
   "cell_type": "code",
   "execution_count": 44,
   "id": "4c062fa0",
   "metadata": {},
   "outputs": [],
   "source": [
    "\n",
    "def orr_numpy(x1, x2):\n",
    "    x = np.array([x1, x2])\n",
    "    \n",
    "    w = np.array([0.5, 0.5])\n",
    "    b = -0.2\n",
    "    y = np.sum(x*w) + b\n",
    "    \n",
    "    return 1 if y > 0 else 0 "
   ]
  },
  {
   "cell_type": "markdown",
   "id": "79879b2e",
   "metadata": {},
   "source": [
    "Testing orr_numpy() function!"
   ]
  },
  {
   "cell_type": "code",
   "execution_count": 45,
   "id": "a5dacbde",
   "metadata": {},
   "outputs": [
    {
     "data": {
      "text/plain": [
       "0"
      ]
     },
     "execution_count": 45,
     "metadata": {},
     "output_type": "execute_result"
    }
   ],
   "source": [
    "orr_numpy(0, 0)"
   ]
  },
  {
   "cell_type": "code",
   "execution_count": 46,
   "id": "86d7d5ca",
   "metadata": {},
   "outputs": [
    {
     "data": {
      "text/plain": [
       "1"
      ]
     },
     "execution_count": 46,
     "metadata": {},
     "output_type": "execute_result"
    }
   ],
   "source": [
    "orr_numpy(1, 0)"
   ]
  },
  {
   "cell_type": "code",
   "execution_count": 47,
   "id": "4b5240eb",
   "metadata": {},
   "outputs": [
    {
     "data": {
      "text/plain": [
       "1"
      ]
     },
     "execution_count": 47,
     "metadata": {},
     "output_type": "execute_result"
    }
   ],
   "source": [
    "orr_numpy(0, 1)"
   ]
  },
  {
   "cell_type": "code",
   "execution_count": 48,
   "id": "dc1678c1",
   "metadata": {},
   "outputs": [
    {
     "data": {
      "text/plain": [
       "1"
      ]
     },
     "execution_count": 48,
     "metadata": {},
     "output_type": "execute_result"
    }
   ],
   "source": [
    "orr_numpy(1, 1)"
   ]
  },
  {
   "cell_type": "markdown",
   "id": "e34fb051",
   "metadata": {},
   "source": [
    "### AND gate implementation using numpy"
   ]
  },
  {
   "cell_type": "code",
   "execution_count": 49,
   "id": "e6f3b3cd",
   "metadata": {},
   "outputs": [],
   "source": [
    "\n",
    "def andd_numpy(x1, x2):\n",
    "    x = np.array([x1, x2])\n",
    "    \n",
    "    w = np.array([0.5, 0.5])\n",
    "    b = -0.7\n",
    "    y = np.sum(x*w) + b\n",
    "    \n",
    "    return 1 if y > 0 else 0 "
   ]
  },
  {
   "cell_type": "markdown",
   "id": "fc4c32a0",
   "metadata": {},
   "source": [
    "Testing andd_numpy() function!"
   ]
  },
  {
   "cell_type": "code",
   "execution_count": 50,
   "id": "58280f66",
   "metadata": {},
   "outputs": [
    {
     "data": {
      "text/plain": [
       "0"
      ]
     },
     "execution_count": 50,
     "metadata": {},
     "output_type": "execute_result"
    }
   ],
   "source": [
    "andd_numpy(0, 0)"
   ]
  },
  {
   "cell_type": "code",
   "execution_count": 51,
   "id": "350acdec",
   "metadata": {},
   "outputs": [
    {
     "data": {
      "text/plain": [
       "0"
      ]
     },
     "execution_count": 51,
     "metadata": {},
     "output_type": "execute_result"
    }
   ],
   "source": [
    "andd_numpy(0, 1)"
   ]
  },
  {
   "cell_type": "code",
   "execution_count": 52,
   "id": "ad6c9030",
   "metadata": {},
   "outputs": [
    {
     "data": {
      "text/plain": [
       "0"
      ]
     },
     "execution_count": 52,
     "metadata": {},
     "output_type": "execute_result"
    }
   ],
   "source": [
    "andd_numpy(1, 0)"
   ]
  },
  {
   "cell_type": "code",
   "execution_count": 53,
   "id": "e3ecc9d6",
   "metadata": {},
   "outputs": [
    {
     "data": {
      "text/plain": [
       "1"
      ]
     },
     "execution_count": 53,
     "metadata": {},
     "output_type": "execute_result"
    }
   ],
   "source": [
    "andd_numpy(1, 1)"
   ]
  },
  {
   "cell_type": "markdown",
   "id": "f66a9ffd",
   "metadata": {},
   "source": [
    "### NAND gate implementation using numpy"
   ]
  },
  {
   "cell_type": "code",
   "execution_count": 54,
   "id": "22209ffb",
   "metadata": {},
   "outputs": [],
   "source": [
    "# We can just reverse the output conditions of AND gate logic\n",
    "\n",
    "def nand_numpy(x1, x2):\n",
    "    return 1 if andd_numpy(x1, x2) == 0 else 0"
   ]
  },
  {
   "cell_type": "markdown",
   "id": "be5bd1c0",
   "metadata": {},
   "source": [
    "Testing nand_numpy() function!"
   ]
  },
  {
   "cell_type": "code",
   "execution_count": 55,
   "id": "4633653e",
   "metadata": {},
   "outputs": [
    {
     "data": {
      "text/plain": [
       "1"
      ]
     },
     "execution_count": 55,
     "metadata": {},
     "output_type": "execute_result"
    }
   ],
   "source": [
    "nand_numpy(0, 0)"
   ]
  },
  {
   "cell_type": "code",
   "execution_count": 56,
   "id": "3f65e39d",
   "metadata": {},
   "outputs": [
    {
     "data": {
      "text/plain": [
       "1"
      ]
     },
     "execution_count": 56,
     "metadata": {},
     "output_type": "execute_result"
    }
   ],
   "source": [
    "nand_numpy(0, 1)"
   ]
  },
  {
   "cell_type": "code",
   "execution_count": 57,
   "id": "b70e6ca5",
   "metadata": {},
   "outputs": [
    {
     "data": {
      "text/plain": [
       "1"
      ]
     },
     "execution_count": 57,
     "metadata": {},
     "output_type": "execute_result"
    }
   ],
   "source": [
    "nand_numpy(1, 0)"
   ]
  },
  {
   "cell_type": "code",
   "execution_count": 58,
   "id": "0686fe64",
   "metadata": {},
   "outputs": [
    {
     "data": {
      "text/plain": [
       "0"
      ]
     },
     "execution_count": 58,
     "metadata": {},
     "output_type": "execute_result"
    }
   ],
   "source": [
    "nand_numpy(1, 1)"
   ]
  },
  {
   "cell_type": "markdown",
   "id": "7cea5e83",
   "metadata": {},
   "source": [
    "### Implement NOR gate by reversing the OR gate conditions same way"
   ]
  },
  {
   "cell_type": "code",
   "execution_count": 67,
   "id": "dc32cd84",
   "metadata": {},
   "outputs": [],
   "source": [
    "def nor_numpy(x1, x2):\n",
    "    return 1 if orr_numpy(x1, x2) == 0 else 0"
   ]
  },
  {
   "cell_type": "code",
   "execution_count": 68,
   "id": "275986be",
   "metadata": {},
   "outputs": [
    {
     "data": {
      "text/plain": [
       "1"
      ]
     },
     "execution_count": 68,
     "metadata": {},
     "output_type": "execute_result"
    }
   ],
   "source": [
    "nor_numpy(0, 0)"
   ]
  },
  {
   "cell_type": "code",
   "execution_count": 69,
   "id": "f1bb30b8",
   "metadata": {},
   "outputs": [
    {
     "data": {
      "text/plain": [
       "0"
      ]
     },
     "execution_count": 69,
     "metadata": {},
     "output_type": "execute_result"
    }
   ],
   "source": [
    "nor_numpy(1, 0)"
   ]
  },
  {
   "cell_type": "code",
   "execution_count": 70,
   "id": "7892fd48",
   "metadata": {},
   "outputs": [
    {
     "data": {
      "text/plain": [
       "0"
      ]
     },
     "execution_count": 70,
     "metadata": {},
     "output_type": "execute_result"
    }
   ],
   "source": [
    "nor_numpy(0, 1)"
   ]
  },
  {
   "cell_type": "code",
   "execution_count": 71,
   "id": "b2962c57",
   "metadata": {},
   "outputs": [
    {
     "data": {
      "text/plain": [
       "0"
      ]
     },
     "execution_count": 71,
     "metadata": {},
     "output_type": "execute_result"
    }
   ],
   "source": [
    "nor_numpy(1, 1)"
   ]
  },
  {
   "cell_type": "markdown",
   "id": "b9083fa4",
   "metadata": {},
   "source": [
    "### XOR gate\n"
   ]
  },
  {
   "cell_type": "code",
   "execution_count": 72,
   "id": "4aea33ba",
   "metadata": {},
   "outputs": [],
   "source": [
    "\n",
    "def xor_numpy(x1, x2):\n",
    "    y1 = orr_numpy(x1, x2)\n",
    "    y2 = nand_numpy(x1, x2)\n",
    "    y = andd_numpy(y1, y2)\n",
    "    \n",
    "    return y"
   ]
  },
  {
   "cell_type": "markdown",
   "id": "bef117c4",
   "metadata": {},
   "source": [
    "Testing xor_numpy() function!"
   ]
  },
  {
   "cell_type": "code",
   "execution_count": 73,
   "id": "f8316fe6",
   "metadata": {},
   "outputs": [
    {
     "data": {
      "text/plain": [
       "0"
      ]
     },
     "execution_count": 73,
     "metadata": {},
     "output_type": "execute_result"
    }
   ],
   "source": [
    "xor_numpy(0, 0)"
   ]
  },
  {
   "cell_type": "code",
   "execution_count": 74,
   "id": "0b2cc4d2",
   "metadata": {},
   "outputs": [
    {
     "data": {
      "text/plain": [
       "1"
      ]
     },
     "execution_count": 74,
     "metadata": {},
     "output_type": "execute_result"
    }
   ],
   "source": [
    "xor_numpy(1, 0)"
   ]
  },
  {
   "cell_type": "code",
   "execution_count": 75,
   "id": "3fa9d9d7",
   "metadata": {},
   "outputs": [
    {
     "data": {
      "text/plain": [
       "1"
      ]
     },
     "execution_count": 75,
     "metadata": {},
     "output_type": "execute_result"
    }
   ],
   "source": [
    "xor_numpy(0, 1)"
   ]
  },
  {
   "cell_type": "code",
   "execution_count": 76,
   "id": "6ed6bb0e",
   "metadata": {},
   "outputs": [
    {
     "data": {
      "text/plain": [
       "0"
      ]
     },
     "execution_count": 76,
     "metadata": {},
     "output_type": "execute_result"
    }
   ],
   "source": [
    "xor_numpy(1, 1)"
   ]
  }
 ],
 "metadata": {
  "kernelspec": {
   "display_name": "Python 3 (ipykernel)",
   "language": "python",
   "name": "python3"
  },
  "language_info": {
   "codemirror_mode": {
    "name": "ipython",
    "version": 3
   },
   "file_extension": ".py",
   "mimetype": "text/x-python",
   "name": "python",
   "nbconvert_exporter": "python",
   "pygments_lexer": "ipython3",
   "version": "3.11.4"
  }
 },
 "nbformat": 4,
 "nbformat_minor": 5
}
