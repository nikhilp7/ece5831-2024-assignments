{
 "cells": [
  {
   "cell_type": "markdown",
   "id": "1718fc12",
   "metadata": {},
   "source": [
    "# Section 11. Modules & Packages"
   ]
  },
  {
   "cell_type": "markdown",
   "id": "e2859f78",
   "metadata": {},
   "source": [
    "## Python Modules\n",
    "\n",
    "\n",
    "#### Introduction to Python modules\n",
    "\n",
    "\n",
    "A module is a piece of software that has a specific functionality. A Python module is a file that contains Python code.\n",
    "\n",
    "For example, when building a shopping cart application, you can have one module for calculating prices and another module for managing items in the cart. Each module is a separate Python source code file.\n",
    "\n",
    "A module has a name specified by the filename without the .py extension. For example, if you have a file called pricing.py, the module name is pricing."
   ]
  },
  {
   "cell_type": "markdown",
   "id": "f8a77624",
   "metadata": {},
   "source": [
    "#### Writing Python modules"
   ]
  },
  {
   "cell_type": "code",
   "execution_count": 1,
   "id": "520d60d4",
   "metadata": {},
   "outputs": [],
   "source": [
    "def get_net_price(price, tax_rate, discount=0):\n",
    "    return price * (1 + tax_rate) * (1-discount)\n",
    "\n",
    "\n",
    "def get_tax(price, tax_rate=0):\n",
    "    return price * tax_rate"
   ]
  },
  {
   "cell_type": "markdown",
   "id": "fdf69770",
   "metadata": {},
   "source": [
    "#### Importing module objects\n",
    "\n",
    "#### 1) import  module_name"
   ]
  },
  {
   "cell_type": "code",
   "execution_count": 6,
   "id": "9c67c987",
   "metadata": {},
   "outputs": [],
   "source": [
    "import module_name"
   ]
  },
  {
   "cell_type": "code",
   "execution_count": 7,
   "id": "4b270a14",
   "metadata": {},
   "outputs": [],
   "source": [
    "import pricing"
   ]
  },
  {
   "cell_type": "code",
   "execution_count": null,
   "id": "05e566be",
   "metadata": {},
   "outputs": [],
   "source": [
    "module_name.function_name()"
   ]
  },
  {
   "cell_type": "code",
   "execution_count": 9,
   "id": "cbbdab54",
   "metadata": {},
   "outputs": [
    {
     "name": "stdout",
     "output_type": "stream",
     "text": [
      "101.0\n"
     ]
    }
   ],
   "source": [
    "import pricing\n",
    "\n",
    "\n",
    "net_price = pricing.get_net_price(\n",
    "    price=100,\n",
    "    tax_rate=0.01\n",
    ")\n",
    "\n",
    "print(net_price)"
   ]
  },
  {
   "cell_type": "markdown",
   "id": "af6b37de",
   "metadata": {},
   "source": [
    "#### 2) import module_name as new_name"
   ]
  },
  {
   "cell_type": "code",
   "execution_count": 10,
   "id": "63cabdc4",
   "metadata": {},
   "outputs": [],
   "source": [
    "import pricing as selling_price"
   ]
  },
  {
   "cell_type": "code",
   "execution_count": 11,
   "id": "9f58bfb6",
   "metadata": {},
   "outputs": [
    {
     "name": "stdout",
     "output_type": "stream",
     "text": [
      "101.0\n"
     ]
    }
   ],
   "source": [
    "# main.py\n",
    "import pricing\n",
    "\n",
    "\n",
    "net_price = pricing.get_net_price(\n",
    "    price=100,\n",
    "    tax_rate=0.01\n",
    ")\n",
    "\n",
    "print(net_price)"
   ]
  },
  {
   "cell_type": "markdown",
   "id": "2b61c3bf",
   "metadata": {},
   "source": [
    "#### 2) import <module_name> as new_name"
   ]
  },
  {
   "cell_type": "code",
   "execution_count": 12,
   "id": "cec2d5ae",
   "metadata": {},
   "outputs": [],
   "source": [
    "import pricing as selling_price"
   ]
  },
  {
   "cell_type": "code",
   "execution_count": 13,
   "id": "b1b0168e",
   "metadata": {},
   "outputs": [],
   "source": [
    "net_price = selling_price.get_net_price(\n",
    "    price=100,\n",
    "    tax_rate=0.01\n",
    ")"
   ]
  },
  {
   "cell_type": "markdown",
   "id": "26b6ae03",
   "metadata": {},
   "source": [
    "#### 3) from module_name import name"
   ]
  },
  {
   "cell_type": "code",
   "execution_count": null,
   "id": "791ea36f",
   "metadata": {},
   "outputs": [],
   "source": [
    "from module_name import fn1, fn2"
   ]
  },
  {
   "cell_type": "code",
   "execution_count": null,
   "id": "d5a3f433",
   "metadata": {},
   "outputs": [],
   "source": [
    "fn1()\n",
    "fn2()"
   ]
  },
  {
   "cell_type": "code",
   "execution_count": 15,
   "id": "28237e4d",
   "metadata": {},
   "outputs": [],
   "source": [
    "from pricing import get_net_price"
   ]
  },
  {
   "cell_type": "code",
   "execution_count": 16,
   "id": "3ca478be",
   "metadata": {},
   "outputs": [
    {
     "name": "stdout",
     "output_type": "stream",
     "text": [
      "101.0\n"
     ]
    }
   ],
   "source": [
    "# main.py\n",
    "from pricing import get_net_price\n",
    "\n",
    "net_price = get_net_price(price=100, tax_rate=0.01)\n",
    "print(net_price)"
   ]
  },
  {
   "cell_type": "code",
   "execution_count": null,
   "id": "9f922bcb",
   "metadata": {},
   "outputs": [],
   "source": [
    "from <module_name> import <name> as <new_name>"
   ]
  },
  {
   "cell_type": "code",
   "execution_count": 21,
   "id": "27cbb75f",
   "metadata": {},
   "outputs": [],
   "source": [
    "from pricing import get_net_price as calculate_net_price\n",
    "\n",
    "net_price = calculate_net_price(\n",
    "    price=100,\n",
    "    tax_rate=0.1,\n",
    "    discount=0.05\n",
    ")"
   ]
  },
  {
   "cell_type": "code",
   "execution_count": 22,
   "id": "631f6742",
   "metadata": {},
   "outputs": [],
   "source": [
    "from module_name import *"
   ]
  },
  {
   "cell_type": "code",
   "execution_count": 23,
   "id": "abb0f5e0",
   "metadata": {},
   "outputs": [],
   "source": [
    "def get_tax(price):\n",
    "    return price * 0.1"
   ]
  },
  {
   "cell_type": "code",
   "execution_count": null,
   "id": "71d77e75",
   "metadata": {},
   "outputs": [],
   "source": [
    "from pricing import *\n",
    "from product import *\n",
    "\n",
    "tax = get_tax(100)\n",
    "print(tax)"
   ]
  },
  {
   "cell_type": "code",
   "execution_count": null,
   "id": "74297c80",
   "metadata": {},
   "outputs": [],
   "source": []
  }
 ],
 "metadata": {
  "kernelspec": {
   "display_name": "Python 3 (ipykernel)",
   "language": "python",
   "name": "python3"
  },
  "language_info": {
   "codemirror_mode": {
    "name": "ipython",
    "version": 3
   },
   "file_extension": ".py",
   "mimetype": "text/x-python",
   "name": "python",
   "nbconvert_exporter": "python",
   "pygments_lexer": "ipython3",
   "version": "3.11.4"
  }
 },
 "nbformat": 4,
 "nbformat_minor": 5
}
