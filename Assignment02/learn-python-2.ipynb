{
 "cells": [
  {
   "cell_type": "code",
   "execution_count": 37,
   "id": "a9bd8c6b",
   "metadata": {},
   "outputs": [],
   "source": [
    "# Create 2 new lists height and weight\n",
    "height = [1.87,  1.87, 1.82, 1.91, 1.90, 1.85]\n",
    "weight = [81.65, 97.52, 95.25, 92.98, 86.18, 88.45]\n",
    "\n",
    "# Import the numpy package as np\n",
    "import numpy as np\n",
    "\n",
    "# Create 2 numpy arrays from height and weight\n",
    "np_height = np.array(height)\n",
    "np_weight = np.array(weight)"
   ]
  },
  {
   "cell_type": "code",
   "execution_count": 38,
   "id": "239f839f",
   "metadata": {},
   "outputs": [
    {
     "name": "stdout",
     "output_type": "stream",
     "text": [
      "<class 'numpy.ndarray'>\n"
     ]
    }
   ],
   "source": [
    "print(type(np_height))"
   ]
  },
  {
   "cell_type": "code",
   "execution_count": 39,
   "id": "351d9f73",
   "metadata": {},
   "outputs": [
    {
     "name": "stdout",
     "output_type": "stream",
     "text": [
      "[23.34925219 27.88755755 28.75558507 25.48723993 23.87257618 25.84368152]\n"
     ]
    }
   ],
   "source": [
    "# Calculate bmi\n",
    "bmi = np_weight / np_height ** 2\n",
    "\n",
    "# Print the result\n",
    "print(bmi)"
   ]
  },
  {
   "cell_type": "code",
   "execution_count": 40,
   "id": "00999889",
   "metadata": {},
   "outputs": [
    {
     "data": {
      "text/plain": [
       "array([23.34925219, 27.88755755, 28.75558507, 25.48723993, 23.87257618,\n",
       "       25.84368152])"
      ]
     },
     "execution_count": 40,
     "metadata": {},
     "output_type": "execute_result"
    }
   ],
   "source": [
    "# For a boolean response\n",
    "bmi > 23\n",
    "\n",
    "# Print only those observations above 23\n",
    "bmi[bmi > 23]"
   ]
  },
  {
   "cell_type": "code",
   "execution_count": 41,
   "id": "38b63d01",
   "metadata": {},
   "outputs": [
    {
     "name": "stdout",
     "output_type": "stream",
     "text": [
      "[179.63  214.544 209.55  204.556 189.596 194.59 ]\n"
     ]
    }
   ],
   "source": [
    "import numpy as np\n",
    "\n",
    "weight_kg = [81.65, 97.52, 95.25, 92.98, 86.18, 88.45]\n",
    "\n",
    "np_weight_kg = np.array(weight_kg)\n",
    "\n",
    "np_weight_lbs = np_weight_kg * 2.20\n",
    "\n",
    "print(np_weight_lbs)\n"
   ]
  },
  {
   "cell_type": "code",
   "execution_count": 42,
   "id": "e978010e",
   "metadata": {},
   "outputs": [
    {
     "name": "stdout",
     "output_type": "stream",
     "text": [
      "        country    capital    area  population\n",
      "0        Brazil   Brasilia   8.516      200.40\n",
      "1        Russia     Moscow  17.100      143.50\n",
      "2         India  New Dehli   3.286     1252.00\n",
      "3         China    Beijing   9.597     1357.00\n",
      "4  South Africa   Pretoria   1.221       52.98\n"
     ]
    }
   ],
   "source": [
    "dict = {\"country\": [\"Brazil\", \"Russia\", \"India\", \"China\", \"South Africa\"],\n",
    "       \"capital\": [\"Brasilia\", \"Moscow\", \"New Dehli\", \"Beijing\", \"Pretoria\"],\n",
    "       \"area\": [8.516, 17.10, 3.286, 9.597, 1.221],\n",
    "       \"population\": [200.4, 143.5, 1252, 1357, 52.98] }\n",
    "\n",
    "import pandas as pd\n",
    "brics = pd.DataFrame(dict)\n",
    "print(brics)"
   ]
  },
  {
   "cell_type": "code",
   "execution_count": 43,
   "id": "14a09f7a",
   "metadata": {},
   "outputs": [
    {
     "name": "stdout",
     "output_type": "stream",
     "text": [
      "         country    capital    area  population\n",
      "BR        Brazil   Brasilia   8.516      200.40\n",
      "RU        Russia     Moscow  17.100      143.50\n",
      "IN         India  New Dehli   3.286     1252.00\n",
      "CH         China    Beijing   9.597     1357.00\n",
      "SA  South Africa   Pretoria   1.221       52.98\n"
     ]
    }
   ],
   "source": [
    "brics.index = [\"BR\", \"RU\", \"IN\", \"CH\", \"SA\"]\n",
    "\n",
    "print(brics)"
   ]
  },
  {
   "cell_type": "code",
   "execution_count": 19,
   "id": "624ea6c8",
   "metadata": {},
   "outputs": [
    {
     "name": "stdout",
     "output_type": "stream",
     "text": [
      "   cars_per_cap country  drives_right\n",
      "0           809      US          True\n",
      "1           731     AUS         False\n",
      "2           588     JAP         False\n",
      "3            18      IN         False\n",
      "4           200      RU          True\n",
      "5            70     MOR          True\n",
      "6            45      EG          True\n"
     ]
    }
   ],
   "source": [
    "# Here I have used csv file which I created on my own.\n",
    "import pandas as pd\n",
    "\n",
    "cars = pd.read_csv('cars.csv')\n",
    "\n",
    "print(cars)"
   ]
  },
  {
   "cell_type": "code",
   "execution_count": 21,
   "id": "388a22bb",
   "metadata": {},
   "outputs": [
    {
     "name": "stdout",
     "output_type": "stream",
     "text": [
      "0    809\n",
      "1    731\n",
      "2    588\n",
      "3     18\n",
      "4    200\n",
      "5     70\n",
      "6     45\n",
      "Name: cars_per_cap, dtype: int64\n",
      "  country\n",
      "0      US\n",
      "1     AUS\n",
      "2     JAP\n",
      "3      IN\n",
      "4      RU\n",
      "5     MOR\n",
      "6      EG\n",
      "   cars_per_cap country  drives_right\n",
      "0           809      US          True\n",
      "1           731     AUS         False\n",
      "2           588     JAP         False\n",
      "3            18      IN         False\n",
      "4           200      RU          True\n",
      "5            70     MOR          True\n",
      "6            45      EG          True\n"
     ]
    }
   ],
   "source": [
    "import pandas as pd\n",
    "\n",
    "# Load the DataFrame\n",
    "cars = pd.read_csv('cars.csv')\n",
    "\n",
    "# Access data\n",
    "print(cars['cars_per_cap'])  # Print the cars per capita data\n",
    "print(cars[['country']])     # Print country codes in a DataFrame\n",
    "print(cars[['cars_per_cap', 'country', 'drives_right']])  # Print all columns\n"
   ]
  },
  {
   "cell_type": "code",
   "execution_count": 23,
   "id": "1fca48ca",
   "metadata": {},
   "outputs": [
    {
     "name": "stdout",
     "output_type": "stream",
     "text": [
      "   cars_per_cap country  drives_right\n",
      "0           809      US          True\n",
      "1           731     AUS         False\n",
      "2           588     JAP         False\n",
      "3            18      IN         False\n",
      "   cars_per_cap country  drives_right\n",
      "4           200      RU          True\n",
      "5            70     MOR          True\n"
     ]
    }
   ],
   "source": [
    "import pandas as pd\n",
    "\n",
    "# Load the cars data without setting any index\n",
    "cars = pd.read_csv('cars.csv')\n",
    "\n",
    "# Print out first 4 observations\n",
    "print(cars[0:4])\n",
    "\n",
    "# Print out fifth and sixth observation\n",
    "print(cars[4:6])\n"
   ]
  },
  {
   "cell_type": "code",
   "execution_count": 26,
   "id": "578da209",
   "metadata": {},
   "outputs": [
    {
     "name": "stdout",
     "output_type": "stream",
     "text": [
      "cars_per_cap      588\n",
      "drives_right    False\n",
      "Name: JAP, dtype: object\n",
      "         cars_per_cap  drives_right\n",
      "country                            \n",
      "AUS               731         False\n",
      "EG                 45          True\n"
     ]
    }
   ],
   "source": [
    "\n",
    "import pandas as pd\n",
    "cars = pd.read_csv('cars.csv', index_col = 1)\n",
    "\n",
    "print(cars.iloc[2])\n",
    "\n",
    "print(cars.loc[['AUS', 'EG']])"
   ]
  }
 ],
 "metadata": {
  "kernelspec": {
   "display_name": "Python 3 (ipykernel)",
   "language": "python",
   "name": "python3"
  },
  "language_info": {
   "codemirror_mode": {
    "name": "ipython",
    "version": 3
   },
   "file_extension": ".py",
   "mimetype": "text/x-python",
   "name": "python",
   "nbconvert_exporter": "python",
   "pygments_lexer": "ipython3",
   "version": "3.11.4"
  }
 },
 "nbformat": 4,
 "nbformat_minor": 5
}
