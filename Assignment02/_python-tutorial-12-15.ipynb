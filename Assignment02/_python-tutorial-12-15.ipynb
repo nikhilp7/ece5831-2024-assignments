{
 "cells": [
  {
   "cell_type": "markdown",
   "id": "9dcc909d",
   "metadata": {},
   "source": [
    "# Section 12. Working with files"
   ]
  },
  {
   "cell_type": "markdown",
   "id": "d4c8269e",
   "metadata": {},
   "source": [
    "## Python Read Text File\n",
    "\n",
    "#### TL;DR"
   ]
  },
  {
   "cell_type": "code",
   "execution_count": null,
   "id": "c600b58a",
   "metadata": {},
   "outputs": [],
   "source": [
    "with open('readme.txt') as f:\n",
    "    lines = f.readlines()"
   ]
  },
  {
   "cell_type": "markdown",
   "id": "6f3495b1",
   "metadata": {},
   "source": [
    "#### Steps for reading a text file in Python\n",
    "\n",
    "To read a text file in Python, you follow these steps:\n",
    "\n",
    "First, open a text file for reading by using the open() function.\n",
    "\n",
    "Second, read text from the text file using the file read(), readline(), or readlines() method of the file object.\n",
    "\n",
    "Third, close the file using the file close() method."
   ]
  },
  {
   "cell_type": "markdown",
   "id": "ae3df5fe",
   "metadata": {},
   "source": [
    "#### 1) open() function"
   ]
  },
  {
   "cell_type": "code",
   "execution_count": null,
   "id": "72af6a5d",
   "metadata": {},
   "outputs": [],
   "source": [
    "open(path_to_file, mode)"
   ]
  },
  {
   "cell_type": "code",
   "execution_count": 4,
   "id": "75afdd08",
   "metadata": {},
   "outputs": [],
   "source": [
    "f = open('the-zen-of-python.txt','r')"
   ]
  },
  {
   "cell_type": "markdown",
   "id": "1bab2e4b",
   "metadata": {},
   "source": [
    "#### 2) Reading text methods\n",
    "\n",
    "The file object provides you with three methods for reading text from a text file:\n",
    "\n",
    "read(size) – read some contents of a file based on the optional size and return the contents as a string. If you omit the size, the read() method reads from where it left off till the end of the file. If the end of a file has been reached, the read() method returns an empty string.\n",
    "\n",
    "readline() – read a single line from a text file and return the line as a string. If the end of a file has been reached, the readline() returns an empty string.\n",
    "\n",
    "readlines() – read all the lines of the text file into a list of strings. This method is useful if you have a small file and you want to manipulate the whole text of that file."
   ]
  },
  {
   "cell_type": "markdown",
   "id": "c1b088d3",
   "metadata": {},
   "source": [
    "#### 3) close() method"
   ]
  },
  {
   "cell_type": "code",
   "execution_count": 5,
   "id": "e021e0e1",
   "metadata": {},
   "outputs": [],
   "source": [
    "f.close()"
   ]
  },
  {
   "cell_type": "code",
   "execution_count": null,
   "id": "6e419b98",
   "metadata": {},
   "outputs": [],
   "source": [
    "with open(path_to_file) as f:\n",
    "    contents = f.readlines()"
   ]
  },
  {
   "cell_type": "markdown",
   "id": "f17182d8",
   "metadata": {},
   "source": [
    "#### Reading a text file examples"
   ]
  },
  {
   "cell_type": "code",
   "execution_count": 7,
   "id": "ca9f22e8",
   "metadata": {},
   "outputs": [
    {
     "name": "stdout",
     "output_type": "stream",
     "text": [
      "Beautiful is better than ugly.\n",
      "Explicit is better than implicit.\n",
      "Simple is better than complex.\n",
      "Complex is better than complicated.\n",
      "Flat is better than nested.\n",
      "Sparse is better than dense.\n",
      "Readability counts.\n",
      "Special cases aren't special enough to break the rules.\n",
      "Although practicality beats purity.\n",
      "Errors should never pass silently.\n",
      "Unless explicitly silenced.\n",
      "In the face of ambiguity, refuse the temptation to guess.\n",
      "There should be one-- and preferably only one --obvious way to do it.\n",
      "Although that way may not be obvious at first unless you're Dutch.\n",
      "Now is better than never.\n",
      "Although never is often better than *right* now.\n",
      "If the implementation is hard to explain, it's a bad idea.\n",
      "If the implementation is easy to explain, it may be a good idea.\n",
      "Namespaces are one honking great idea -- let's do more of those!\n"
     ]
    }
   ],
   "source": [
    "with open('the-zen-of-python.txt') as f:\n",
    "    contents = f.read()\n",
    "    print(contents)"
   ]
  },
  {
   "cell_type": "code",
   "execution_count": 8,
   "id": "2473aa9e",
   "metadata": {},
   "outputs": [
    {
     "name": "stdout",
     "output_type": "stream",
     "text": [
      "Beautiful is better than ugly.\n",
      "\n",
      "Explicit is better than implicit.\n",
      "\n",
      "Simple is better than complex.\n",
      "\n",
      "Complex is better than complicated.\n",
      "\n",
      "Flat is better than nested.\n",
      "\n",
      "Sparse is better than dense.\n",
      "\n",
      "Readability counts.\n",
      "\n",
      "Special cases aren't special enough to break the rules.\n",
      "\n",
      "Although practicality beats purity.\n",
      "\n",
      "Errors should never pass silently.\n",
      "\n",
      "Unless explicitly silenced.\n",
      "\n",
      "In the face of ambiguity, refuse the temptation to guess.\n",
      "\n",
      "There should be one-- and preferably only one --obvious way to do it.\n",
      "\n",
      "Although that way may not be obvious at first unless you're Dutch.\n",
      "\n",
      "Now is better than never.\n",
      "\n",
      "Although never is often better than *right* now.\n",
      "\n",
      "If the implementation is hard to explain, it's a bad idea.\n",
      "\n",
      "If the implementation is easy to explain, it may be a good idea.\n",
      "\n",
      "Namespaces are one honking great idea -- let's do more of those!\n"
     ]
    }
   ],
   "source": [
    "with open('the-zen-of-python.txt') as f:\n",
    "    [print(line) for line in f.readlines()]"
   ]
  },
  {
   "cell_type": "code",
   "execution_count": 9,
   "id": "064629fb",
   "metadata": {},
   "outputs": [
    {
     "name": "stdout",
     "output_type": "stream",
     "text": [
      "Beautiful is better than ugly.\n",
      "Explicit is better than implicit.\n",
      "Simple is better than complex.\n",
      "Complex is better than complicated.\n",
      "Flat is better than nested.\n",
      "Sparse is better than dense.\n",
      "Readability counts.\n",
      "Special cases aren't special enough to break the rules.\n",
      "Although practicality beats purity.\n",
      "Errors should never pass silently.\n",
      "Unless explicitly silenced.\n",
      "In the face of ambiguity, refuse the temptation to guess.\n",
      "There should be one-- and preferably only one --obvious way to do it.\n",
      "Although that way may not be obvious at first unless you're Dutch.\n",
      "Now is better than never.\n",
      "Although never is often better than *right* now.\n",
      "If the implementation is hard to explain, it's a bad idea.\n",
      "If the implementation is easy to explain, it may be a good idea.\n",
      "Namespaces are one honking great idea -- let's do more of those!\n"
     ]
    }
   ],
   "source": [
    "with open('the-zen-of-python.txt') as f:\n",
    "    [print(line.strip()) for line in f.readlines()]"
   ]
  },
  {
   "cell_type": "code",
   "execution_count": 10,
   "id": "4b06b2f4",
   "metadata": {},
   "outputs": [
    {
     "name": "stdout",
     "output_type": "stream",
     "text": [
      "Beautiful is better than ugly.\n",
      "Explicit is better than implicit.\n",
      "Simple is better than complex.\n",
      "Complex is better than complicated.\n",
      "Flat is better than nested.\n",
      "Sparse is better than dense.\n",
      "Readability counts.\n",
      "Special cases aren't special enough to break the rules.\n",
      "Although practicality beats purity.\n",
      "Errors should never pass silently.\n",
      "Unless explicitly silenced.\n",
      "In the face of ambiguity, refuse the temptation to guess.\n",
      "There should be one-- and preferably only one --obvious way to do it.\n",
      "Although that way may not be obvious at first unless you're Dutch.\n",
      "Now is better than never.\n",
      "Although never is often better than *right* now.\n",
      "If the implementation is hard to explain, it's a bad idea.\n",
      "If the implementation is easy to explain, it may be a good idea.\n",
      "Namespaces are one honking great idea -- let's do more of those!\n"
     ]
    }
   ],
   "source": [
    "with open('the-zen-of-python.txt') as f:\n",
    "    while True:\n",
    "        line = f.readline()\n",
    "        if not line:\n",
    "            break\n",
    "        print(line.strip())"
   ]
  },
  {
   "cell_type": "markdown",
   "id": "83845c1f",
   "metadata": {},
   "source": [
    "#### A more concise way to read a text file line by line"
   ]
  },
  {
   "cell_type": "code",
   "execution_count": 11,
   "id": "ee4b5d8e",
   "metadata": {},
   "outputs": [
    {
     "name": "stdout",
     "output_type": "stream",
     "text": [
      "Beautiful is better than ugly.\n",
      "Explicit is better than implicit.\n",
      "Simple is better than complex.\n",
      "Complex is better than complicated.\n",
      "Flat is better than nested.\n",
      "Sparse is better than dense.\n",
      "Readability counts.\n",
      "Special cases aren't special enough to break the rules.\n",
      "Although practicality beats purity.\n",
      "Errors should never pass silently.\n",
      "Unless explicitly silenced.\n",
      "In the face of ambiguity, refuse the temptation to guess.\n",
      "There should be one-- and preferably only one --obvious way to do it.\n",
      "Although that way may not be obvious at first unless you're Dutch.\n",
      "Now is better than never.\n",
      "Although never is often better than *right* now.\n",
      "If the implementation is hard to explain, it's a bad idea.\n",
      "If the implementation is easy to explain, it may be a good idea.\n",
      "Namespaces are one honking great idea -- let's do more of those!\n"
     ]
    }
   ],
   "source": [
    "with open('the-zen-of-python.txt') as f:\n",
    "    for line in f:\n",
    "        print(line.strip())"
   ]
  },
  {
   "cell_type": "markdown",
   "id": "c07ae7ae",
   "metadata": {},
   "source": [
    "#### Read UTF-8 text files"
   ]
  },
  {
   "cell_type": "code",
   "execution_count": 12,
   "id": "203a1c35",
   "metadata": {},
   "outputs": [
    {
     "name": "stdout",
     "output_type": "stream",
     "text": [
      "人生で何度も何度も失敗を繰り返してきました。だからこそ、私は成功を収めることができたのです。\n",
      "どれだけ高く登れたかで人を評価しません。尻餅をついたあと、どれだけ変わったかで評価をするのです。\n",
      "成功を収める人とは人が投げてきたレンガでしっかりした基盤を築くことができる人のことである。\n"
     ]
    }
   ],
   "source": [
    "with open('quotes.txt', encoding='utf8') as f:\n",
    "    for line in f:\n",
    "        print(line.strip())"
   ]
  },
  {
   "cell_type": "markdown",
   "id": "beca253e",
   "metadata": {},
   "source": [
    "## Python Write Text File\n",
    "\n",
    "\n",
    "#### TL;DR"
   ]
  },
  {
   "cell_type": "code",
   "execution_count": 13,
   "id": "87c71a58",
   "metadata": {},
   "outputs": [],
   "source": [
    "with open('readme.txt', 'w') as f:\n",
    "    f.write('readme')"
   ]
  },
  {
   "cell_type": "code",
   "execution_count": null,
   "id": "b143b65a",
   "metadata": {},
   "outputs": [],
   "source": [
    "f = open(file, mode)"
   ]
  },
  {
   "cell_type": "code",
   "execution_count": null,
   "id": "365d8a0d",
   "metadata": {},
   "outputs": [],
   "source": [
    "f.write('\\n')\n",
    "f.writelines('\\n')"
   ]
  },
  {
   "cell_type": "markdown",
   "id": "17b95810",
   "metadata": {},
   "source": [
    "#### Writing text file examples"
   ]
  },
  {
   "cell_type": "code",
   "execution_count": 16,
   "id": "945ffb98",
   "metadata": {},
   "outputs": [],
   "source": [
    "lines = ['Readme', 'How to write text files in Python']\n",
    "with open('readme.txt', 'w') as f:\n",
    "    for line in lines:\n",
    "        f.write(line)\n",
    "        f.write('\\n')"
   ]
  },
  {
   "cell_type": "code",
   "execution_count": 17,
   "id": "92ec22c7",
   "metadata": {},
   "outputs": [],
   "source": [
    "lines = ['Readme', 'How to write text files in Python']\n",
    "with open('readme.txt', 'w') as f:\n",
    "    f.writelines(lines)"
   ]
  },
  {
   "cell_type": "code",
   "execution_count": 18,
   "id": "9aa8e408",
   "metadata": {},
   "outputs": [],
   "source": [
    "lines = ['Readme', 'How to write text files in Python']\n",
    "with open('readme.txt', 'w') as f:\n",
    "    f.write('\\n'.join(lines))"
   ]
  },
  {
   "cell_type": "markdown",
   "id": "ae676eea",
   "metadata": {},
   "source": [
    "#### Appending text files"
   ]
  },
  {
   "cell_type": "code",
   "execution_count": 19,
   "id": "ac88840d",
   "metadata": {},
   "outputs": [],
   "source": [
    "more_lines = ['', 'Append text files', 'The End']\n",
    "\n",
    "with open('readme.txt', 'a') as f:\n",
    "    f.write('\\n'.join(more_lines))"
   ]
  },
  {
   "cell_type": "markdown",
   "id": "137394b4",
   "metadata": {},
   "source": [
    "#### Writing to a UTF-8 text file"
   ]
  },
  {
   "cell_type": "code",
   "execution_count": 20,
   "id": "56e7ef1b",
   "metadata": {},
   "outputs": [],
   "source": [
    "quote = '成功を収める人とは人が投げてきたレンガでしっかりした基盤を築くことができる人のことである。'\n",
    "\n",
    "with open('quotes.txt', 'w', encoding='utf-8') as f:\n",
    "    f.write(quote)"
   ]
  },
  {
   "cell_type": "markdown",
   "id": "cfac0621",
   "metadata": {},
   "source": [
    "## Python Create Text File\n",
    "\n",
    "\n",
    "#### Using the open() function to create a new text file"
   ]
  },
  {
   "cell_type": "code",
   "execution_count": null,
   "id": "ada45f5d",
   "metadata": {},
   "outputs": [],
   "source": [
    "f = open(path_to_file, mode)"
   ]
  },
  {
   "cell_type": "code",
   "execution_count": 21,
   "id": "330df958",
   "metadata": {},
   "outputs": [],
   "source": [
    "with open('readme.txt', 'w') as f:\n",
    "    f.write('Create a new text file!')"
   ]
  },
  {
   "cell_type": "code",
   "execution_count": 22,
   "id": "f369a832",
   "metadata": {},
   "outputs": [
    {
     "ename": "FileNotFoundError",
     "evalue": "[Errno 2] No such file or directory: 'docs/readme.txt'",
     "output_type": "error",
     "traceback": [
      "\u001b[1;31m---------------------------------------------------------------------------\u001b[0m",
      "\u001b[1;31mFileNotFoundError\u001b[0m                         Traceback (most recent call last)",
      "Cell \u001b[1;32mIn[22], line 1\u001b[0m\n\u001b[1;32m----> 1\u001b[0m \u001b[38;5;28;01mwith\u001b[39;00m \u001b[38;5;28mopen\u001b[39m(\u001b[38;5;124m'\u001b[39m\u001b[38;5;124mdocs/readme.txt\u001b[39m\u001b[38;5;124m'\u001b[39m, \u001b[38;5;124m'\u001b[39m\u001b[38;5;124mw\u001b[39m\u001b[38;5;124m'\u001b[39m) \u001b[38;5;28;01mas\u001b[39;00m f:\n\u001b[0;32m      2\u001b[0m     f\u001b[38;5;241m.\u001b[39mwrite(\u001b[38;5;124m'\u001b[39m\u001b[38;5;124mCreate a new text file!\u001b[39m\u001b[38;5;124m'\u001b[39m)\n",
      "File \u001b[1;32m~\\anaconda3\\Lib\\site-packages\\IPython\\core\\interactiveshell.py:284\u001b[0m, in \u001b[0;36m_modified_open\u001b[1;34m(file, *args, **kwargs)\u001b[0m\n\u001b[0;32m    277\u001b[0m \u001b[38;5;28;01mif\u001b[39;00m file \u001b[38;5;129;01min\u001b[39;00m {\u001b[38;5;241m0\u001b[39m, \u001b[38;5;241m1\u001b[39m, \u001b[38;5;241m2\u001b[39m}:\n\u001b[0;32m    278\u001b[0m     \u001b[38;5;28;01mraise\u001b[39;00m \u001b[38;5;167;01mValueError\u001b[39;00m(\n\u001b[0;32m    279\u001b[0m         \u001b[38;5;124mf\u001b[39m\u001b[38;5;124m\"\u001b[39m\u001b[38;5;124mIPython won\u001b[39m\u001b[38;5;124m'\u001b[39m\u001b[38;5;124mt let you open fd=\u001b[39m\u001b[38;5;132;01m{\u001b[39;00mfile\u001b[38;5;132;01m}\u001b[39;00m\u001b[38;5;124m by default \u001b[39m\u001b[38;5;124m\"\u001b[39m\n\u001b[0;32m    280\u001b[0m         \u001b[38;5;124m\"\u001b[39m\u001b[38;5;124mas it is likely to crash IPython. If you know what you are doing, \u001b[39m\u001b[38;5;124m\"\u001b[39m\n\u001b[0;32m    281\u001b[0m         \u001b[38;5;124m\"\u001b[39m\u001b[38;5;124myou can use builtins\u001b[39m\u001b[38;5;124m'\u001b[39m\u001b[38;5;124m open.\u001b[39m\u001b[38;5;124m\"\u001b[39m\n\u001b[0;32m    282\u001b[0m     )\n\u001b[1;32m--> 284\u001b[0m \u001b[38;5;28;01mreturn\u001b[39;00m io_open(file, \u001b[38;5;241m*\u001b[39margs, \u001b[38;5;241m*\u001b[39m\u001b[38;5;241m*\u001b[39mkwargs)\n",
      "\u001b[1;31mFileNotFoundError\u001b[0m: [Errno 2] No such file or directory: 'docs/readme.txt'"
     ]
    }
   ],
   "source": [
    "with open('docs/readme.txt', 'w') as f:\n",
    "    f.write('Create a new text file!')"
   ]
  },
  {
   "cell_type": "code",
   "execution_count": 23,
   "id": "b0b33fd4",
   "metadata": {},
   "outputs": [
    {
     "name": "stdout",
     "output_type": "stream",
     "text": [
      "The 'docs' directory does not exist\n"
     ]
    }
   ],
   "source": [
    "try:\n",
    "    with open('docs/readme.txt', 'w') as f:\n",
    "        f.write('Create a new text file!')\n",
    "except FileNotFoundError:\n",
    "    print(\"The 'docs' directory does not exist\")"
   ]
  },
  {
   "cell_type": "code",
   "execution_count": null,
   "id": "6cdb776f",
   "metadata": {},
   "outputs": [],
   "source": [
    "with open('readme.txt', 'x') as f:\n",
    "    f.write('Create a new text file!')"
   ]
  },
  {
   "cell_type": "markdown",
   "id": "f158b716",
   "metadata": {},
   "source": [
    "## Python Check If File Exists\n",
    "Summary: in this tutorial, you’ll learn how to check if a file exists.\n",
    "\n",
    "When processing files, you’ll often want to check if a file exists before doing something else with it such as reading from the file or writing to it.\n",
    "\n",
    "To do it, you can use the exists() function from the os.path module or is_file() method from the Path class in the pathlib module.\n",
    "\n",
    "#### os.path.exists() function"
   ]
  },
  {
   "cell_type": "code",
   "execution_count": null,
   "id": "bc8e0d8a",
   "metadata": {},
   "outputs": [],
   "source": [
    "from os.path import exists\n",
    "\n",
    "file_exists = exists(path_to_file)"
   ]
  },
  {
   "cell_type": "markdown",
   "id": "a40c52cd",
   "metadata": {},
   "source": [
    "#### 1) Using os.path.exists() function to check if a file exists"
   ]
  },
  {
   "cell_type": "code",
   "execution_count": 28,
   "id": "8b04b7a0",
   "metadata": {},
   "outputs": [],
   "source": [
    "import os.path"
   ]
  },
  {
   "cell_type": "code",
   "execution_count": null,
   "id": "09a97725",
   "metadata": {},
   "outputs": [],
   "source": [
    "os.path.exists(path_to_file)"
   ]
  },
  {
   "cell_type": "code",
   "execution_count": 30,
   "id": "33fee570",
   "metadata": {},
   "outputs": [
    {
     "name": "stdout",
     "output_type": "stream",
     "text": [
      "True\n"
     ]
    }
   ],
   "source": [
    "import os.path\n",
    "\n",
    "file_exists = os.path.exists('readme.txt')\n",
    "\n",
    "print(file_exists)"
   ]
  },
  {
   "cell_type": "code",
   "execution_count": 31,
   "id": "5dc558e5",
   "metadata": {},
   "outputs": [
    {
     "data": {
      "text/plain": [
       "True"
      ]
     },
     "execution_count": 31,
     "metadata": {},
     "output_type": "execute_result"
    }
   ],
   "source": [
    "from os.path import exists as file_exists\n",
    "\n",
    "file_exists('readme.txt')"
   ]
  },
  {
   "cell_type": "markdown",
   "id": "c2e5234b",
   "metadata": {},
   "source": [
    "## 2) Using the pathlib module to check if a file exists"
   ]
  },
  {
   "cell_type": "code",
   "execution_count": 32,
   "id": "0b09a570",
   "metadata": {},
   "outputs": [],
   "source": [
    "from pathlib import Path"
   ]
  },
  {
   "cell_type": "code",
   "execution_count": null,
   "id": "1eab5764",
   "metadata": {},
   "outputs": [],
   "source": [
    "path = Path(path_to_file)"
   ]
  },
  {
   "cell_type": "code",
   "execution_count": null,
   "id": "4221282f",
   "metadata": {},
   "outputs": [],
   "source": [
    "path.is_file()"
   ]
  },
  {
   "cell_type": "code",
   "execution_count": 35,
   "id": "4d6cc727",
   "metadata": {},
   "outputs": [
    {
     "name": "stdout",
     "output_type": "stream",
     "text": [
      "The file readme.txt exists\n"
     ]
    }
   ],
   "source": [
    "from pathlib import Path\n",
    "\n",
    "path_to_file = 'readme.txt'\n",
    "path = Path(path_to_file)\n",
    "\n",
    "if path.is_file():\n",
    "    print(f'The file {path_to_file} exists')\n",
    "else:\n",
    "    print(f'The file {path_to_file} does not exist')"
   ]
  },
  {
   "cell_type": "markdown",
   "id": "dd6b1488",
   "metadata": {},
   "source": [
    "## Python Read CSV File\n",
    "\n",
    "What is a CSV file\n",
    "CSV stands for comma-separated values. A CSV file is a delimited text file that uses a comma to separate values.\n",
    "\n",
    "A CSV file consists of one or more lines. Each line is a data record. And each data record consists of one or more values separated by commas. In addition, all the lines of a CSV file have the same number of values.\n",
    "\n",
    "Typically, you use a CSV file to store tabular data in plain text. The CSV file format is quite popular and supported by many software applications such as Microsoft Excel and Google Spreadsheet."
   ]
  },
  {
   "cell_type": "code",
   "execution_count": 36,
   "id": "6b01eb9e",
   "metadata": {},
   "outputs": [],
   "source": [
    "import csv"
   ]
  },
  {
   "cell_type": "code",
   "execution_count": 38,
   "id": "12819cc0",
   "metadata": {},
   "outputs": [],
   "source": [
    "f = open('country.csv')"
   ]
  },
  {
   "cell_type": "code",
   "execution_count": 39,
   "id": "1dfef232",
   "metadata": {},
   "outputs": [],
   "source": [
    "csv_reader = csv.reader(f)"
   ]
  },
  {
   "cell_type": "code",
   "execution_count": 40,
   "id": "1fa77930",
   "metadata": {},
   "outputs": [
    {
     "name": "stdout",
     "output_type": "stream",
     "text": [
      "['name', 'area', 'country_code2', 'country_code3']\n",
      "['Afghanistan', '652090.00', 'AF', 'AFG']\n",
      "['Albania', '28748.00', 'AL', 'ALB']\n",
      "['Algeria', '2381741.00', 'DZ', 'DZA']\n",
      "['American Samoa', '199.00', 'AS', 'ASM']\n",
      "['Andorra', '468.00', 'AD', 'AND']\n",
      "['Angola', '1246700.00', 'AO', 'AGO']\n",
      "['Anguilla', '96.00', 'AI', 'AIA']\n",
      "['Antarctica', '13120000.00', 'AQ', 'ATA']\n",
      "['Antigua and Barbuda', '442.00', 'AG', 'ATG']\n",
      "['Argentina', '2780400.00', 'AR', 'ARG']\n",
      "['Armenia', '29800.00', 'AM', 'ARM']\n",
      "['Aruba', '193.00', 'AW', 'ABW']\n",
      "['Australia', '7741220.00', 'AU', 'AUS']\n",
      "['Austria', '83859.00', 'AT', 'AUT']\n",
      "['Azerbaijan', '86600.00', 'AZ', 'AZE']\n",
      "['Bahamas', '13878.00', 'BS', 'BHS']\n",
      "['Bahrain', '694.00', 'BH', 'BHR']\n",
      "['Bangladesh', '143998.00', 'BD', 'BGD']\n",
      "['Barbados', '430.00', 'BB', 'BRB']\n",
      "['Belarus', '207600.00', 'BY', 'BLR']\n",
      "['Belgium', '30518.00', 'BE', 'BEL']\n",
      "['Belize', '22696.00', 'BZ', 'BLZ']\n",
      "['Benin', '112622.00', 'BJ', 'BEN']\n",
      "['Bermuda', '53.00', 'BM', 'BMU']\n",
      "['Bhutan', '47000.00', 'BT', 'BTN']\n",
      "['Bolivia', '1098581.00', 'BO', 'BOL']\n",
      "['Bosnia and Herzegovina', '51197.00', 'BA', 'BIH']\n",
      "['Botswana', '581730.00', 'BW', 'BWA']\n",
      "['Bouvet Island', '59.00', 'BV', 'BVT']\n",
      "['Brazil', '8547403.00', 'BR', 'BRA']\n",
      "['British Indian Ocean Territory', '78.00', 'IO', 'IOT']\n",
      "['Brunei', '5765.00', 'BN', 'BRN']\n",
      "['Bulgaria', '110994.00', 'BG', 'BGR']\n",
      "['Burkina Faso', '274000.00', 'BF', 'BFA']\n",
      "['Burundi', '27834.00', 'BI', 'BDI']\n",
      "['Cambodia', '181035.00', 'KH', 'KHM']\n",
      "['Cameroon', '475442.00', 'CM', 'CMR']\n",
      "['Canada', '9970610.00', 'CA', 'CAN']\n",
      "['Cape Verde', '4033.00', 'CV', 'CPV']\n",
      "['Cayman Islands', '264.00', 'KY', 'CYM']\n",
      "['Central African Republic', '622984.00', 'CF', 'CAF']\n",
      "['Chad', '1284000.00', 'TD', 'TCD']\n",
      "['Chile', '756626.00', 'CL', 'CHL']\n",
      "['China', '9572900.00', 'CN', 'CHN']\n",
      "['Christmas Island', '135.00', 'CX', 'CXR']\n",
      "['Cocos (Keeling) Islands', '14.00', 'CC', 'CCK']\n",
      "['Colombia', '1138914.00', 'CO', 'COL']\n",
      "['Comoros', '1862.00', 'KM', 'COM']\n",
      "['Congo', '342000.00', 'CG', 'COG']\n",
      "['Cook Islands', '236.00', 'CK', 'COK']\n",
      "['Costa Rica', '51100.00', 'CR', 'CRI']\n",
      "['CÃ´te dâ€™Ivoire', '322463.00', 'CI', 'CIV']\n",
      "['Croatia', '56538.00', 'HR', 'HRV']\n",
      "['Cuba', '110861.00', 'CU', 'CUB']\n",
      "['Cyprus', '9251.00', 'CY', 'CYP']\n",
      "['Czech Republic', '78866.00', 'CZ', 'CZE']\n",
      "['Denmark', '43094.00', 'DK', 'DNK']\n",
      "['Djibouti', '23200.00', 'DJ', 'DJI']\n",
      "['Dominica', '751.00', 'DM', 'DMA']\n",
      "['Dominican Republic', '48511.00', 'DO', 'DOM']\n",
      "['East Timor', '14874.00', 'TP', 'TMP']\n",
      "['Ecuador', '283561.00', 'EC', 'ECU']\n",
      "['Egypt', '1001449.00', 'EG', 'EGY']\n",
      "['El Salvador', '21041.00', 'SV', 'SLV']\n",
      "['Equatorial Guinea', '28051.00', 'GQ', 'GNQ']\n",
      "['Eritrea', '117600.00', 'ER', 'ERI']\n",
      "['Estonia', '45227.00', 'EE', 'EST']\n",
      "['Ethiopia', '1104300.00', 'ET', 'ETH']\n",
      "['Falkland Islands', '12173.00', 'FK', 'FLK']\n",
      "['Faroe Islands', '1399.00', 'FO', 'FRO']\n",
      "['Federated States of Micronesia', '702.00', 'FM', 'FSM']\n",
      "['Fiji Islands', '18274.00', 'FJ', 'FJI']\n",
      "['Finland', '338145.00', 'FI', 'FIN']\n",
      "['France', '551500.00', 'FR', 'FRA']\n",
      "['French Guiana', '90000.00', 'GF', 'GUF']\n",
      "['French Polynesia', '4000.00', 'PF', 'PYF']\n",
      "['French Southern territories', '7780.00', 'TF', 'ATF']\n",
      "['Gabon', '267668.00', 'GA', 'GAB']\n",
      "['Gambia', '11295.00', 'GM', 'GMB']\n",
      "['Georgia', '69700.00', 'GE', 'GEO']\n",
      "['Germany', '357022.00', 'DE', 'DEU']\n",
      "['Ghana', '238533.00', 'GH', 'GHA']\n",
      "['Gibraltar', '6.00', 'GI', 'GIB']\n",
      "['Greece', '131626.00', 'GR', 'GRC']\n",
      "['Greenland', '2166090.00', 'GL', 'GRL']\n",
      "['Grenada', '344.00', 'GD', 'GRD']\n",
      "['Guadeloupe', '1705.00', 'GP', 'GLP']\n",
      "['Guam', '549.00', 'GU', 'GUM']\n",
      "['Guatemala', '108889.00', 'GT', 'GTM']\n",
      "['Guinea', '245857.00', 'GN', 'GIN']\n",
      "['Guinea-Bissau', '36125.00', 'GW', 'GNB']\n",
      "['Guyana', '214969.00', 'GY', 'GUY']\n",
      "['Haiti', '27750.00', 'HT', 'HTI']\n",
      "['Heard Island and McDonald Islands', '359.00', 'HM', 'HMD']\n",
      "['Holy See (Vatican City State)', '0.40', 'VA', 'VAT']\n",
      "['Honduras', '112088.00', 'HN', 'HND']\n",
      "['Hong Kong', '1075.00', 'HK', 'HKG']\n",
      "['Hungary', '93030.00', 'HU', 'HUN']\n",
      "['Iceland', '103000.00', 'IS', 'ISL']\n",
      "['India', '3287263.00', 'IN', 'IND']\n",
      "['Indonesia', '1904569.00', 'ID', 'IDN']\n",
      "['Iran', '1648195.00', 'IR', 'IRN']\n",
      "['Iraq', '438317.00', 'IQ', 'IRQ']\n",
      "['Ireland', '70273.00', 'IE', 'IRL']\n",
      "['Israel', '21056.00', 'IL', 'ISR']\n",
      "['Italy', '301316.00', 'IT', 'ITA']\n",
      "['Jamaica', '10990.00', 'JM', 'JAM']\n",
      "['Japan', '377829.00', 'JP', 'JPN']\n",
      "['Jordan', '88946.00', 'JO', 'JOR']\n",
      "['Kazakstan', '2724900.00', 'KZ', 'KAZ']\n",
      "['Kenya', '580367.00', 'KE', 'KEN']\n",
      "['Kiribati', '726.00', 'KI', 'KIR']\n",
      "['Kuwait', '17818.00', 'KW', 'KWT']\n",
      "['Kyrgyzstan', '199900.00', 'KG', 'KGZ']\n",
      "['Laos', '236800.00', 'LA', 'LAO']\n",
      "['Latvia', '64589.00', 'LV', 'LVA']\n",
      "['Lebanon', '10400.00', 'LB', 'LBN']\n",
      "['Lesotho', '30355.00', 'LS', 'LSO']\n",
      "['Liberia', '111369.00', 'LR', 'LBR']\n",
      "['Libyan Arab Jamahiriya', '1759540.00', 'LY', 'LBY']\n",
      "['Liechtenstein', '160.00', 'LI', 'LIE']\n",
      "['Lithuania', '65301.00', 'LT', 'LTU']\n",
      "['Luxembourg', '2586.00', 'LU', 'LUX']\n",
      "['Macao', '18.00', 'MO', 'MAC']\n",
      "['Macedonia', '25713.00', 'MK', 'MKD']\n",
      "['Madagascar', '587041.00', 'MG', 'MDG']\n",
      "['Malawi', '118484.00', 'MW', 'MWI']\n",
      "['Malaysia', '329758.00', 'MY', 'MYS']\n",
      "['Maldives', '298.00', 'MV', 'MDV']\n",
      "['Mali', '1240192.00', 'ML', 'MLI']\n",
      "['Malta', '316.00', 'MT', 'MLT']\n",
      "['Marshall Islands', '181.00', 'MH', 'MHL']\n",
      "['Martinique', '1102.00', 'MQ', 'MTQ']\n",
      "['Mauritania', '1025520.00', 'MR', 'MRT']\n",
      "['Mauritius', '2040.00', 'MU', 'MUS']\n",
      "['Mayotte', '373.00', 'YT', 'MYT']\n",
      "['Mexico', '1958201.00', 'MX', 'MEX']\n",
      "['Moldova', '33851.00', 'MD', 'MDA']\n",
      "['Monaco', '1.50', 'MC', 'MCO']\n",
      "['Mongolia', '1566500.00', 'MN', 'MNG']\n",
      "['Montserrat', '102.00', 'MS', 'MSR']\n",
      "['Morocco', '446550.00', 'MA', 'MAR']\n",
      "['Mozambique', '801590.00', 'MZ', 'MOZ']\n",
      "['Myanmar', '676578.00', 'MM', 'MMR']\n",
      "['Namibia', '824292.00', 'NA', 'NAM']\n",
      "['Nauru', '21.00', 'NR', 'NRU']\n",
      "['Nepal', '147181.00', 'NP', 'NPL']\n",
      "['Netherlands', '41526.00', 'NL', 'NLD']\n",
      "['Netherlands Antilles', '800.00', 'AN', 'ANT']\n",
      "['New Caledonia', '18575.00', 'NC', 'NCL']\n",
      "['New Zealand', '270534.00', 'NZ', 'NZL']\n",
      "['Nicaragua', '130000.00', 'NI', 'NIC']\n",
      "['Niger', '1267000.00', 'NE', 'NER']\n",
      "['Nigeria', '923768.00', 'NG', 'NGA']\n",
      "['Niue', '260.00', 'NU', 'NIU']\n",
      "['Norfolk Island', '36.00', 'NF', 'NFK']\n",
      "['North Korea', '120538.00', 'KP', 'PRK']\n",
      "['Northern Mariana Islands', '464.00', 'MP', 'MNP']\n",
      "['Norway', '323877.00', 'NO', 'NOR']\n",
      "['Oman', '309500.00', 'OM', 'OMN']\n",
      "['Pakistan', '796095.00', 'PK', 'PAK']\n",
      "['Palau', '459.00', 'PW', 'PLW']\n",
      "['Palestine', '6257.00', 'PS', 'PSE']\n",
      "['Panama', '75517.00', 'PA', 'PAN']\n",
      "['Papua New Guinea', '462840.00', 'PG', 'PNG']\n",
      "['Paraguay', '406752.00', 'PY', 'PRY']\n",
      "['Peru', '1285216.00', 'PE', 'PER']\n",
      "['Philippines', '300000.00', 'PH', 'PHL']\n",
      "['Pitcairn', '49.00', 'PN', 'PCN']\n",
      "['Poland', '323250.00', 'PL', 'POL']\n",
      "['Portugal', '91982.00', 'PT', 'PRT']\n",
      "['Puerto Rico', '8875.00', 'PR', 'PRI']\n",
      "['Qatar', '11000.00', 'QA', 'QAT']\n",
      "['RÃ©union', '2510.00', 'RE', 'REU']\n",
      "['Romania', '238391.00', 'RO', 'ROM']\n",
      "['Russian Federation', '17075400.00', 'RU', 'RUS']\n",
      "['Rwanda', '26338.00', 'RW', 'RWA']\n",
      "['Saint Helena', '314.00', 'SH', 'SHN']\n",
      "['Saint Kitts and Nevis', '261.00', 'KN', 'KNA']\n",
      "['Saint Lucia', '622.00', 'LC', 'LCA']\n",
      "['Saint Pierre and Miquelon', '242.00', 'PM', 'SPM']\n",
      "['Saint Vincent and the Grenadines', '388.00', 'VC', 'VCT']\n",
      "['Samoa', '2831.00', 'WS', 'WSM']\n",
      "['San Marino', '61.00', 'SM', 'SMR']\n",
      "['Sao Tome and Principe', '964.00', 'ST', 'STP']\n",
      "['Saudi Arabia', '2149690.00', 'SA', 'SAU']\n",
      "['Senegal', '196722.00', 'SN', 'SEN']\n",
      "['Seychelles', '455.00', 'SC', 'SYC']\n",
      "['Sierra Leone', '71740.00', 'SL', 'SLE']\n",
      "['Singapore', '618.00', 'SG', 'SGP']\n",
      "['Slovakia', '49012.00', 'SK', 'SVK']\n",
      "['Slovenia', '20256.00', 'SI', 'SVN']\n",
      "['Solomon Islands', '28896.00', 'SB', 'SLB']\n",
      "['Somalia', '637657.00', 'SO', 'SOM']\n",
      "['South Africa', '1221037.00', 'ZA', 'ZAF']\n",
      "['South Georgia and the South Sandwich Islands', '3903.00', 'GS', 'SGS']\n",
      "['South Korea', '99434.00', 'KR', 'KOR']\n",
      "['Spain', '505992.00', 'ES', 'ESP']\n",
      "['Sri Lanka', '65610.00', 'LK', 'LKA']\n",
      "['Sudan', '2505813.00', 'SD', 'SDN']\n",
      "['Suriname', '163265.00', 'SR', 'SUR']\n",
      "['Svalbard and Jan Mayen', '62422.00', 'SJ', 'SJM']\n",
      "['Swaziland', '17364.00', 'SZ', 'SWZ']\n",
      "['Sweden', '449964.00', 'SE', 'SWE']\n",
      "['Switzerland', '41284.00', 'CH', 'CHE']\n",
      "['Syria', '185180.00', 'SY', 'SYR']\n",
      "['Taiwan', '36188.00', 'TW', 'TWN']\n",
      "['Tajikistan', '143100.00', 'TJ', 'TJK']\n",
      "['Tanzania', '883749.00', 'TZ', 'TZA']\n",
      "['Thailand', '513115.00', 'TH', 'THA']\n",
      "['The Democratic Republic of the Congo', '2344858.00', 'CD', 'COD']\n",
      "['Togo', '56785.00', 'TG', 'TGO']\n",
      "['Tokelau', '12.00', 'TK', 'TKL']\n",
      "['Tonga', '650.00', 'TO', 'TON']\n",
      "['Trinidad and Tobago', '5130.00', 'TT', 'TTO']\n",
      "['Tunisia', '163610.00', 'TN', 'TUN']\n",
      "['Turkey', '774815.00', 'TR', 'TUR']\n",
      "['Turkmenistan', '488100.00', 'TM', 'TKM']\n",
      "['Turks and Caicos Islands', '430.00', 'TC', 'TCA']\n",
      "['Tuvalu', '26.00', 'TV', 'TUV']\n",
      "['Uganda', '241038.00', 'UG', 'UGA']\n",
      "['Ukraine', '603700.00', 'UA', 'UKR']\n",
      "['United Arab Emirates', '83600.00', 'AE', 'ARE']\n",
      "['United Kingdom', '242900.00', 'GB', 'GBR']\n",
      "['United States', '9363520.00', 'US', 'USA']\n",
      "['United States Minor Outlying Islands', '16.00', 'UM', 'UMI']\n",
      "['Uruguay', '175016.00', 'UY', 'URY']\n",
      "['Uzbekistan', '447400.00', 'UZ', 'UZB']\n",
      "['Vanuatu', '12189.00', 'VU', 'VUT']\n",
      "['Venezuela', '912050.00', 'VE', 'VEN']\n",
      "['Vietnam', '331689.00', 'VN', 'VNM']\n",
      "['Virgin Islands, British', '151.00', 'VG', 'VGB']\n",
      "['Virgin Islands, U.S.', '347.00', 'VI', 'VIR']\n",
      "['Wallis and Futuna', '200.00', 'WF', 'WLF']\n",
      "['Western Sahara', '266000.00', 'EH', 'ESH']\n",
      "['Yemen', '527968.00', 'YE', 'YEM']\n",
      "['Yugoslavia', '102173.00', 'YU', 'YUG']\n",
      "['Zambia', '752618.00', 'ZM', 'ZMB']\n",
      "['Zimbabwe', '390757.00', 'ZW', 'ZWE']\n"
     ]
    }
   ],
   "source": [
    "for line in csv_reader:\n",
    "    print(line)"
   ]
  },
  {
   "cell_type": "code",
   "execution_count": 41,
   "id": "8b8c509f",
   "metadata": {},
   "outputs": [
    {
     "data": {
      "text/plain": [
       "'Zimbabwe'"
      ]
     },
     "execution_count": 41,
     "metadata": {},
     "output_type": "execute_result"
    }
   ],
   "source": [
    "line[0]"
   ]
  },
  {
   "cell_type": "code",
   "execution_count": 42,
   "id": "4e5476e0",
   "metadata": {},
   "outputs": [],
   "source": [
    "f.close()"
   ]
  },
  {
   "cell_type": "code",
   "execution_count": 43,
   "id": "39e27bd0",
   "metadata": {},
   "outputs": [
    {
     "name": "stdout",
     "output_type": "stream",
     "text": [
      "['name', 'area', 'country_code2', 'country_code3']\n",
      "['Afghanistan', '652090.00', 'AF', 'AFG']\n",
      "['Albania', '28748.00', 'AL', 'ALB']\n",
      "['Algeria', '2381741.00', 'DZ', 'DZA']\n",
      "['American Samoa', '199.00', 'AS', 'ASM']\n",
      "['Andorra', '468.00', 'AD', 'AND']\n",
      "['Angola', '1246700.00', 'AO', 'AGO']\n",
      "['Anguilla', '96.00', 'AI', 'AIA']\n",
      "['Antarctica', '13120000.00', 'AQ', 'ATA']\n",
      "['Antigua and Barbuda', '442.00', 'AG', 'ATG']\n",
      "['Argentina', '2780400.00', 'AR', 'ARG']\n",
      "['Armenia', '29800.00', 'AM', 'ARM']\n",
      "['Aruba', '193.00', 'AW', 'ABW']\n",
      "['Australia', '7741220.00', 'AU', 'AUS']\n",
      "['Austria', '83859.00', 'AT', 'AUT']\n",
      "['Azerbaijan', '86600.00', 'AZ', 'AZE']\n",
      "['Bahamas', '13878.00', 'BS', 'BHS']\n",
      "['Bahrain', '694.00', 'BH', 'BHR']\n",
      "['Bangladesh', '143998.00', 'BD', 'BGD']\n",
      "['Barbados', '430.00', 'BB', 'BRB']\n",
      "['Belarus', '207600.00', 'BY', 'BLR']\n",
      "['Belgium', '30518.00', 'BE', 'BEL']\n",
      "['Belize', '22696.00', 'BZ', 'BLZ']\n",
      "['Benin', '112622.00', 'BJ', 'BEN']\n",
      "['Bermuda', '53.00', 'BM', 'BMU']\n",
      "['Bhutan', '47000.00', 'BT', 'BTN']\n",
      "['Bolivia', '1098581.00', 'BO', 'BOL']\n",
      "['Bosnia and Herzegovina', '51197.00', 'BA', 'BIH']\n",
      "['Botswana', '581730.00', 'BW', 'BWA']\n",
      "['Bouvet Island', '59.00', 'BV', 'BVT']\n",
      "['Brazil', '8547403.00', 'BR', 'BRA']\n",
      "['British Indian Ocean Territory', '78.00', 'IO', 'IOT']\n",
      "['Brunei', '5765.00', 'BN', 'BRN']\n",
      "['Bulgaria', '110994.00', 'BG', 'BGR']\n",
      "['Burkina Faso', '274000.00', 'BF', 'BFA']\n",
      "['Burundi', '27834.00', 'BI', 'BDI']\n",
      "['Cambodia', '181035.00', 'KH', 'KHM']\n",
      "['Cameroon', '475442.00', 'CM', 'CMR']\n",
      "['Canada', '9970610.00', 'CA', 'CAN']\n",
      "['Cape Verde', '4033.00', 'CV', 'CPV']\n",
      "['Cayman Islands', '264.00', 'KY', 'CYM']\n",
      "['Central African Republic', '622984.00', 'CF', 'CAF']\n",
      "['Chad', '1284000.00', 'TD', 'TCD']\n",
      "['Chile', '756626.00', 'CL', 'CHL']\n",
      "['China', '9572900.00', 'CN', 'CHN']\n",
      "['Christmas Island', '135.00', 'CX', 'CXR']\n",
      "['Cocos (Keeling) Islands', '14.00', 'CC', 'CCK']\n",
      "['Colombia', '1138914.00', 'CO', 'COL']\n",
      "['Comoros', '1862.00', 'KM', 'COM']\n",
      "['Congo', '342000.00', 'CG', 'COG']\n",
      "['Cook Islands', '236.00', 'CK', 'COK']\n",
      "['Costa Rica', '51100.00', 'CR', 'CRI']\n",
      "['CÃ´te dâ€™Ivoire', '322463.00', 'CI', 'CIV']\n",
      "['Croatia', '56538.00', 'HR', 'HRV']\n",
      "['Cuba', '110861.00', 'CU', 'CUB']\n",
      "['Cyprus', '9251.00', 'CY', 'CYP']\n",
      "['Czech Republic', '78866.00', 'CZ', 'CZE']\n",
      "['Denmark', '43094.00', 'DK', 'DNK']\n",
      "['Djibouti', '23200.00', 'DJ', 'DJI']\n",
      "['Dominica', '751.00', 'DM', 'DMA']\n",
      "['Dominican Republic', '48511.00', 'DO', 'DOM']\n",
      "['East Timor', '14874.00', 'TP', 'TMP']\n",
      "['Ecuador', '283561.00', 'EC', 'ECU']\n",
      "['Egypt', '1001449.00', 'EG', 'EGY']\n",
      "['El Salvador', '21041.00', 'SV', 'SLV']\n",
      "['Equatorial Guinea', '28051.00', 'GQ', 'GNQ']\n",
      "['Eritrea', '117600.00', 'ER', 'ERI']\n",
      "['Estonia', '45227.00', 'EE', 'EST']\n",
      "['Ethiopia', '1104300.00', 'ET', 'ETH']\n",
      "['Falkland Islands', '12173.00', 'FK', 'FLK']\n",
      "['Faroe Islands', '1399.00', 'FO', 'FRO']\n",
      "['Federated States of Micronesia', '702.00', 'FM', 'FSM']\n",
      "['Fiji Islands', '18274.00', 'FJ', 'FJI']\n",
      "['Finland', '338145.00', 'FI', 'FIN']\n",
      "['France', '551500.00', 'FR', 'FRA']\n",
      "['French Guiana', '90000.00', 'GF', 'GUF']\n",
      "['French Polynesia', '4000.00', 'PF', 'PYF']\n",
      "['French Southern territories', '7780.00', 'TF', 'ATF']\n",
      "['Gabon', '267668.00', 'GA', 'GAB']\n",
      "['Gambia', '11295.00', 'GM', 'GMB']\n",
      "['Georgia', '69700.00', 'GE', 'GEO']\n",
      "['Germany', '357022.00', 'DE', 'DEU']\n",
      "['Ghana', '238533.00', 'GH', 'GHA']\n",
      "['Gibraltar', '6.00', 'GI', 'GIB']\n",
      "['Greece', '131626.00', 'GR', 'GRC']\n",
      "['Greenland', '2166090.00', 'GL', 'GRL']\n",
      "['Grenada', '344.00', 'GD', 'GRD']\n",
      "['Guadeloupe', '1705.00', 'GP', 'GLP']\n",
      "['Guam', '549.00', 'GU', 'GUM']\n",
      "['Guatemala', '108889.00', 'GT', 'GTM']\n",
      "['Guinea', '245857.00', 'GN', 'GIN']\n",
      "['Guinea-Bissau', '36125.00', 'GW', 'GNB']\n",
      "['Guyana', '214969.00', 'GY', 'GUY']\n",
      "['Haiti', '27750.00', 'HT', 'HTI']\n",
      "['Heard Island and McDonald Islands', '359.00', 'HM', 'HMD']\n",
      "['Holy See (Vatican City State)', '0.40', 'VA', 'VAT']\n",
      "['Honduras', '112088.00', 'HN', 'HND']\n",
      "['Hong Kong', '1075.00', 'HK', 'HKG']\n",
      "['Hungary', '93030.00', 'HU', 'HUN']\n",
      "['Iceland', '103000.00', 'IS', 'ISL']\n",
      "['India', '3287263.00', 'IN', 'IND']\n",
      "['Indonesia', '1904569.00', 'ID', 'IDN']\n",
      "['Iran', '1648195.00', 'IR', 'IRN']\n",
      "['Iraq', '438317.00', 'IQ', 'IRQ']\n",
      "['Ireland', '70273.00', 'IE', 'IRL']\n",
      "['Israel', '21056.00', 'IL', 'ISR']\n",
      "['Italy', '301316.00', 'IT', 'ITA']\n",
      "['Jamaica', '10990.00', 'JM', 'JAM']\n",
      "['Japan', '377829.00', 'JP', 'JPN']\n",
      "['Jordan', '88946.00', 'JO', 'JOR']\n",
      "['Kazakstan', '2724900.00', 'KZ', 'KAZ']\n",
      "['Kenya', '580367.00', 'KE', 'KEN']\n",
      "['Kiribati', '726.00', 'KI', 'KIR']\n",
      "['Kuwait', '17818.00', 'KW', 'KWT']\n",
      "['Kyrgyzstan', '199900.00', 'KG', 'KGZ']\n",
      "['Laos', '236800.00', 'LA', 'LAO']\n",
      "['Latvia', '64589.00', 'LV', 'LVA']\n",
      "['Lebanon', '10400.00', 'LB', 'LBN']\n",
      "['Lesotho', '30355.00', 'LS', 'LSO']\n",
      "['Liberia', '111369.00', 'LR', 'LBR']\n",
      "['Libyan Arab Jamahiriya', '1759540.00', 'LY', 'LBY']\n",
      "['Liechtenstein', '160.00', 'LI', 'LIE']\n",
      "['Lithuania', '65301.00', 'LT', 'LTU']\n",
      "['Luxembourg', '2586.00', 'LU', 'LUX']\n",
      "['Macao', '18.00', 'MO', 'MAC']\n",
      "['Macedonia', '25713.00', 'MK', 'MKD']\n",
      "['Madagascar', '587041.00', 'MG', 'MDG']\n",
      "['Malawi', '118484.00', 'MW', 'MWI']\n",
      "['Malaysia', '329758.00', 'MY', 'MYS']\n",
      "['Maldives', '298.00', 'MV', 'MDV']\n",
      "['Mali', '1240192.00', 'ML', 'MLI']\n",
      "['Malta', '316.00', 'MT', 'MLT']\n",
      "['Marshall Islands', '181.00', 'MH', 'MHL']\n",
      "['Martinique', '1102.00', 'MQ', 'MTQ']\n",
      "['Mauritania', '1025520.00', 'MR', 'MRT']\n",
      "['Mauritius', '2040.00', 'MU', 'MUS']\n",
      "['Mayotte', '373.00', 'YT', 'MYT']\n",
      "['Mexico', '1958201.00', 'MX', 'MEX']\n",
      "['Moldova', '33851.00', 'MD', 'MDA']\n",
      "['Monaco', '1.50', 'MC', 'MCO']\n",
      "['Mongolia', '1566500.00', 'MN', 'MNG']\n",
      "['Montserrat', '102.00', 'MS', 'MSR']\n",
      "['Morocco', '446550.00', 'MA', 'MAR']\n",
      "['Mozambique', '801590.00', 'MZ', 'MOZ']\n",
      "['Myanmar', '676578.00', 'MM', 'MMR']\n",
      "['Namibia', '824292.00', 'NA', 'NAM']\n",
      "['Nauru', '21.00', 'NR', 'NRU']\n",
      "['Nepal', '147181.00', 'NP', 'NPL']\n",
      "['Netherlands', '41526.00', 'NL', 'NLD']\n",
      "['Netherlands Antilles', '800.00', 'AN', 'ANT']\n",
      "['New Caledonia', '18575.00', 'NC', 'NCL']\n",
      "['New Zealand', '270534.00', 'NZ', 'NZL']\n",
      "['Nicaragua', '130000.00', 'NI', 'NIC']\n",
      "['Niger', '1267000.00', 'NE', 'NER']\n",
      "['Nigeria', '923768.00', 'NG', 'NGA']\n",
      "['Niue', '260.00', 'NU', 'NIU']\n",
      "['Norfolk Island', '36.00', 'NF', 'NFK']\n",
      "['North Korea', '120538.00', 'KP', 'PRK']\n",
      "['Northern Mariana Islands', '464.00', 'MP', 'MNP']\n",
      "['Norway', '323877.00', 'NO', 'NOR']\n",
      "['Oman', '309500.00', 'OM', 'OMN']\n",
      "['Pakistan', '796095.00', 'PK', 'PAK']\n",
      "['Palau', '459.00', 'PW', 'PLW']\n",
      "['Palestine', '6257.00', 'PS', 'PSE']\n",
      "['Panama', '75517.00', 'PA', 'PAN']\n",
      "['Papua New Guinea', '462840.00', 'PG', 'PNG']\n",
      "['Paraguay', '406752.00', 'PY', 'PRY']\n",
      "['Peru', '1285216.00', 'PE', 'PER']\n",
      "['Philippines', '300000.00', 'PH', 'PHL']\n",
      "['Pitcairn', '49.00', 'PN', 'PCN']\n",
      "['Poland', '323250.00', 'PL', 'POL']\n",
      "['Portugal', '91982.00', 'PT', 'PRT']\n",
      "['Puerto Rico', '8875.00', 'PR', 'PRI']\n",
      "['Qatar', '11000.00', 'QA', 'QAT']\n",
      "['RÃ©union', '2510.00', 'RE', 'REU']\n",
      "['Romania', '238391.00', 'RO', 'ROM']\n",
      "['Russian Federation', '17075400.00', 'RU', 'RUS']\n",
      "['Rwanda', '26338.00', 'RW', 'RWA']\n",
      "['Saint Helena', '314.00', 'SH', 'SHN']\n",
      "['Saint Kitts and Nevis', '261.00', 'KN', 'KNA']\n",
      "['Saint Lucia', '622.00', 'LC', 'LCA']\n",
      "['Saint Pierre and Miquelon', '242.00', 'PM', 'SPM']\n",
      "['Saint Vincent and the Grenadines', '388.00', 'VC', 'VCT']\n",
      "['Samoa', '2831.00', 'WS', 'WSM']\n",
      "['San Marino', '61.00', 'SM', 'SMR']\n",
      "['Sao Tome and Principe', '964.00', 'ST', 'STP']\n",
      "['Saudi Arabia', '2149690.00', 'SA', 'SAU']\n",
      "['Senegal', '196722.00', 'SN', 'SEN']\n",
      "['Seychelles', '455.00', 'SC', 'SYC']\n",
      "['Sierra Leone', '71740.00', 'SL', 'SLE']\n",
      "['Singapore', '618.00', 'SG', 'SGP']\n",
      "['Slovakia', '49012.00', 'SK', 'SVK']\n",
      "['Slovenia', '20256.00', 'SI', 'SVN']\n",
      "['Solomon Islands', '28896.00', 'SB', 'SLB']\n",
      "['Somalia', '637657.00', 'SO', 'SOM']\n",
      "['South Africa', '1221037.00', 'ZA', 'ZAF']\n",
      "['South Georgia and the South Sandwich Islands', '3903.00', 'GS', 'SGS']\n",
      "['South Korea', '99434.00', 'KR', 'KOR']\n",
      "['Spain', '505992.00', 'ES', 'ESP']\n",
      "['Sri Lanka', '65610.00', 'LK', 'LKA']\n",
      "['Sudan', '2505813.00', 'SD', 'SDN']\n",
      "['Suriname', '163265.00', 'SR', 'SUR']\n",
      "['Svalbard and Jan Mayen', '62422.00', 'SJ', 'SJM']\n",
      "['Swaziland', '17364.00', 'SZ', 'SWZ']\n",
      "['Sweden', '449964.00', 'SE', 'SWE']\n",
      "['Switzerland', '41284.00', 'CH', 'CHE']\n",
      "['Syria', '185180.00', 'SY', 'SYR']\n",
      "['Taiwan', '36188.00', 'TW', 'TWN']\n",
      "['Tajikistan', '143100.00', 'TJ', 'TJK']\n",
      "['Tanzania', '883749.00', 'TZ', 'TZA']\n",
      "['Thailand', '513115.00', 'TH', 'THA']\n",
      "['The Democratic Republic of the Congo', '2344858.00', 'CD', 'COD']\n",
      "['Togo', '56785.00', 'TG', 'TGO']\n",
      "['Tokelau', '12.00', 'TK', 'TKL']\n",
      "['Tonga', '650.00', 'TO', 'TON']\n",
      "['Trinidad and Tobago', '5130.00', 'TT', 'TTO']\n",
      "['Tunisia', '163610.00', 'TN', 'TUN']\n",
      "['Turkey', '774815.00', 'TR', 'TUR']\n",
      "['Turkmenistan', '488100.00', 'TM', 'TKM']\n",
      "['Turks and Caicos Islands', '430.00', 'TC', 'TCA']\n",
      "['Tuvalu', '26.00', 'TV', 'TUV']\n",
      "['Uganda', '241038.00', 'UG', 'UGA']\n",
      "['Ukraine', '603700.00', 'UA', 'UKR']\n",
      "['United Arab Emirates', '83600.00', 'AE', 'ARE']\n",
      "['United Kingdom', '242900.00', 'GB', 'GBR']\n",
      "['United States', '9363520.00', 'US', 'USA']\n",
      "['United States Minor Outlying Islands', '16.00', 'UM', 'UMI']\n",
      "['Uruguay', '175016.00', 'UY', 'URY']\n",
      "['Uzbekistan', '447400.00', 'UZ', 'UZB']\n",
      "['Vanuatu', '12189.00', 'VU', 'VUT']\n",
      "['Venezuela', '912050.00', 'VE', 'VEN']\n",
      "['Vietnam', '331689.00', 'VN', 'VNM']\n",
      "['Virgin Islands, British', '151.00', 'VG', 'VGB']\n",
      "['Virgin Islands, U.S.', '347.00', 'VI', 'VIR']\n",
      "['Wallis and Futuna', '200.00', 'WF', 'WLF']\n",
      "['Western Sahara', '266000.00', 'EH', 'ESH']\n",
      "['Yemen', '527968.00', 'YE', 'YEM']\n",
      "['Yugoslavia', '102173.00', 'YU', 'YUG']\n",
      "['Zambia', '752618.00', 'ZM', 'ZMB']\n",
      "['Zimbabwe', '390757.00', 'ZW', 'ZWE']\n"
     ]
    }
   ],
   "source": [
    "import csv\n",
    "\n",
    "with open('country.csv', 'r') as f:\n",
    "    csv_reader = csv.reader(f)\n",
    "    for line in csv_reader:\n",
    "        # process each line\n",
    "        print(line)"
   ]
  },
  {
   "cell_type": "markdown",
   "id": "655ab1f7",
   "metadata": {},
   "source": [
    "#### Reading a CSV file examples"
   ]
  },
  {
   "cell_type": "code",
   "execution_count": 44,
   "id": "14446800",
   "metadata": {},
   "outputs": [
    {
     "name": "stdout",
     "output_type": "stream",
     "text": [
      "['name', 'area', 'country_code2', 'country_code3']\n",
      "['Afghanistan', '652090.00', 'AF', 'AFG']\n",
      "['Albania', '28748.00', 'AL', 'ALB']\n",
      "['Algeria', '2381741.00', 'DZ', 'DZA']\n",
      "['American Samoa', '199.00', 'AS', 'ASM']\n",
      "['Andorra', '468.00', 'AD', 'AND']\n",
      "['Angola', '1246700.00', 'AO', 'AGO']\n",
      "['Anguilla', '96.00', 'AI', 'AIA']\n",
      "['Antarctica', '13120000.00', 'AQ', 'ATA']\n",
      "['Antigua and Barbuda', '442.00', 'AG', 'ATG']\n",
      "['Argentina', '2780400.00', 'AR', 'ARG']\n",
      "['Armenia', '29800.00', 'AM', 'ARM']\n",
      "['Aruba', '193.00', 'AW', 'ABW']\n",
      "['Australia', '7741220.00', 'AU', 'AUS']\n",
      "['Austria', '83859.00', 'AT', 'AUT']\n",
      "['Azerbaijan', '86600.00', 'AZ', 'AZE']\n",
      "['Bahamas', '13878.00', 'BS', 'BHS']\n",
      "['Bahrain', '694.00', 'BH', 'BHR']\n",
      "['Bangladesh', '143998.00', 'BD', 'BGD']\n",
      "['Barbados', '430.00', 'BB', 'BRB']\n",
      "['Belarus', '207600.00', 'BY', 'BLR']\n",
      "['Belgium', '30518.00', 'BE', 'BEL']\n",
      "['Belize', '22696.00', 'BZ', 'BLZ']\n",
      "['Benin', '112622.00', 'BJ', 'BEN']\n",
      "['Bermuda', '53.00', 'BM', 'BMU']\n",
      "['Bhutan', '47000.00', 'BT', 'BTN']\n",
      "['Bolivia', '1098581.00', 'BO', 'BOL']\n",
      "['Bosnia and Herzegovina', '51197.00', 'BA', 'BIH']\n",
      "['Botswana', '581730.00', 'BW', 'BWA']\n",
      "['Bouvet Island', '59.00', 'BV', 'BVT']\n",
      "['Brazil', '8547403.00', 'BR', 'BRA']\n",
      "['British Indian Ocean Territory', '78.00', 'IO', 'IOT']\n",
      "['Brunei', '5765.00', 'BN', 'BRN']\n",
      "['Bulgaria', '110994.00', 'BG', 'BGR']\n",
      "['Burkina Faso', '274000.00', 'BF', 'BFA']\n",
      "['Burundi', '27834.00', 'BI', 'BDI']\n",
      "['Cambodia', '181035.00', 'KH', 'KHM']\n",
      "['Cameroon', '475442.00', 'CM', 'CMR']\n",
      "['Canada', '9970610.00', 'CA', 'CAN']\n",
      "['Cape Verde', '4033.00', 'CV', 'CPV']\n",
      "['Cayman Islands', '264.00', 'KY', 'CYM']\n",
      "['Central African Republic', '622984.00', 'CF', 'CAF']\n",
      "['Chad', '1284000.00', 'TD', 'TCD']\n",
      "['Chile', '756626.00', 'CL', 'CHL']\n",
      "['China', '9572900.00', 'CN', 'CHN']\n",
      "['Christmas Island', '135.00', 'CX', 'CXR']\n",
      "['Cocos (Keeling) Islands', '14.00', 'CC', 'CCK']\n",
      "['Colombia', '1138914.00', 'CO', 'COL']\n",
      "['Comoros', '1862.00', 'KM', 'COM']\n",
      "['Congo', '342000.00', 'CG', 'COG']\n",
      "['Cook Islands', '236.00', 'CK', 'COK']\n",
      "['Costa Rica', '51100.00', 'CR', 'CRI']\n",
      "['Côte d’Ivoire', '322463.00', 'CI', 'CIV']\n",
      "['Croatia', '56538.00', 'HR', 'HRV']\n",
      "['Cuba', '110861.00', 'CU', 'CUB']\n",
      "['Cyprus', '9251.00', 'CY', 'CYP']\n",
      "['Czech Republic', '78866.00', 'CZ', 'CZE']\n",
      "['Denmark', '43094.00', 'DK', 'DNK']\n",
      "['Djibouti', '23200.00', 'DJ', 'DJI']\n",
      "['Dominica', '751.00', 'DM', 'DMA']\n",
      "['Dominican Republic', '48511.00', 'DO', 'DOM']\n",
      "['East Timor', '14874.00', 'TP', 'TMP']\n",
      "['Ecuador', '283561.00', 'EC', 'ECU']\n",
      "['Egypt', '1001449.00', 'EG', 'EGY']\n",
      "['El Salvador', '21041.00', 'SV', 'SLV']\n",
      "['Equatorial Guinea', '28051.00', 'GQ', 'GNQ']\n",
      "['Eritrea', '117600.00', 'ER', 'ERI']\n",
      "['Estonia', '45227.00', 'EE', 'EST']\n",
      "['Ethiopia', '1104300.00', 'ET', 'ETH']\n",
      "['Falkland Islands', '12173.00', 'FK', 'FLK']\n",
      "['Faroe Islands', '1399.00', 'FO', 'FRO']\n",
      "['Federated States of Micronesia', '702.00', 'FM', 'FSM']\n",
      "['Fiji Islands', '18274.00', 'FJ', 'FJI']\n",
      "['Finland', '338145.00', 'FI', 'FIN']\n",
      "['France', '551500.00', 'FR', 'FRA']\n",
      "['French Guiana', '90000.00', 'GF', 'GUF']\n",
      "['French Polynesia', '4000.00', 'PF', 'PYF']\n",
      "['French Southern territories', '7780.00', 'TF', 'ATF']\n",
      "['Gabon', '267668.00', 'GA', 'GAB']\n",
      "['Gambia', '11295.00', 'GM', 'GMB']\n",
      "['Georgia', '69700.00', 'GE', 'GEO']\n",
      "['Germany', '357022.00', 'DE', 'DEU']\n",
      "['Ghana', '238533.00', 'GH', 'GHA']\n",
      "['Gibraltar', '6.00', 'GI', 'GIB']\n",
      "['Greece', '131626.00', 'GR', 'GRC']\n",
      "['Greenland', '2166090.00', 'GL', 'GRL']\n",
      "['Grenada', '344.00', 'GD', 'GRD']\n",
      "['Guadeloupe', '1705.00', 'GP', 'GLP']\n",
      "['Guam', '549.00', 'GU', 'GUM']\n",
      "['Guatemala', '108889.00', 'GT', 'GTM']\n",
      "['Guinea', '245857.00', 'GN', 'GIN']\n",
      "['Guinea-Bissau', '36125.00', 'GW', 'GNB']\n",
      "['Guyana', '214969.00', 'GY', 'GUY']\n",
      "['Haiti', '27750.00', 'HT', 'HTI']\n",
      "['Heard Island and McDonald Islands', '359.00', 'HM', 'HMD']\n",
      "['Holy See (Vatican City State)', '0.40', 'VA', 'VAT']\n",
      "['Honduras', '112088.00', 'HN', 'HND']\n",
      "['Hong Kong', '1075.00', 'HK', 'HKG']\n",
      "['Hungary', '93030.00', 'HU', 'HUN']\n",
      "['Iceland', '103000.00', 'IS', 'ISL']\n",
      "['India', '3287263.00', 'IN', 'IND']\n",
      "['Indonesia', '1904569.00', 'ID', 'IDN']\n",
      "['Iran', '1648195.00', 'IR', 'IRN']\n",
      "['Iraq', '438317.00', 'IQ', 'IRQ']\n",
      "['Ireland', '70273.00', 'IE', 'IRL']\n",
      "['Israel', '21056.00', 'IL', 'ISR']\n",
      "['Italy', '301316.00', 'IT', 'ITA']\n",
      "['Jamaica', '10990.00', 'JM', 'JAM']\n",
      "['Japan', '377829.00', 'JP', 'JPN']\n",
      "['Jordan', '88946.00', 'JO', 'JOR']\n",
      "['Kazakstan', '2724900.00', 'KZ', 'KAZ']\n",
      "['Kenya', '580367.00', 'KE', 'KEN']\n",
      "['Kiribati', '726.00', 'KI', 'KIR']\n",
      "['Kuwait', '17818.00', 'KW', 'KWT']\n",
      "['Kyrgyzstan', '199900.00', 'KG', 'KGZ']\n",
      "['Laos', '236800.00', 'LA', 'LAO']\n",
      "['Latvia', '64589.00', 'LV', 'LVA']\n",
      "['Lebanon', '10400.00', 'LB', 'LBN']\n",
      "['Lesotho', '30355.00', 'LS', 'LSO']\n",
      "['Liberia', '111369.00', 'LR', 'LBR']\n",
      "['Libyan Arab Jamahiriya', '1759540.00', 'LY', 'LBY']\n",
      "['Liechtenstein', '160.00', 'LI', 'LIE']\n",
      "['Lithuania', '65301.00', 'LT', 'LTU']\n",
      "['Luxembourg', '2586.00', 'LU', 'LUX']\n",
      "['Macao', '18.00', 'MO', 'MAC']\n",
      "['Macedonia', '25713.00', 'MK', 'MKD']\n",
      "['Madagascar', '587041.00', 'MG', 'MDG']\n",
      "['Malawi', '118484.00', 'MW', 'MWI']\n",
      "['Malaysia', '329758.00', 'MY', 'MYS']\n",
      "['Maldives', '298.00', 'MV', 'MDV']\n",
      "['Mali', '1240192.00', 'ML', 'MLI']\n",
      "['Malta', '316.00', 'MT', 'MLT']\n",
      "['Marshall Islands', '181.00', 'MH', 'MHL']\n",
      "['Martinique', '1102.00', 'MQ', 'MTQ']\n",
      "['Mauritania', '1025520.00', 'MR', 'MRT']\n",
      "['Mauritius', '2040.00', 'MU', 'MUS']\n",
      "['Mayotte', '373.00', 'YT', 'MYT']\n",
      "['Mexico', '1958201.00', 'MX', 'MEX']\n",
      "['Moldova', '33851.00', 'MD', 'MDA']\n",
      "['Monaco', '1.50', 'MC', 'MCO']\n",
      "['Mongolia', '1566500.00', 'MN', 'MNG']\n",
      "['Montserrat', '102.00', 'MS', 'MSR']\n",
      "['Morocco', '446550.00', 'MA', 'MAR']\n",
      "['Mozambique', '801590.00', 'MZ', 'MOZ']\n",
      "['Myanmar', '676578.00', 'MM', 'MMR']\n",
      "['Namibia', '824292.00', 'NA', 'NAM']\n",
      "['Nauru', '21.00', 'NR', 'NRU']\n",
      "['Nepal', '147181.00', 'NP', 'NPL']\n",
      "['Netherlands', '41526.00', 'NL', 'NLD']\n",
      "['Netherlands Antilles', '800.00', 'AN', 'ANT']\n",
      "['New Caledonia', '18575.00', 'NC', 'NCL']\n",
      "['New Zealand', '270534.00', 'NZ', 'NZL']\n",
      "['Nicaragua', '130000.00', 'NI', 'NIC']\n",
      "['Niger', '1267000.00', 'NE', 'NER']\n",
      "['Nigeria', '923768.00', 'NG', 'NGA']\n",
      "['Niue', '260.00', 'NU', 'NIU']\n",
      "['Norfolk Island', '36.00', 'NF', 'NFK']\n",
      "['North Korea', '120538.00', 'KP', 'PRK']\n",
      "['Northern Mariana Islands', '464.00', 'MP', 'MNP']\n",
      "['Norway', '323877.00', 'NO', 'NOR']\n",
      "['Oman', '309500.00', 'OM', 'OMN']\n",
      "['Pakistan', '796095.00', 'PK', 'PAK']\n",
      "['Palau', '459.00', 'PW', 'PLW']\n",
      "['Palestine', '6257.00', 'PS', 'PSE']\n",
      "['Panama', '75517.00', 'PA', 'PAN']\n",
      "['Papua New Guinea', '462840.00', 'PG', 'PNG']\n",
      "['Paraguay', '406752.00', 'PY', 'PRY']\n",
      "['Peru', '1285216.00', 'PE', 'PER']\n",
      "['Philippines', '300000.00', 'PH', 'PHL']\n",
      "['Pitcairn', '49.00', 'PN', 'PCN']\n",
      "['Poland', '323250.00', 'PL', 'POL']\n",
      "['Portugal', '91982.00', 'PT', 'PRT']\n",
      "['Puerto Rico', '8875.00', 'PR', 'PRI']\n",
      "['Qatar', '11000.00', 'QA', 'QAT']\n",
      "['Réunion', '2510.00', 'RE', 'REU']\n",
      "['Romania', '238391.00', 'RO', 'ROM']\n",
      "['Russian Federation', '17075400.00', 'RU', 'RUS']\n",
      "['Rwanda', '26338.00', 'RW', 'RWA']\n",
      "['Saint Helena', '314.00', 'SH', 'SHN']\n",
      "['Saint Kitts and Nevis', '261.00', 'KN', 'KNA']\n",
      "['Saint Lucia', '622.00', 'LC', 'LCA']\n",
      "['Saint Pierre and Miquelon', '242.00', 'PM', 'SPM']\n",
      "['Saint Vincent and the Grenadines', '388.00', 'VC', 'VCT']\n",
      "['Samoa', '2831.00', 'WS', 'WSM']\n",
      "['San Marino', '61.00', 'SM', 'SMR']\n",
      "['Sao Tome and Principe', '964.00', 'ST', 'STP']\n",
      "['Saudi Arabia', '2149690.00', 'SA', 'SAU']\n",
      "['Senegal', '196722.00', 'SN', 'SEN']\n",
      "['Seychelles', '455.00', 'SC', 'SYC']\n",
      "['Sierra Leone', '71740.00', 'SL', 'SLE']\n",
      "['Singapore', '618.00', 'SG', 'SGP']\n",
      "['Slovakia', '49012.00', 'SK', 'SVK']\n",
      "['Slovenia', '20256.00', 'SI', 'SVN']\n",
      "['Solomon Islands', '28896.00', 'SB', 'SLB']\n",
      "['Somalia', '637657.00', 'SO', 'SOM']\n",
      "['South Africa', '1221037.00', 'ZA', 'ZAF']\n",
      "['South Georgia and the South Sandwich Islands', '3903.00', 'GS', 'SGS']\n",
      "['South Korea', '99434.00', 'KR', 'KOR']\n",
      "['Spain', '505992.00', 'ES', 'ESP']\n",
      "['Sri Lanka', '65610.00', 'LK', 'LKA']\n",
      "['Sudan', '2505813.00', 'SD', 'SDN']\n",
      "['Suriname', '163265.00', 'SR', 'SUR']\n",
      "['Svalbard and Jan Mayen', '62422.00', 'SJ', 'SJM']\n",
      "['Swaziland', '17364.00', 'SZ', 'SWZ']\n",
      "['Sweden', '449964.00', 'SE', 'SWE']\n",
      "['Switzerland', '41284.00', 'CH', 'CHE']\n",
      "['Syria', '185180.00', 'SY', 'SYR']\n",
      "['Taiwan', '36188.00', 'TW', 'TWN']\n",
      "['Tajikistan', '143100.00', 'TJ', 'TJK']\n",
      "['Tanzania', '883749.00', 'TZ', 'TZA']\n",
      "['Thailand', '513115.00', 'TH', 'THA']\n",
      "['The Democratic Republic of the Congo', '2344858.00', 'CD', 'COD']\n",
      "['Togo', '56785.00', 'TG', 'TGO']\n",
      "['Tokelau', '12.00', 'TK', 'TKL']\n",
      "['Tonga', '650.00', 'TO', 'TON']\n",
      "['Trinidad and Tobago', '5130.00', 'TT', 'TTO']\n",
      "['Tunisia', '163610.00', 'TN', 'TUN']\n",
      "['Turkey', '774815.00', 'TR', 'TUR']\n",
      "['Turkmenistan', '488100.00', 'TM', 'TKM']\n",
      "['Turks and Caicos Islands', '430.00', 'TC', 'TCA']\n",
      "['Tuvalu', '26.00', 'TV', 'TUV']\n",
      "['Uganda', '241038.00', 'UG', 'UGA']\n",
      "['Ukraine', '603700.00', 'UA', 'UKR']\n",
      "['United Arab Emirates', '83600.00', 'AE', 'ARE']\n",
      "['United Kingdom', '242900.00', 'GB', 'GBR']\n",
      "['United States', '9363520.00', 'US', 'USA']\n",
      "['United States Minor Outlying Islands', '16.00', 'UM', 'UMI']\n",
      "['Uruguay', '175016.00', 'UY', 'URY']\n",
      "['Uzbekistan', '447400.00', 'UZ', 'UZB']\n",
      "['Vanuatu', '12189.00', 'VU', 'VUT']\n",
      "['Venezuela', '912050.00', 'VE', 'VEN']\n",
      "['Vietnam', '331689.00', 'VN', 'VNM']\n",
      "['Virgin Islands, British', '151.00', 'VG', 'VGB']\n",
      "['Virgin Islands, U.S.', '347.00', 'VI', 'VIR']\n",
      "['Wallis and Futuna', '200.00', 'WF', 'WLF']\n",
      "['Western Sahara', '266000.00', 'EH', 'ESH']\n",
      "['Yemen', '527968.00', 'YE', 'YEM']\n",
      "['Yugoslavia', '102173.00', 'YU', 'YUG']\n",
      "['Zambia', '752618.00', 'ZM', 'ZMB']\n",
      "['Zimbabwe', '390757.00', 'ZW', 'ZWE']\n"
     ]
    }
   ],
   "source": [
    "import csv\n",
    "\n",
    "with open('country.csv', encoding=\"utf8\") as f:\n",
    "    csv_reader = csv.reader(f)\n",
    "    for line in csv_reader:\n",
    "        print(line)"
   ]
  },
  {
   "cell_type": "code",
   "execution_count": 45,
   "id": "dd4c6897",
   "metadata": {},
   "outputs": [
    {
     "name": "stdout",
     "output_type": "stream",
     "text": [
      "Header:\n",
      "['name', 'area', 'country_code2', 'country_code3']\n",
      "Data:\n",
      "['Afghanistan', '652090.00', 'AF', 'AFG']\n",
      "['Albania', '28748.00', 'AL', 'ALB']\n",
      "['Algeria', '2381741.00', 'DZ', 'DZA']\n",
      "['American Samoa', '199.00', 'AS', 'ASM']\n",
      "['Andorra', '468.00', 'AD', 'AND']\n",
      "['Angola', '1246700.00', 'AO', 'AGO']\n",
      "['Anguilla', '96.00', 'AI', 'AIA']\n",
      "['Antarctica', '13120000.00', 'AQ', 'ATA']\n",
      "['Antigua and Barbuda', '442.00', 'AG', 'ATG']\n",
      "['Argentina', '2780400.00', 'AR', 'ARG']\n",
      "['Armenia', '29800.00', 'AM', 'ARM']\n",
      "['Aruba', '193.00', 'AW', 'ABW']\n",
      "['Australia', '7741220.00', 'AU', 'AUS']\n",
      "['Austria', '83859.00', 'AT', 'AUT']\n",
      "['Azerbaijan', '86600.00', 'AZ', 'AZE']\n",
      "['Bahamas', '13878.00', 'BS', 'BHS']\n",
      "['Bahrain', '694.00', 'BH', 'BHR']\n",
      "['Bangladesh', '143998.00', 'BD', 'BGD']\n",
      "['Barbados', '430.00', 'BB', 'BRB']\n",
      "['Belarus', '207600.00', 'BY', 'BLR']\n",
      "['Belgium', '30518.00', 'BE', 'BEL']\n",
      "['Belize', '22696.00', 'BZ', 'BLZ']\n",
      "['Benin', '112622.00', 'BJ', 'BEN']\n",
      "['Bermuda', '53.00', 'BM', 'BMU']\n",
      "['Bhutan', '47000.00', 'BT', 'BTN']\n",
      "['Bolivia', '1098581.00', 'BO', 'BOL']\n",
      "['Bosnia and Herzegovina', '51197.00', 'BA', 'BIH']\n",
      "['Botswana', '581730.00', 'BW', 'BWA']\n",
      "['Bouvet Island', '59.00', 'BV', 'BVT']\n",
      "['Brazil', '8547403.00', 'BR', 'BRA']\n",
      "['British Indian Ocean Territory', '78.00', 'IO', 'IOT']\n",
      "['Brunei', '5765.00', 'BN', 'BRN']\n",
      "['Bulgaria', '110994.00', 'BG', 'BGR']\n",
      "['Burkina Faso', '274000.00', 'BF', 'BFA']\n",
      "['Burundi', '27834.00', 'BI', 'BDI']\n",
      "['Cambodia', '181035.00', 'KH', 'KHM']\n",
      "['Cameroon', '475442.00', 'CM', 'CMR']\n",
      "['Canada', '9970610.00', 'CA', 'CAN']\n",
      "['Cape Verde', '4033.00', 'CV', 'CPV']\n",
      "['Cayman Islands', '264.00', 'KY', 'CYM']\n",
      "['Central African Republic', '622984.00', 'CF', 'CAF']\n",
      "['Chad', '1284000.00', 'TD', 'TCD']\n",
      "['Chile', '756626.00', 'CL', 'CHL']\n",
      "['China', '9572900.00', 'CN', 'CHN']\n",
      "['Christmas Island', '135.00', 'CX', 'CXR']\n",
      "['Cocos (Keeling) Islands', '14.00', 'CC', 'CCK']\n",
      "['Colombia', '1138914.00', 'CO', 'COL']\n",
      "['Comoros', '1862.00', 'KM', 'COM']\n",
      "['Congo', '342000.00', 'CG', 'COG']\n",
      "['Cook Islands', '236.00', 'CK', 'COK']\n",
      "['Costa Rica', '51100.00', 'CR', 'CRI']\n",
      "['Côte d’Ivoire', '322463.00', 'CI', 'CIV']\n",
      "['Croatia', '56538.00', 'HR', 'HRV']\n",
      "['Cuba', '110861.00', 'CU', 'CUB']\n",
      "['Cyprus', '9251.00', 'CY', 'CYP']\n",
      "['Czech Republic', '78866.00', 'CZ', 'CZE']\n",
      "['Denmark', '43094.00', 'DK', 'DNK']\n",
      "['Djibouti', '23200.00', 'DJ', 'DJI']\n",
      "['Dominica', '751.00', 'DM', 'DMA']\n",
      "['Dominican Republic', '48511.00', 'DO', 'DOM']\n",
      "['East Timor', '14874.00', 'TP', 'TMP']\n",
      "['Ecuador', '283561.00', 'EC', 'ECU']\n",
      "['Egypt', '1001449.00', 'EG', 'EGY']\n",
      "['El Salvador', '21041.00', 'SV', 'SLV']\n",
      "['Equatorial Guinea', '28051.00', 'GQ', 'GNQ']\n",
      "['Eritrea', '117600.00', 'ER', 'ERI']\n",
      "['Estonia', '45227.00', 'EE', 'EST']\n",
      "['Ethiopia', '1104300.00', 'ET', 'ETH']\n",
      "['Falkland Islands', '12173.00', 'FK', 'FLK']\n",
      "['Faroe Islands', '1399.00', 'FO', 'FRO']\n",
      "['Federated States of Micronesia', '702.00', 'FM', 'FSM']\n",
      "['Fiji Islands', '18274.00', 'FJ', 'FJI']\n",
      "['Finland', '338145.00', 'FI', 'FIN']\n",
      "['France', '551500.00', 'FR', 'FRA']\n",
      "['French Guiana', '90000.00', 'GF', 'GUF']\n",
      "['French Polynesia', '4000.00', 'PF', 'PYF']\n",
      "['French Southern territories', '7780.00', 'TF', 'ATF']\n",
      "['Gabon', '267668.00', 'GA', 'GAB']\n",
      "['Gambia', '11295.00', 'GM', 'GMB']\n",
      "['Georgia', '69700.00', 'GE', 'GEO']\n",
      "['Germany', '357022.00', 'DE', 'DEU']\n",
      "['Ghana', '238533.00', 'GH', 'GHA']\n",
      "['Gibraltar', '6.00', 'GI', 'GIB']\n",
      "['Greece', '131626.00', 'GR', 'GRC']\n",
      "['Greenland', '2166090.00', 'GL', 'GRL']\n",
      "['Grenada', '344.00', 'GD', 'GRD']\n",
      "['Guadeloupe', '1705.00', 'GP', 'GLP']\n",
      "['Guam', '549.00', 'GU', 'GUM']\n",
      "['Guatemala', '108889.00', 'GT', 'GTM']\n",
      "['Guinea', '245857.00', 'GN', 'GIN']\n",
      "['Guinea-Bissau', '36125.00', 'GW', 'GNB']\n",
      "['Guyana', '214969.00', 'GY', 'GUY']\n",
      "['Haiti', '27750.00', 'HT', 'HTI']\n",
      "['Heard Island and McDonald Islands', '359.00', 'HM', 'HMD']\n",
      "['Holy See (Vatican City State)', '0.40', 'VA', 'VAT']\n",
      "['Honduras', '112088.00', 'HN', 'HND']\n",
      "['Hong Kong', '1075.00', 'HK', 'HKG']\n",
      "['Hungary', '93030.00', 'HU', 'HUN']\n",
      "['Iceland', '103000.00', 'IS', 'ISL']\n",
      "['India', '3287263.00', 'IN', 'IND']\n",
      "['Indonesia', '1904569.00', 'ID', 'IDN']\n",
      "['Iran', '1648195.00', 'IR', 'IRN']\n",
      "['Iraq', '438317.00', 'IQ', 'IRQ']\n",
      "['Ireland', '70273.00', 'IE', 'IRL']\n",
      "['Israel', '21056.00', 'IL', 'ISR']\n",
      "['Italy', '301316.00', 'IT', 'ITA']\n",
      "['Jamaica', '10990.00', 'JM', 'JAM']\n",
      "['Japan', '377829.00', 'JP', 'JPN']\n",
      "['Jordan', '88946.00', 'JO', 'JOR']\n",
      "['Kazakstan', '2724900.00', 'KZ', 'KAZ']\n",
      "['Kenya', '580367.00', 'KE', 'KEN']\n",
      "['Kiribati', '726.00', 'KI', 'KIR']\n",
      "['Kuwait', '17818.00', 'KW', 'KWT']\n",
      "['Kyrgyzstan', '199900.00', 'KG', 'KGZ']\n",
      "['Laos', '236800.00', 'LA', 'LAO']\n",
      "['Latvia', '64589.00', 'LV', 'LVA']\n",
      "['Lebanon', '10400.00', 'LB', 'LBN']\n",
      "['Lesotho', '30355.00', 'LS', 'LSO']\n",
      "['Liberia', '111369.00', 'LR', 'LBR']\n",
      "['Libyan Arab Jamahiriya', '1759540.00', 'LY', 'LBY']\n",
      "['Liechtenstein', '160.00', 'LI', 'LIE']\n",
      "['Lithuania', '65301.00', 'LT', 'LTU']\n",
      "['Luxembourg', '2586.00', 'LU', 'LUX']\n",
      "['Macao', '18.00', 'MO', 'MAC']\n",
      "['Macedonia', '25713.00', 'MK', 'MKD']\n",
      "['Madagascar', '587041.00', 'MG', 'MDG']\n",
      "['Malawi', '118484.00', 'MW', 'MWI']\n",
      "['Malaysia', '329758.00', 'MY', 'MYS']\n",
      "['Maldives', '298.00', 'MV', 'MDV']\n",
      "['Mali', '1240192.00', 'ML', 'MLI']\n",
      "['Malta', '316.00', 'MT', 'MLT']\n",
      "['Marshall Islands', '181.00', 'MH', 'MHL']\n",
      "['Martinique', '1102.00', 'MQ', 'MTQ']\n",
      "['Mauritania', '1025520.00', 'MR', 'MRT']\n",
      "['Mauritius', '2040.00', 'MU', 'MUS']\n",
      "['Mayotte', '373.00', 'YT', 'MYT']\n",
      "['Mexico', '1958201.00', 'MX', 'MEX']\n",
      "['Moldova', '33851.00', 'MD', 'MDA']\n",
      "['Monaco', '1.50', 'MC', 'MCO']\n",
      "['Mongolia', '1566500.00', 'MN', 'MNG']\n",
      "['Montserrat', '102.00', 'MS', 'MSR']\n",
      "['Morocco', '446550.00', 'MA', 'MAR']\n",
      "['Mozambique', '801590.00', 'MZ', 'MOZ']\n",
      "['Myanmar', '676578.00', 'MM', 'MMR']\n",
      "['Namibia', '824292.00', 'NA', 'NAM']\n",
      "['Nauru', '21.00', 'NR', 'NRU']\n",
      "['Nepal', '147181.00', 'NP', 'NPL']\n",
      "['Netherlands', '41526.00', 'NL', 'NLD']\n",
      "['Netherlands Antilles', '800.00', 'AN', 'ANT']\n",
      "['New Caledonia', '18575.00', 'NC', 'NCL']\n",
      "['New Zealand', '270534.00', 'NZ', 'NZL']\n",
      "['Nicaragua', '130000.00', 'NI', 'NIC']\n",
      "['Niger', '1267000.00', 'NE', 'NER']\n",
      "['Nigeria', '923768.00', 'NG', 'NGA']\n",
      "['Niue', '260.00', 'NU', 'NIU']\n",
      "['Norfolk Island', '36.00', 'NF', 'NFK']\n",
      "['North Korea', '120538.00', 'KP', 'PRK']\n",
      "['Northern Mariana Islands', '464.00', 'MP', 'MNP']\n",
      "['Norway', '323877.00', 'NO', 'NOR']\n",
      "['Oman', '309500.00', 'OM', 'OMN']\n",
      "['Pakistan', '796095.00', 'PK', 'PAK']\n",
      "['Palau', '459.00', 'PW', 'PLW']\n",
      "['Palestine', '6257.00', 'PS', 'PSE']\n",
      "['Panama', '75517.00', 'PA', 'PAN']\n",
      "['Papua New Guinea', '462840.00', 'PG', 'PNG']\n",
      "['Paraguay', '406752.00', 'PY', 'PRY']\n",
      "['Peru', '1285216.00', 'PE', 'PER']\n",
      "['Philippines', '300000.00', 'PH', 'PHL']\n",
      "['Pitcairn', '49.00', 'PN', 'PCN']\n",
      "['Poland', '323250.00', 'PL', 'POL']\n",
      "['Portugal', '91982.00', 'PT', 'PRT']\n",
      "['Puerto Rico', '8875.00', 'PR', 'PRI']\n",
      "['Qatar', '11000.00', 'QA', 'QAT']\n",
      "['Réunion', '2510.00', 'RE', 'REU']\n",
      "['Romania', '238391.00', 'RO', 'ROM']\n",
      "['Russian Federation', '17075400.00', 'RU', 'RUS']\n",
      "['Rwanda', '26338.00', 'RW', 'RWA']\n",
      "['Saint Helena', '314.00', 'SH', 'SHN']\n",
      "['Saint Kitts and Nevis', '261.00', 'KN', 'KNA']\n",
      "['Saint Lucia', '622.00', 'LC', 'LCA']\n",
      "['Saint Pierre and Miquelon', '242.00', 'PM', 'SPM']\n",
      "['Saint Vincent and the Grenadines', '388.00', 'VC', 'VCT']\n",
      "['Samoa', '2831.00', 'WS', 'WSM']\n",
      "['San Marino', '61.00', 'SM', 'SMR']\n",
      "['Sao Tome and Principe', '964.00', 'ST', 'STP']\n",
      "['Saudi Arabia', '2149690.00', 'SA', 'SAU']\n",
      "['Senegal', '196722.00', 'SN', 'SEN']\n",
      "['Seychelles', '455.00', 'SC', 'SYC']\n",
      "['Sierra Leone', '71740.00', 'SL', 'SLE']\n",
      "['Singapore', '618.00', 'SG', 'SGP']\n",
      "['Slovakia', '49012.00', 'SK', 'SVK']\n",
      "['Slovenia', '20256.00', 'SI', 'SVN']\n",
      "['Solomon Islands', '28896.00', 'SB', 'SLB']\n",
      "['Somalia', '637657.00', 'SO', 'SOM']\n",
      "['South Africa', '1221037.00', 'ZA', 'ZAF']\n",
      "['South Georgia and the South Sandwich Islands', '3903.00', 'GS', 'SGS']\n",
      "['South Korea', '99434.00', 'KR', 'KOR']\n",
      "['Spain', '505992.00', 'ES', 'ESP']\n",
      "['Sri Lanka', '65610.00', 'LK', 'LKA']\n",
      "['Sudan', '2505813.00', 'SD', 'SDN']\n",
      "['Suriname', '163265.00', 'SR', 'SUR']\n",
      "['Svalbard and Jan Mayen', '62422.00', 'SJ', 'SJM']\n",
      "['Swaziland', '17364.00', 'SZ', 'SWZ']\n",
      "['Sweden', '449964.00', 'SE', 'SWE']\n",
      "['Switzerland', '41284.00', 'CH', 'CHE']\n",
      "['Syria', '185180.00', 'SY', 'SYR']\n",
      "['Taiwan', '36188.00', 'TW', 'TWN']\n",
      "['Tajikistan', '143100.00', 'TJ', 'TJK']\n",
      "['Tanzania', '883749.00', 'TZ', 'TZA']\n",
      "['Thailand', '513115.00', 'TH', 'THA']\n",
      "['The Democratic Republic of the Congo', '2344858.00', 'CD', 'COD']\n",
      "['Togo', '56785.00', 'TG', 'TGO']\n",
      "['Tokelau', '12.00', 'TK', 'TKL']\n",
      "['Tonga', '650.00', 'TO', 'TON']\n",
      "['Trinidad and Tobago', '5130.00', 'TT', 'TTO']\n",
      "['Tunisia', '163610.00', 'TN', 'TUN']\n",
      "['Turkey', '774815.00', 'TR', 'TUR']\n",
      "['Turkmenistan', '488100.00', 'TM', 'TKM']\n",
      "['Turks and Caicos Islands', '430.00', 'TC', 'TCA']\n",
      "['Tuvalu', '26.00', 'TV', 'TUV']\n",
      "['Uganda', '241038.00', 'UG', 'UGA']\n",
      "['Ukraine', '603700.00', 'UA', 'UKR']\n",
      "['United Arab Emirates', '83600.00', 'AE', 'ARE']\n",
      "['United Kingdom', '242900.00', 'GB', 'GBR']\n",
      "['United States', '9363520.00', 'US', 'USA']\n",
      "['United States Minor Outlying Islands', '16.00', 'UM', 'UMI']\n",
      "['Uruguay', '175016.00', 'UY', 'URY']\n",
      "['Uzbekistan', '447400.00', 'UZ', 'UZB']\n",
      "['Vanuatu', '12189.00', 'VU', 'VUT']\n",
      "['Venezuela', '912050.00', 'VE', 'VEN']\n",
      "['Vietnam', '331689.00', 'VN', 'VNM']\n",
      "['Virgin Islands, British', '151.00', 'VG', 'VGB']\n",
      "['Virgin Islands, U.S.', '347.00', 'VI', 'VIR']\n",
      "['Wallis and Futuna', '200.00', 'WF', 'WLF']\n",
      "['Western Sahara', '266000.00', 'EH', 'ESH']\n",
      "['Yemen', '527968.00', 'YE', 'YEM']\n",
      "['Yugoslavia', '102173.00', 'YU', 'YUG']\n",
      "['Zambia', '752618.00', 'ZM', 'ZMB']\n",
      "['Zimbabwe', '390757.00', 'ZW', 'ZWE']\n"
     ]
    }
   ],
   "source": [
    "import csv\n",
    "\n",
    "with open('country.csv', encoding=\"utf8\") as f:\n",
    "    csv_reader = csv.reader(f)\n",
    "    for line_no, line in enumerate(csv_reader, 1):\n",
    "        if line_no == 1:\n",
    "            print('Header:')\n",
    "            print(line)  # header\n",
    "            print('Data:')\n",
    "        else:\n",
    "            print(line)  # data"
   ]
  },
  {
   "cell_type": "code",
   "execution_count": 46,
   "id": "5036cb13",
   "metadata": {},
   "outputs": [
    {
     "name": "stdout",
     "output_type": "stream",
     "text": [
      "['Afghanistan', '652090.00', 'AF', 'AFG']\n",
      "['Albania', '28748.00', 'AL', 'ALB']\n",
      "['Algeria', '2381741.00', 'DZ', 'DZA']\n",
      "['American Samoa', '199.00', 'AS', 'ASM']\n",
      "['Andorra', '468.00', 'AD', 'AND']\n",
      "['Angola', '1246700.00', 'AO', 'AGO']\n",
      "['Anguilla', '96.00', 'AI', 'AIA']\n",
      "['Antarctica', '13120000.00', 'AQ', 'ATA']\n",
      "['Antigua and Barbuda', '442.00', 'AG', 'ATG']\n",
      "['Argentina', '2780400.00', 'AR', 'ARG']\n",
      "['Armenia', '29800.00', 'AM', 'ARM']\n",
      "['Aruba', '193.00', 'AW', 'ABW']\n",
      "['Australia', '7741220.00', 'AU', 'AUS']\n",
      "['Austria', '83859.00', 'AT', 'AUT']\n",
      "['Azerbaijan', '86600.00', 'AZ', 'AZE']\n",
      "['Bahamas', '13878.00', 'BS', 'BHS']\n",
      "['Bahrain', '694.00', 'BH', 'BHR']\n",
      "['Bangladesh', '143998.00', 'BD', 'BGD']\n",
      "['Barbados', '430.00', 'BB', 'BRB']\n",
      "['Belarus', '207600.00', 'BY', 'BLR']\n",
      "['Belgium', '30518.00', 'BE', 'BEL']\n",
      "['Belize', '22696.00', 'BZ', 'BLZ']\n",
      "['Benin', '112622.00', 'BJ', 'BEN']\n",
      "['Bermuda', '53.00', 'BM', 'BMU']\n",
      "['Bhutan', '47000.00', 'BT', 'BTN']\n",
      "['Bolivia', '1098581.00', 'BO', 'BOL']\n",
      "['Bosnia and Herzegovina', '51197.00', 'BA', 'BIH']\n",
      "['Botswana', '581730.00', 'BW', 'BWA']\n",
      "['Bouvet Island', '59.00', 'BV', 'BVT']\n",
      "['Brazil', '8547403.00', 'BR', 'BRA']\n",
      "['British Indian Ocean Territory', '78.00', 'IO', 'IOT']\n",
      "['Brunei', '5765.00', 'BN', 'BRN']\n",
      "['Bulgaria', '110994.00', 'BG', 'BGR']\n",
      "['Burkina Faso', '274000.00', 'BF', 'BFA']\n",
      "['Burundi', '27834.00', 'BI', 'BDI']\n",
      "['Cambodia', '181035.00', 'KH', 'KHM']\n",
      "['Cameroon', '475442.00', 'CM', 'CMR']\n",
      "['Canada', '9970610.00', 'CA', 'CAN']\n",
      "['Cape Verde', '4033.00', 'CV', 'CPV']\n",
      "['Cayman Islands', '264.00', 'KY', 'CYM']\n",
      "['Central African Republic', '622984.00', 'CF', 'CAF']\n",
      "['Chad', '1284000.00', 'TD', 'TCD']\n",
      "['Chile', '756626.00', 'CL', 'CHL']\n",
      "['China', '9572900.00', 'CN', 'CHN']\n",
      "['Christmas Island', '135.00', 'CX', 'CXR']\n",
      "['Cocos (Keeling) Islands', '14.00', 'CC', 'CCK']\n",
      "['Colombia', '1138914.00', 'CO', 'COL']\n",
      "['Comoros', '1862.00', 'KM', 'COM']\n",
      "['Congo', '342000.00', 'CG', 'COG']\n",
      "['Cook Islands', '236.00', 'CK', 'COK']\n",
      "['Costa Rica', '51100.00', 'CR', 'CRI']\n",
      "['Côte d’Ivoire', '322463.00', 'CI', 'CIV']\n",
      "['Croatia', '56538.00', 'HR', 'HRV']\n",
      "['Cuba', '110861.00', 'CU', 'CUB']\n",
      "['Cyprus', '9251.00', 'CY', 'CYP']\n",
      "['Czech Republic', '78866.00', 'CZ', 'CZE']\n",
      "['Denmark', '43094.00', 'DK', 'DNK']\n",
      "['Djibouti', '23200.00', 'DJ', 'DJI']\n",
      "['Dominica', '751.00', 'DM', 'DMA']\n",
      "['Dominican Republic', '48511.00', 'DO', 'DOM']\n",
      "['East Timor', '14874.00', 'TP', 'TMP']\n",
      "['Ecuador', '283561.00', 'EC', 'ECU']\n",
      "['Egypt', '1001449.00', 'EG', 'EGY']\n",
      "['El Salvador', '21041.00', 'SV', 'SLV']\n",
      "['Equatorial Guinea', '28051.00', 'GQ', 'GNQ']\n",
      "['Eritrea', '117600.00', 'ER', 'ERI']\n",
      "['Estonia', '45227.00', 'EE', 'EST']\n",
      "['Ethiopia', '1104300.00', 'ET', 'ETH']\n",
      "['Falkland Islands', '12173.00', 'FK', 'FLK']\n",
      "['Faroe Islands', '1399.00', 'FO', 'FRO']\n",
      "['Federated States of Micronesia', '702.00', 'FM', 'FSM']\n",
      "['Fiji Islands', '18274.00', 'FJ', 'FJI']\n",
      "['Finland', '338145.00', 'FI', 'FIN']\n",
      "['France', '551500.00', 'FR', 'FRA']\n",
      "['French Guiana', '90000.00', 'GF', 'GUF']\n",
      "['French Polynesia', '4000.00', 'PF', 'PYF']\n",
      "['French Southern territories', '7780.00', 'TF', 'ATF']\n",
      "['Gabon', '267668.00', 'GA', 'GAB']\n",
      "['Gambia', '11295.00', 'GM', 'GMB']\n",
      "['Georgia', '69700.00', 'GE', 'GEO']\n",
      "['Germany', '357022.00', 'DE', 'DEU']\n",
      "['Ghana', '238533.00', 'GH', 'GHA']\n",
      "['Gibraltar', '6.00', 'GI', 'GIB']\n",
      "['Greece', '131626.00', 'GR', 'GRC']\n",
      "['Greenland', '2166090.00', 'GL', 'GRL']\n",
      "['Grenada', '344.00', 'GD', 'GRD']\n",
      "['Guadeloupe', '1705.00', 'GP', 'GLP']\n",
      "['Guam', '549.00', 'GU', 'GUM']\n",
      "['Guatemala', '108889.00', 'GT', 'GTM']\n",
      "['Guinea', '245857.00', 'GN', 'GIN']\n",
      "['Guinea-Bissau', '36125.00', 'GW', 'GNB']\n",
      "['Guyana', '214969.00', 'GY', 'GUY']\n",
      "['Haiti', '27750.00', 'HT', 'HTI']\n",
      "['Heard Island and McDonald Islands', '359.00', 'HM', 'HMD']\n",
      "['Holy See (Vatican City State)', '0.40', 'VA', 'VAT']\n",
      "['Honduras', '112088.00', 'HN', 'HND']\n",
      "['Hong Kong', '1075.00', 'HK', 'HKG']\n",
      "['Hungary', '93030.00', 'HU', 'HUN']\n",
      "['Iceland', '103000.00', 'IS', 'ISL']\n",
      "['India', '3287263.00', 'IN', 'IND']\n",
      "['Indonesia', '1904569.00', 'ID', 'IDN']\n",
      "['Iran', '1648195.00', 'IR', 'IRN']\n",
      "['Iraq', '438317.00', 'IQ', 'IRQ']\n",
      "['Ireland', '70273.00', 'IE', 'IRL']\n",
      "['Israel', '21056.00', 'IL', 'ISR']\n",
      "['Italy', '301316.00', 'IT', 'ITA']\n",
      "['Jamaica', '10990.00', 'JM', 'JAM']\n",
      "['Japan', '377829.00', 'JP', 'JPN']\n",
      "['Jordan', '88946.00', 'JO', 'JOR']\n",
      "['Kazakstan', '2724900.00', 'KZ', 'KAZ']\n",
      "['Kenya', '580367.00', 'KE', 'KEN']\n",
      "['Kiribati', '726.00', 'KI', 'KIR']\n",
      "['Kuwait', '17818.00', 'KW', 'KWT']\n",
      "['Kyrgyzstan', '199900.00', 'KG', 'KGZ']\n",
      "['Laos', '236800.00', 'LA', 'LAO']\n",
      "['Latvia', '64589.00', 'LV', 'LVA']\n",
      "['Lebanon', '10400.00', 'LB', 'LBN']\n",
      "['Lesotho', '30355.00', 'LS', 'LSO']\n",
      "['Liberia', '111369.00', 'LR', 'LBR']\n",
      "['Libyan Arab Jamahiriya', '1759540.00', 'LY', 'LBY']\n",
      "['Liechtenstein', '160.00', 'LI', 'LIE']\n",
      "['Lithuania', '65301.00', 'LT', 'LTU']\n",
      "['Luxembourg', '2586.00', 'LU', 'LUX']\n",
      "['Macao', '18.00', 'MO', 'MAC']\n",
      "['Macedonia', '25713.00', 'MK', 'MKD']\n",
      "['Madagascar', '587041.00', 'MG', 'MDG']\n",
      "['Malawi', '118484.00', 'MW', 'MWI']\n",
      "['Malaysia', '329758.00', 'MY', 'MYS']\n",
      "['Maldives', '298.00', 'MV', 'MDV']\n",
      "['Mali', '1240192.00', 'ML', 'MLI']\n",
      "['Malta', '316.00', 'MT', 'MLT']\n",
      "['Marshall Islands', '181.00', 'MH', 'MHL']\n",
      "['Martinique', '1102.00', 'MQ', 'MTQ']\n",
      "['Mauritania', '1025520.00', 'MR', 'MRT']\n",
      "['Mauritius', '2040.00', 'MU', 'MUS']\n",
      "['Mayotte', '373.00', 'YT', 'MYT']\n",
      "['Mexico', '1958201.00', 'MX', 'MEX']\n",
      "['Moldova', '33851.00', 'MD', 'MDA']\n",
      "['Monaco', '1.50', 'MC', 'MCO']\n",
      "['Mongolia', '1566500.00', 'MN', 'MNG']\n",
      "['Montserrat', '102.00', 'MS', 'MSR']\n",
      "['Morocco', '446550.00', 'MA', 'MAR']\n",
      "['Mozambique', '801590.00', 'MZ', 'MOZ']\n",
      "['Myanmar', '676578.00', 'MM', 'MMR']\n",
      "['Namibia', '824292.00', 'NA', 'NAM']\n",
      "['Nauru', '21.00', 'NR', 'NRU']\n",
      "['Nepal', '147181.00', 'NP', 'NPL']\n",
      "['Netherlands', '41526.00', 'NL', 'NLD']\n",
      "['Netherlands Antilles', '800.00', 'AN', 'ANT']\n",
      "['New Caledonia', '18575.00', 'NC', 'NCL']\n",
      "['New Zealand', '270534.00', 'NZ', 'NZL']\n",
      "['Nicaragua', '130000.00', 'NI', 'NIC']\n",
      "['Niger', '1267000.00', 'NE', 'NER']\n",
      "['Nigeria', '923768.00', 'NG', 'NGA']\n",
      "['Niue', '260.00', 'NU', 'NIU']\n",
      "['Norfolk Island', '36.00', 'NF', 'NFK']\n",
      "['North Korea', '120538.00', 'KP', 'PRK']\n",
      "['Northern Mariana Islands', '464.00', 'MP', 'MNP']\n",
      "['Norway', '323877.00', 'NO', 'NOR']\n",
      "['Oman', '309500.00', 'OM', 'OMN']\n",
      "['Pakistan', '796095.00', 'PK', 'PAK']\n",
      "['Palau', '459.00', 'PW', 'PLW']\n",
      "['Palestine', '6257.00', 'PS', 'PSE']\n",
      "['Panama', '75517.00', 'PA', 'PAN']\n",
      "['Papua New Guinea', '462840.00', 'PG', 'PNG']\n",
      "['Paraguay', '406752.00', 'PY', 'PRY']\n",
      "['Peru', '1285216.00', 'PE', 'PER']\n",
      "['Philippines', '300000.00', 'PH', 'PHL']\n",
      "['Pitcairn', '49.00', 'PN', 'PCN']\n",
      "['Poland', '323250.00', 'PL', 'POL']\n",
      "['Portugal', '91982.00', 'PT', 'PRT']\n",
      "['Puerto Rico', '8875.00', 'PR', 'PRI']\n",
      "['Qatar', '11000.00', 'QA', 'QAT']\n",
      "['Réunion', '2510.00', 'RE', 'REU']\n",
      "['Romania', '238391.00', 'RO', 'ROM']\n",
      "['Russian Federation', '17075400.00', 'RU', 'RUS']\n",
      "['Rwanda', '26338.00', 'RW', 'RWA']\n",
      "['Saint Helena', '314.00', 'SH', 'SHN']\n",
      "['Saint Kitts and Nevis', '261.00', 'KN', 'KNA']\n",
      "['Saint Lucia', '622.00', 'LC', 'LCA']\n",
      "['Saint Pierre and Miquelon', '242.00', 'PM', 'SPM']\n",
      "['Saint Vincent and the Grenadines', '388.00', 'VC', 'VCT']\n",
      "['Samoa', '2831.00', 'WS', 'WSM']\n",
      "['San Marino', '61.00', 'SM', 'SMR']\n",
      "['Sao Tome and Principe', '964.00', 'ST', 'STP']\n",
      "['Saudi Arabia', '2149690.00', 'SA', 'SAU']\n",
      "['Senegal', '196722.00', 'SN', 'SEN']\n",
      "['Seychelles', '455.00', 'SC', 'SYC']\n",
      "['Sierra Leone', '71740.00', 'SL', 'SLE']\n",
      "['Singapore', '618.00', 'SG', 'SGP']\n",
      "['Slovakia', '49012.00', 'SK', 'SVK']\n",
      "['Slovenia', '20256.00', 'SI', 'SVN']\n",
      "['Solomon Islands', '28896.00', 'SB', 'SLB']\n",
      "['Somalia', '637657.00', 'SO', 'SOM']\n",
      "['South Africa', '1221037.00', 'ZA', 'ZAF']\n",
      "['South Georgia and the South Sandwich Islands', '3903.00', 'GS', 'SGS']\n",
      "['South Korea', '99434.00', 'KR', 'KOR']\n",
      "['Spain', '505992.00', 'ES', 'ESP']\n",
      "['Sri Lanka', '65610.00', 'LK', 'LKA']\n",
      "['Sudan', '2505813.00', 'SD', 'SDN']\n",
      "['Suriname', '163265.00', 'SR', 'SUR']\n",
      "['Svalbard and Jan Mayen', '62422.00', 'SJ', 'SJM']\n",
      "['Swaziland', '17364.00', 'SZ', 'SWZ']\n",
      "['Sweden', '449964.00', 'SE', 'SWE']\n",
      "['Switzerland', '41284.00', 'CH', 'CHE']\n",
      "['Syria', '185180.00', 'SY', 'SYR']\n",
      "['Taiwan', '36188.00', 'TW', 'TWN']\n",
      "['Tajikistan', '143100.00', 'TJ', 'TJK']\n",
      "['Tanzania', '883749.00', 'TZ', 'TZA']\n",
      "['Thailand', '513115.00', 'TH', 'THA']\n",
      "['The Democratic Republic of the Congo', '2344858.00', 'CD', 'COD']\n",
      "['Togo', '56785.00', 'TG', 'TGO']\n",
      "['Tokelau', '12.00', 'TK', 'TKL']\n",
      "['Tonga', '650.00', 'TO', 'TON']\n",
      "['Trinidad and Tobago', '5130.00', 'TT', 'TTO']\n",
      "['Tunisia', '163610.00', 'TN', 'TUN']\n",
      "['Turkey', '774815.00', 'TR', 'TUR']\n",
      "['Turkmenistan', '488100.00', 'TM', 'TKM']\n",
      "['Turks and Caicos Islands', '430.00', 'TC', 'TCA']\n",
      "['Tuvalu', '26.00', 'TV', 'TUV']\n",
      "['Uganda', '241038.00', 'UG', 'UGA']\n",
      "['Ukraine', '603700.00', 'UA', 'UKR']\n",
      "['United Arab Emirates', '83600.00', 'AE', 'ARE']\n",
      "['United Kingdom', '242900.00', 'GB', 'GBR']\n",
      "['United States', '9363520.00', 'US', 'USA']\n",
      "['United States Minor Outlying Islands', '16.00', 'UM', 'UMI']\n",
      "['Uruguay', '175016.00', 'UY', 'URY']\n",
      "['Uzbekistan', '447400.00', 'UZ', 'UZB']\n",
      "['Vanuatu', '12189.00', 'VU', 'VUT']\n",
      "['Venezuela', '912050.00', 'VE', 'VEN']\n",
      "['Vietnam', '331689.00', 'VN', 'VNM']\n",
      "['Virgin Islands, British', '151.00', 'VG', 'VGB']\n",
      "['Virgin Islands, U.S.', '347.00', 'VI', 'VIR']\n",
      "['Wallis and Futuna', '200.00', 'WF', 'WLF']\n",
      "['Western Sahara', '266000.00', 'EH', 'ESH']\n",
      "['Yemen', '527968.00', 'YE', 'YEM']\n",
      "['Yugoslavia', '102173.00', 'YU', 'YUG']\n",
      "['Zambia', '752618.00', 'ZM', 'ZMB']\n",
      "['Zimbabwe', '390757.00', 'ZW', 'ZWE']\n"
     ]
    }
   ],
   "source": [
    "import csv\n",
    "\n",
    "with open('country.csv', encoding=\"utf8\") as f:\n",
    "    csv_reader = csv.reader(f)\n",
    "\n",
    "    # skip the first row\n",
    "    next(csv_reader)\n",
    "\n",
    "    # show the data\n",
    "    for line in csv_reader:\n",
    "        print(line)"
   ]
  },
  {
   "cell_type": "code",
   "execution_count": 47,
   "id": "003b4de0",
   "metadata": {},
   "outputs": [
    {
     "name": "stdout",
     "output_type": "stream",
     "text": [
      "148956306.9\n"
     ]
    }
   ],
   "source": [
    "import csv\n",
    "\n",
    "total_area = 0\n",
    "\n",
    "# calculate the total area of all countries\n",
    "\n",
    "with open('country.csv', encoding=\"utf8\") as f:\n",
    "    csv_reader = csv.reader(f)\n",
    "\n",
    "    # skip the header\n",
    "    next(csv_reader)\n",
    "\n",
    "    # calculate total\n",
    "    for line in csv_reader:\n",
    "        total_area += float(line[1])\n",
    "\n",
    "print(total_area)"
   ]
  },
  {
   "cell_type": "markdown",
   "id": "d066ec5f",
   "metadata": {},
   "source": [
    "#### Reading a CSV file using the DictReader class"
   ]
  },
  {
   "cell_type": "code",
   "execution_count": 48,
   "id": "d5e374a4",
   "metadata": {},
   "outputs": [
    {
     "name": "stdout",
     "output_type": "stream",
     "text": [
      "The area of Albania is 28748.00 km2\n",
      "The area of Algeria is 2381741.00 km2\n",
      "The area of American Samoa is 199.00 km2\n",
      "The area of Andorra is 468.00 km2\n",
      "The area of Angola is 1246700.00 km2\n",
      "The area of Anguilla is 96.00 km2\n",
      "The area of Antarctica is 13120000.00 km2\n",
      "The area of Antigua and Barbuda is 442.00 km2\n",
      "The area of Argentina is 2780400.00 km2\n",
      "The area of Armenia is 29800.00 km2\n",
      "The area of Aruba is 193.00 km2\n",
      "The area of Australia is 7741220.00 km2\n",
      "The area of Austria is 83859.00 km2\n",
      "The area of Azerbaijan is 86600.00 km2\n",
      "The area of Bahamas is 13878.00 km2\n",
      "The area of Bahrain is 694.00 km2\n",
      "The area of Bangladesh is 143998.00 km2\n",
      "The area of Barbados is 430.00 km2\n",
      "The area of Belarus is 207600.00 km2\n",
      "The area of Belgium is 30518.00 km2\n",
      "The area of Belize is 22696.00 km2\n",
      "The area of Benin is 112622.00 km2\n",
      "The area of Bermuda is 53.00 km2\n",
      "The area of Bhutan is 47000.00 km2\n",
      "The area of Bolivia is 1098581.00 km2\n",
      "The area of Bosnia and Herzegovina is 51197.00 km2\n",
      "The area of Botswana is 581730.00 km2\n",
      "The area of Bouvet Island is 59.00 km2\n",
      "The area of Brazil is 8547403.00 km2\n",
      "The area of British Indian Ocean Territory is 78.00 km2\n",
      "The area of Brunei is 5765.00 km2\n",
      "The area of Bulgaria is 110994.00 km2\n",
      "The area of Burkina Faso is 274000.00 km2\n",
      "The area of Burundi is 27834.00 km2\n",
      "The area of Cambodia is 181035.00 km2\n",
      "The area of Cameroon is 475442.00 km2\n",
      "The area of Canada is 9970610.00 km2\n",
      "The area of Cape Verde is 4033.00 km2\n",
      "The area of Cayman Islands is 264.00 km2\n",
      "The area of Central African Republic is 622984.00 km2\n",
      "The area of Chad is 1284000.00 km2\n",
      "The area of Chile is 756626.00 km2\n",
      "The area of China is 9572900.00 km2\n",
      "The area of Christmas Island is 135.00 km2\n",
      "The area of Cocos (Keeling) Islands is 14.00 km2\n",
      "The area of Colombia is 1138914.00 km2\n",
      "The area of Comoros is 1862.00 km2\n",
      "The area of Congo is 342000.00 km2\n",
      "The area of Cook Islands is 236.00 km2\n",
      "The area of Costa Rica is 51100.00 km2\n",
      "The area of Côte d’Ivoire is 322463.00 km2\n",
      "The area of Croatia is 56538.00 km2\n",
      "The area of Cuba is 110861.00 km2\n",
      "The area of Cyprus is 9251.00 km2\n",
      "The area of Czech Republic is 78866.00 km2\n",
      "The area of Denmark is 43094.00 km2\n",
      "The area of Djibouti is 23200.00 km2\n",
      "The area of Dominica is 751.00 km2\n",
      "The area of Dominican Republic is 48511.00 km2\n",
      "The area of East Timor is 14874.00 km2\n",
      "The area of Ecuador is 283561.00 km2\n",
      "The area of Egypt is 1001449.00 km2\n",
      "The area of El Salvador is 21041.00 km2\n",
      "The area of Equatorial Guinea is 28051.00 km2\n",
      "The area of Eritrea is 117600.00 km2\n",
      "The area of Estonia is 45227.00 km2\n",
      "The area of Ethiopia is 1104300.00 km2\n",
      "The area of Falkland Islands is 12173.00 km2\n",
      "The area of Faroe Islands is 1399.00 km2\n",
      "The area of Federated States of Micronesia is 702.00 km2\n",
      "The area of Fiji Islands is 18274.00 km2\n",
      "The area of Finland is 338145.00 km2\n",
      "The area of France is 551500.00 km2\n",
      "The area of French Guiana is 90000.00 km2\n",
      "The area of French Polynesia is 4000.00 km2\n",
      "The area of French Southern territories is 7780.00 km2\n",
      "The area of Gabon is 267668.00 km2\n",
      "The area of Gambia is 11295.00 km2\n",
      "The area of Georgia is 69700.00 km2\n",
      "The area of Germany is 357022.00 km2\n",
      "The area of Ghana is 238533.00 km2\n",
      "The area of Gibraltar is 6.00 km2\n",
      "The area of Greece is 131626.00 km2\n",
      "The area of Greenland is 2166090.00 km2\n",
      "The area of Grenada is 344.00 km2\n",
      "The area of Guadeloupe is 1705.00 km2\n",
      "The area of Guam is 549.00 km2\n",
      "The area of Guatemala is 108889.00 km2\n",
      "The area of Guinea is 245857.00 km2\n",
      "The area of Guinea-Bissau is 36125.00 km2\n",
      "The area of Guyana is 214969.00 km2\n",
      "The area of Haiti is 27750.00 km2\n",
      "The area of Heard Island and McDonald Islands is 359.00 km2\n",
      "The area of Holy See (Vatican City State) is 0.40 km2\n",
      "The area of Honduras is 112088.00 km2\n",
      "The area of Hong Kong is 1075.00 km2\n",
      "The area of Hungary is 93030.00 km2\n",
      "The area of Iceland is 103000.00 km2\n",
      "The area of India is 3287263.00 km2\n",
      "The area of Indonesia is 1904569.00 km2\n",
      "The area of Iran is 1648195.00 km2\n",
      "The area of Iraq is 438317.00 km2\n",
      "The area of Ireland is 70273.00 km2\n",
      "The area of Israel is 21056.00 km2\n",
      "The area of Italy is 301316.00 km2\n",
      "The area of Jamaica is 10990.00 km2\n",
      "The area of Japan is 377829.00 km2\n",
      "The area of Jordan is 88946.00 km2\n",
      "The area of Kazakstan is 2724900.00 km2\n",
      "The area of Kenya is 580367.00 km2\n",
      "The area of Kiribati is 726.00 km2\n",
      "The area of Kuwait is 17818.00 km2\n",
      "The area of Kyrgyzstan is 199900.00 km2\n",
      "The area of Laos is 236800.00 km2\n",
      "The area of Latvia is 64589.00 km2\n",
      "The area of Lebanon is 10400.00 km2\n",
      "The area of Lesotho is 30355.00 km2\n",
      "The area of Liberia is 111369.00 km2\n",
      "The area of Libyan Arab Jamahiriya is 1759540.00 km2\n",
      "The area of Liechtenstein is 160.00 km2\n",
      "The area of Lithuania is 65301.00 km2\n",
      "The area of Luxembourg is 2586.00 km2\n",
      "The area of Macao is 18.00 km2\n",
      "The area of Macedonia is 25713.00 km2\n",
      "The area of Madagascar is 587041.00 km2\n",
      "The area of Malawi is 118484.00 km2\n",
      "The area of Malaysia is 329758.00 km2\n",
      "The area of Maldives is 298.00 km2\n",
      "The area of Mali is 1240192.00 km2\n",
      "The area of Malta is 316.00 km2\n",
      "The area of Marshall Islands is 181.00 km2\n",
      "The area of Martinique is 1102.00 km2\n",
      "The area of Mauritania is 1025520.00 km2\n",
      "The area of Mauritius is 2040.00 km2\n",
      "The area of Mayotte is 373.00 km2\n",
      "The area of Mexico is 1958201.00 km2\n",
      "The area of Moldova is 33851.00 km2\n",
      "The area of Monaco is 1.50 km2\n",
      "The area of Mongolia is 1566500.00 km2\n",
      "The area of Montserrat is 102.00 km2\n",
      "The area of Morocco is 446550.00 km2\n",
      "The area of Mozambique is 801590.00 km2\n",
      "The area of Myanmar is 676578.00 km2\n",
      "The area of Namibia is 824292.00 km2\n",
      "The area of Nauru is 21.00 km2\n",
      "The area of Nepal is 147181.00 km2\n",
      "The area of Netherlands is 41526.00 km2\n",
      "The area of Netherlands Antilles is 800.00 km2\n",
      "The area of New Caledonia is 18575.00 km2\n",
      "The area of New Zealand is 270534.00 km2\n",
      "The area of Nicaragua is 130000.00 km2\n",
      "The area of Niger is 1267000.00 km2\n",
      "The area of Nigeria is 923768.00 km2\n",
      "The area of Niue is 260.00 km2\n",
      "The area of Norfolk Island is 36.00 km2\n",
      "The area of North Korea is 120538.00 km2\n",
      "The area of Northern Mariana Islands is 464.00 km2\n",
      "The area of Norway is 323877.00 km2\n",
      "The area of Oman is 309500.00 km2\n",
      "The area of Pakistan is 796095.00 km2\n",
      "The area of Palau is 459.00 km2\n",
      "The area of Palestine is 6257.00 km2\n",
      "The area of Panama is 75517.00 km2\n",
      "The area of Papua New Guinea is 462840.00 km2\n",
      "The area of Paraguay is 406752.00 km2\n",
      "The area of Peru is 1285216.00 km2\n",
      "The area of Philippines is 300000.00 km2\n",
      "The area of Pitcairn is 49.00 km2\n",
      "The area of Poland is 323250.00 km2\n",
      "The area of Portugal is 91982.00 km2\n",
      "The area of Puerto Rico is 8875.00 km2\n",
      "The area of Qatar is 11000.00 km2\n",
      "The area of Réunion is 2510.00 km2\n",
      "The area of Romania is 238391.00 km2\n",
      "The area of Russian Federation is 17075400.00 km2\n",
      "The area of Rwanda is 26338.00 km2\n",
      "The area of Saint Helena is 314.00 km2\n",
      "The area of Saint Kitts and Nevis is 261.00 km2\n",
      "The area of Saint Lucia is 622.00 km2\n",
      "The area of Saint Pierre and Miquelon is 242.00 km2\n",
      "The area of Saint Vincent and the Grenadines is 388.00 km2\n",
      "The area of Samoa is 2831.00 km2\n",
      "The area of San Marino is 61.00 km2\n",
      "The area of Sao Tome and Principe is 964.00 km2\n",
      "The area of Saudi Arabia is 2149690.00 km2\n",
      "The area of Senegal is 196722.00 km2\n",
      "The area of Seychelles is 455.00 km2\n",
      "The area of Sierra Leone is 71740.00 km2\n",
      "The area of Singapore is 618.00 km2\n",
      "The area of Slovakia is 49012.00 km2\n",
      "The area of Slovenia is 20256.00 km2\n",
      "The area of Solomon Islands is 28896.00 km2\n",
      "The area of Somalia is 637657.00 km2\n",
      "The area of South Africa is 1221037.00 km2\n",
      "The area of South Georgia and the South Sandwich Islands is 3903.00 km2\n",
      "The area of South Korea is 99434.00 km2\n",
      "The area of Spain is 505992.00 km2\n",
      "The area of Sri Lanka is 65610.00 km2\n",
      "The area of Sudan is 2505813.00 km2\n",
      "The area of Suriname is 163265.00 km2\n",
      "The area of Svalbard and Jan Mayen is 62422.00 km2\n",
      "The area of Swaziland is 17364.00 km2\n",
      "The area of Sweden is 449964.00 km2\n",
      "The area of Switzerland is 41284.00 km2\n",
      "The area of Syria is 185180.00 km2\n",
      "The area of Taiwan is 36188.00 km2\n",
      "The area of Tajikistan is 143100.00 km2\n",
      "The area of Tanzania is 883749.00 km2\n",
      "The area of Thailand is 513115.00 km2\n",
      "The area of The Democratic Republic of the Congo is 2344858.00 km2\n",
      "The area of Togo is 56785.00 km2\n",
      "The area of Tokelau is 12.00 km2\n",
      "The area of Tonga is 650.00 km2\n",
      "The area of Trinidad and Tobago is 5130.00 km2\n",
      "The area of Tunisia is 163610.00 km2\n",
      "The area of Turkey is 774815.00 km2\n",
      "The area of Turkmenistan is 488100.00 km2\n",
      "The area of Turks and Caicos Islands is 430.00 km2\n",
      "The area of Tuvalu is 26.00 km2\n",
      "The area of Uganda is 241038.00 km2\n",
      "The area of Ukraine is 603700.00 km2\n",
      "The area of United Arab Emirates is 83600.00 km2\n",
      "The area of United Kingdom is 242900.00 km2\n",
      "The area of United States is 9363520.00 km2\n",
      "The area of United States Minor Outlying Islands is 16.00 km2\n",
      "The area of Uruguay is 175016.00 km2\n",
      "The area of Uzbekistan is 447400.00 km2\n",
      "The area of Vanuatu is 12189.00 km2\n",
      "The area of Venezuela is 912050.00 km2\n",
      "The area of Vietnam is 331689.00 km2\n",
      "The area of Virgin Islands, British is 151.00 km2\n",
      "The area of Virgin Islands, U.S. is 347.00 km2\n",
      "The area of Wallis and Futuna is 200.00 km2\n",
      "The area of Western Sahara is 266000.00 km2\n",
      "The area of Yemen is 527968.00 km2\n",
      "The area of Yugoslavia is 102173.00 km2\n",
      "The area of Zambia is 752618.00 km2\n",
      "The area of Zimbabwe is 390757.00 km2\n"
     ]
    }
   ],
   "source": [
    "import csv\n",
    "\n",
    "with open('country.csv', encoding=\"utf8\") as f:\n",
    "    csv_reader = csv.DictReader(f)\n",
    "    # skip the header\n",
    "    next(csv_reader)\n",
    "    # show the data\n",
    "    for line in csv_reader:\n",
    "        print(f\"The area of {line['name']} is {line['area']} km2\")"
   ]
  },
  {
   "cell_type": "code",
   "execution_count": 49,
   "id": "5895a76a",
   "metadata": {},
   "outputs": [
    {
     "name": "stdout",
     "output_type": "stream",
     "text": [
      "The area of Afghanistan is 652090.00 km2\n",
      "The area of Albania is 28748.00 km2\n",
      "The area of Algeria is 2381741.00 km2\n",
      "The area of American Samoa is 199.00 km2\n",
      "The area of Andorra is 468.00 km2\n",
      "The area of Angola is 1246700.00 km2\n",
      "The area of Anguilla is 96.00 km2\n",
      "The area of Antarctica is 13120000.00 km2\n",
      "The area of Antigua and Barbuda is 442.00 km2\n",
      "The area of Argentina is 2780400.00 km2\n",
      "The area of Armenia is 29800.00 km2\n",
      "The area of Aruba is 193.00 km2\n",
      "The area of Australia is 7741220.00 km2\n",
      "The area of Austria is 83859.00 km2\n",
      "The area of Azerbaijan is 86600.00 km2\n",
      "The area of Bahamas is 13878.00 km2\n",
      "The area of Bahrain is 694.00 km2\n",
      "The area of Bangladesh is 143998.00 km2\n",
      "The area of Barbados is 430.00 km2\n",
      "The area of Belarus is 207600.00 km2\n",
      "The area of Belgium is 30518.00 km2\n",
      "The area of Belize is 22696.00 km2\n",
      "The area of Benin is 112622.00 km2\n",
      "The area of Bermuda is 53.00 km2\n",
      "The area of Bhutan is 47000.00 km2\n",
      "The area of Bolivia is 1098581.00 km2\n",
      "The area of Bosnia and Herzegovina is 51197.00 km2\n",
      "The area of Botswana is 581730.00 km2\n",
      "The area of Bouvet Island is 59.00 km2\n",
      "The area of Brazil is 8547403.00 km2\n",
      "The area of British Indian Ocean Territory is 78.00 km2\n",
      "The area of Brunei is 5765.00 km2\n",
      "The area of Bulgaria is 110994.00 km2\n",
      "The area of Burkina Faso is 274000.00 km2\n",
      "The area of Burundi is 27834.00 km2\n",
      "The area of Cambodia is 181035.00 km2\n",
      "The area of Cameroon is 475442.00 km2\n",
      "The area of Canada is 9970610.00 km2\n",
      "The area of Cape Verde is 4033.00 km2\n",
      "The area of Cayman Islands is 264.00 km2\n",
      "The area of Central African Republic is 622984.00 km2\n",
      "The area of Chad is 1284000.00 km2\n",
      "The area of Chile is 756626.00 km2\n",
      "The area of China is 9572900.00 km2\n",
      "The area of Christmas Island is 135.00 km2\n",
      "The area of Cocos (Keeling) Islands is 14.00 km2\n",
      "The area of Colombia is 1138914.00 km2\n",
      "The area of Comoros is 1862.00 km2\n",
      "The area of Congo is 342000.00 km2\n",
      "The area of Cook Islands is 236.00 km2\n",
      "The area of Costa Rica is 51100.00 km2\n",
      "The area of Côte d’Ivoire is 322463.00 km2\n",
      "The area of Croatia is 56538.00 km2\n",
      "The area of Cuba is 110861.00 km2\n",
      "The area of Cyprus is 9251.00 km2\n",
      "The area of Czech Republic is 78866.00 km2\n",
      "The area of Denmark is 43094.00 km2\n",
      "The area of Djibouti is 23200.00 km2\n",
      "The area of Dominica is 751.00 km2\n",
      "The area of Dominican Republic is 48511.00 km2\n",
      "The area of East Timor is 14874.00 km2\n",
      "The area of Ecuador is 283561.00 km2\n",
      "The area of Egypt is 1001449.00 km2\n",
      "The area of El Salvador is 21041.00 km2\n",
      "The area of Equatorial Guinea is 28051.00 km2\n",
      "The area of Eritrea is 117600.00 km2\n",
      "The area of Estonia is 45227.00 km2\n",
      "The area of Ethiopia is 1104300.00 km2\n",
      "The area of Falkland Islands is 12173.00 km2\n",
      "The area of Faroe Islands is 1399.00 km2\n",
      "The area of Federated States of Micronesia is 702.00 km2\n",
      "The area of Fiji Islands is 18274.00 km2\n",
      "The area of Finland is 338145.00 km2\n",
      "The area of France is 551500.00 km2\n",
      "The area of French Guiana is 90000.00 km2\n",
      "The area of French Polynesia is 4000.00 km2\n",
      "The area of French Southern territories is 7780.00 km2\n",
      "The area of Gabon is 267668.00 km2\n",
      "The area of Gambia is 11295.00 km2\n",
      "The area of Georgia is 69700.00 km2\n",
      "The area of Germany is 357022.00 km2\n",
      "The area of Ghana is 238533.00 km2\n",
      "The area of Gibraltar is 6.00 km2\n",
      "The area of Greece is 131626.00 km2\n",
      "The area of Greenland is 2166090.00 km2\n",
      "The area of Grenada is 344.00 km2\n",
      "The area of Guadeloupe is 1705.00 km2\n",
      "The area of Guam is 549.00 km2\n",
      "The area of Guatemala is 108889.00 km2\n",
      "The area of Guinea is 245857.00 km2\n",
      "The area of Guinea-Bissau is 36125.00 km2\n",
      "The area of Guyana is 214969.00 km2\n",
      "The area of Haiti is 27750.00 km2\n",
      "The area of Heard Island and McDonald Islands is 359.00 km2\n",
      "The area of Holy See (Vatican City State) is 0.40 km2\n",
      "The area of Honduras is 112088.00 km2\n",
      "The area of Hong Kong is 1075.00 km2\n",
      "The area of Hungary is 93030.00 km2\n",
      "The area of Iceland is 103000.00 km2\n",
      "The area of India is 3287263.00 km2\n",
      "The area of Indonesia is 1904569.00 km2\n",
      "The area of Iran is 1648195.00 km2\n",
      "The area of Iraq is 438317.00 km2\n",
      "The area of Ireland is 70273.00 km2\n",
      "The area of Israel is 21056.00 km2\n",
      "The area of Italy is 301316.00 km2\n",
      "The area of Jamaica is 10990.00 km2\n",
      "The area of Japan is 377829.00 km2\n",
      "The area of Jordan is 88946.00 km2\n",
      "The area of Kazakstan is 2724900.00 km2\n",
      "The area of Kenya is 580367.00 km2\n",
      "The area of Kiribati is 726.00 km2\n",
      "The area of Kuwait is 17818.00 km2\n",
      "The area of Kyrgyzstan is 199900.00 km2\n",
      "The area of Laos is 236800.00 km2\n",
      "The area of Latvia is 64589.00 km2\n",
      "The area of Lebanon is 10400.00 km2\n",
      "The area of Lesotho is 30355.00 km2\n",
      "The area of Liberia is 111369.00 km2\n",
      "The area of Libyan Arab Jamahiriya is 1759540.00 km2\n",
      "The area of Liechtenstein is 160.00 km2\n",
      "The area of Lithuania is 65301.00 km2\n",
      "The area of Luxembourg is 2586.00 km2\n",
      "The area of Macao is 18.00 km2\n",
      "The area of Macedonia is 25713.00 km2\n",
      "The area of Madagascar is 587041.00 km2\n",
      "The area of Malawi is 118484.00 km2\n",
      "The area of Malaysia is 329758.00 km2\n",
      "The area of Maldives is 298.00 km2\n",
      "The area of Mali is 1240192.00 km2\n",
      "The area of Malta is 316.00 km2\n",
      "The area of Marshall Islands is 181.00 km2\n",
      "The area of Martinique is 1102.00 km2\n",
      "The area of Mauritania is 1025520.00 km2\n",
      "The area of Mauritius is 2040.00 km2\n",
      "The area of Mayotte is 373.00 km2\n",
      "The area of Mexico is 1958201.00 km2\n",
      "The area of Moldova is 33851.00 km2\n",
      "The area of Monaco is 1.50 km2\n",
      "The area of Mongolia is 1566500.00 km2\n",
      "The area of Montserrat is 102.00 km2\n",
      "The area of Morocco is 446550.00 km2\n",
      "The area of Mozambique is 801590.00 km2\n",
      "The area of Myanmar is 676578.00 km2\n",
      "The area of Namibia is 824292.00 km2\n",
      "The area of Nauru is 21.00 km2\n",
      "The area of Nepal is 147181.00 km2\n",
      "The area of Netherlands is 41526.00 km2\n",
      "The area of Netherlands Antilles is 800.00 km2\n",
      "The area of New Caledonia is 18575.00 km2\n",
      "The area of New Zealand is 270534.00 km2\n",
      "The area of Nicaragua is 130000.00 km2\n",
      "The area of Niger is 1267000.00 km2\n",
      "The area of Nigeria is 923768.00 km2\n",
      "The area of Niue is 260.00 km2\n",
      "The area of Norfolk Island is 36.00 km2\n",
      "The area of North Korea is 120538.00 km2\n",
      "The area of Northern Mariana Islands is 464.00 km2\n",
      "The area of Norway is 323877.00 km2\n",
      "The area of Oman is 309500.00 km2\n",
      "The area of Pakistan is 796095.00 km2\n",
      "The area of Palau is 459.00 km2\n",
      "The area of Palestine is 6257.00 km2\n",
      "The area of Panama is 75517.00 km2\n",
      "The area of Papua New Guinea is 462840.00 km2\n",
      "The area of Paraguay is 406752.00 km2\n",
      "The area of Peru is 1285216.00 km2\n",
      "The area of Philippines is 300000.00 km2\n",
      "The area of Pitcairn is 49.00 km2\n",
      "The area of Poland is 323250.00 km2\n",
      "The area of Portugal is 91982.00 km2\n",
      "The area of Puerto Rico is 8875.00 km2\n",
      "The area of Qatar is 11000.00 km2\n",
      "The area of Réunion is 2510.00 km2\n",
      "The area of Romania is 238391.00 km2\n",
      "The area of Russian Federation is 17075400.00 km2\n",
      "The area of Rwanda is 26338.00 km2\n",
      "The area of Saint Helena is 314.00 km2\n",
      "The area of Saint Kitts and Nevis is 261.00 km2\n",
      "The area of Saint Lucia is 622.00 km2\n",
      "The area of Saint Pierre and Miquelon is 242.00 km2\n",
      "The area of Saint Vincent and the Grenadines is 388.00 km2\n",
      "The area of Samoa is 2831.00 km2\n",
      "The area of San Marino is 61.00 km2\n",
      "The area of Sao Tome and Principe is 964.00 km2\n",
      "The area of Saudi Arabia is 2149690.00 km2\n",
      "The area of Senegal is 196722.00 km2\n",
      "The area of Seychelles is 455.00 km2\n",
      "The area of Sierra Leone is 71740.00 km2\n",
      "The area of Singapore is 618.00 km2\n",
      "The area of Slovakia is 49012.00 km2\n",
      "The area of Slovenia is 20256.00 km2\n",
      "The area of Solomon Islands is 28896.00 km2\n",
      "The area of Somalia is 637657.00 km2\n",
      "The area of South Africa is 1221037.00 km2\n",
      "The area of South Georgia and the South Sandwich Islands is 3903.00 km2\n",
      "The area of South Korea is 99434.00 km2\n",
      "The area of Spain is 505992.00 km2\n",
      "The area of Sri Lanka is 65610.00 km2\n",
      "The area of Sudan is 2505813.00 km2\n",
      "The area of Suriname is 163265.00 km2\n",
      "The area of Svalbard and Jan Mayen is 62422.00 km2\n",
      "The area of Swaziland is 17364.00 km2\n",
      "The area of Sweden is 449964.00 km2\n",
      "The area of Switzerland is 41284.00 km2\n",
      "The area of Syria is 185180.00 km2\n",
      "The area of Taiwan is 36188.00 km2\n",
      "The area of Tajikistan is 143100.00 km2\n",
      "The area of Tanzania is 883749.00 km2\n",
      "The area of Thailand is 513115.00 km2\n",
      "The area of The Democratic Republic of the Congo is 2344858.00 km2\n",
      "The area of Togo is 56785.00 km2\n",
      "The area of Tokelau is 12.00 km2\n",
      "The area of Tonga is 650.00 km2\n",
      "The area of Trinidad and Tobago is 5130.00 km2\n",
      "The area of Tunisia is 163610.00 km2\n",
      "The area of Turkey is 774815.00 km2\n",
      "The area of Turkmenistan is 488100.00 km2\n",
      "The area of Turks and Caicos Islands is 430.00 km2\n",
      "The area of Tuvalu is 26.00 km2\n",
      "The area of Uganda is 241038.00 km2\n",
      "The area of Ukraine is 603700.00 km2\n",
      "The area of United Arab Emirates is 83600.00 km2\n",
      "The area of United Kingdom is 242900.00 km2\n",
      "The area of United States is 9363520.00 km2\n",
      "The area of United States Minor Outlying Islands is 16.00 km2\n",
      "The area of Uruguay is 175016.00 km2\n",
      "The area of Uzbekistan is 447400.00 km2\n",
      "The area of Vanuatu is 12189.00 km2\n",
      "The area of Venezuela is 912050.00 km2\n",
      "The area of Vietnam is 331689.00 km2\n",
      "The area of Virgin Islands, British is 151.00 km2\n",
      "The area of Virgin Islands, U.S. is 347.00 km2\n",
      "The area of Wallis and Futuna is 200.00 km2\n",
      "The area of Western Sahara is 266000.00 km2\n",
      "The area of Yemen is 527968.00 km2\n",
      "The area of Yugoslavia is 102173.00 km2\n",
      "The area of Zambia is 752618.00 km2\n",
      "The area of Zimbabwe is 390757.00 km2\n"
     ]
    }
   ],
   "source": [
    "import csv\n",
    "\n",
    "fieldnames = ['country_name', 'area', 'code2', 'code3']\n",
    "\n",
    "with open('country.csv', encoding=\"utf8\") as f:\n",
    "    csv_reader = csv.DictReader(f, fieldnames)\n",
    "    next(csv_reader)\n",
    "    for line in csv_reader:\n",
    "        print(f\"The area of {line['country_name']} is {line['area']} km2\")"
   ]
  },
  {
   "cell_type": "markdown",
   "id": "151becd5",
   "metadata": {},
   "source": [
    "## Python Write CSV File\n",
    "\n",
    "\n",
    "Steps for writing a CSV file\n",
    "To write data into a CSV file, you follow these steps:\n",
    "\n",
    "First, open the CSV file for writing (w mode) by using the open() function.\n",
    "\n",
    "Second, create a CSV writer object by calling the writer() function of the csv module.\n",
    "\n",
    "Third, write data to CSV file by calling the writerow() or writerows() method of the CSV writer object.\n",
    "\n",
    "Finally, close the file once you complete writing data to it."
   ]
  },
  {
   "cell_type": "code",
   "execution_count": null,
   "id": "875e9e04",
   "metadata": {},
   "outputs": [],
   "source": [
    "import csv\n",
    "\n",
    "# open the file in the write mode\n",
    "f = open('country.csv', 'w')\n",
    "\n",
    "# create the csv writer\n",
    "writer = csv.writer(f)\n",
    "\n",
    "# write a row to the csv file\n",
    "writer.writerow(row)\n",
    "\n",
    "# close the file\n",
    "f.close()"
   ]
  },
  {
   "cell_type": "code",
   "execution_count": null,
   "id": "06000d4f",
   "metadata": {},
   "outputs": [],
   "source": [
    "import csv\n",
    "\n",
    "# open the file in the write mode\n",
    "with open('country.csv', 'w') as f:\n",
    "    # create the csv writer\n",
    "    writer = csv.writer(f)\n",
    "\n",
    "    # write a row to the csv file\n",
    "    writer.writerow(row)"
   ]
  },
  {
   "cell_type": "code",
   "execution_count": null,
   "id": "0ade6b6b",
   "metadata": {},
   "outputs": [],
   "source": [
    "import csv\n",
    "\n",
    "# open the file in the write mode\n",
    "with open('country.csv', 'w', encoding='UTF8') as f:\n",
    "    # create the csv writer\n",
    "    writer = csv.writer(f)\n",
    "\n",
    "    # write a row to the csv file\n",
    "    writer.writerow(row)"
   ]
  },
  {
   "cell_type": "markdown",
   "id": "a21a0971",
   "metadata": {},
   "source": [
    "#### Writing to CSV files example"
   ]
  },
  {
   "cell_type": "code",
   "execution_count": 55,
   "id": "300d82a3",
   "metadata": {},
   "outputs": [],
   "source": [
    "import csv  \n",
    "\n",
    "header = ['name', 'area', 'country_code2', 'country_code3']\n",
    "data = ['Afghanistan', 652090, 'AF', 'AFG']\n",
    "\n",
    "with open('countries.csv', 'w', encoding='UTF8') as f:\n",
    "    writer = csv.writer(f)\n",
    "\n",
    "    # write the header\n",
    "    writer.writerow(header)\n",
    "\n",
    "    # write the data\n",
    "    writer.writerow(data)"
   ]
  },
  {
   "cell_type": "code",
   "execution_count": 56,
   "id": "c16b2d33",
   "metadata": {},
   "outputs": [],
   "source": [
    "import csv\n",
    "\n",
    "header = ['name', 'area', 'country_code2', 'country_code3']\n",
    "data = ['Afghanistan', 652090, 'AF', 'AFG']\n",
    "\n",
    "\n",
    "with open('countries.csv', 'w', encoding='UTF8', newline='') as f:\n",
    "    writer = csv.writer(f)\n",
    "\n",
    "    # write the header\n",
    "    writer.writerow(header)\n",
    "\n",
    "    # write the data\n",
    "    writer.writerow(data)"
   ]
  },
  {
   "cell_type": "markdown",
   "id": "ad072ab8",
   "metadata": {},
   "source": [
    "#### Writing multiple rows to CSV files"
   ]
  },
  {
   "cell_type": "code",
   "execution_count": 57,
   "id": "5229c020",
   "metadata": {},
   "outputs": [],
   "source": [
    "import csv\n",
    "\n",
    "header = ['name', 'area', 'country_code2', 'country_code3']\n",
    "data = [\n",
    "    ['Albania', 28748, 'AL', 'ALB'],\n",
    "    ['Algeria', 2381741, 'DZ', 'DZA'],\n",
    "    ['American Samoa', 199, 'AS', 'ASM'],\n",
    "    ['Andorra', 468, 'AD', 'AND'],\n",
    "    ['Angola', 1246700, 'AO', 'AGO']\n",
    "]\n",
    "\n",
    "with open('countries.csv', 'w', encoding='UTF8', newline='') as f:\n",
    "    writer = csv.writer(f)\n",
    "\n",
    "    # write the header\n",
    "    writer.writerow(header)\n",
    "\n",
    "    # write multiple rows\n",
    "    writer.writerows(data)"
   ]
  },
  {
   "cell_type": "markdown",
   "id": "73c4fcfd",
   "metadata": {},
   "source": [
    "#### Writing to CSV files using the DictWriter class"
   ]
  },
  {
   "cell_type": "code",
   "execution_count": 58,
   "id": "f4515154",
   "metadata": {},
   "outputs": [],
   "source": [
    "import csv\n",
    "\n",
    "# csv header\n",
    "fieldnames = ['name', 'area', 'country_code2', 'country_code3']\n",
    "\n",
    "# csv data\n",
    "rows = [\n",
    "    {'name': 'Albania',\n",
    "    'area': 28748,\n",
    "    'country_code2': 'AL',\n",
    "    'country_code3': 'ALB'},\n",
    "    {'name': 'Algeria',\n",
    "    'area': 2381741,\n",
    "    'country_code2': 'DZ',\n",
    "    'country_code3': 'DZA'},\n",
    "    {'name': 'American Samoa',\n",
    "    'area': 199,\n",
    "    'country_code2': 'AS',\n",
    "    'country_code3': 'ASM'}\n",
    "]\n",
    "\n",
    "with open('countries.csv', 'w', encoding='UTF8', newline='') as f:\n",
    "    writer = csv.DictWriter(f, fieldnames=fieldnames)\n",
    "    writer.writeheader()\n",
    "    writer.writerows(rows)"
   ]
  },
  {
   "cell_type": "markdown",
   "id": "cda5a49b",
   "metadata": {},
   "source": [
    "## Python Delete File"
   ]
  },
  {
   "cell_type": "code",
   "execution_count": 59,
   "id": "4cdad78e",
   "metadata": {},
   "outputs": [],
   "source": [
    "import os\n",
    "\n",
    "os.remove('readme.txt')"
   ]
  },
  {
   "cell_type": "code",
   "execution_count": 60,
   "id": "f07ab3c4",
   "metadata": {},
   "outputs": [],
   "source": [
    "import os\n",
    "\n",
    "filename = 'readme.txt'\n",
    "if os.path.exists(filename):\n",
    "    os.remove(filename)"
   ]
  },
  {
   "cell_type": "code",
   "execution_count": 61,
   "id": "36335b6a",
   "metadata": {},
   "outputs": [
    {
     "name": "stdout",
     "output_type": "stream",
     "text": [
      "[WinError 2] The system cannot find the file specified: 'readme.txt'\n"
     ]
    }
   ],
   "source": [
    "import os\n",
    "\n",
    "try:\n",
    "    os.remove('readme.txt')\n",
    "except FileNotFoundError as e:\n",
    "    print(e)"
   ]
  },
  {
   "cell_type": "markdown",
   "id": "54a704fb",
   "metadata": {},
   "source": [
    "## Python Rename File"
   ]
  },
  {
   "cell_type": "code",
   "execution_count": null,
   "id": "be454dea",
   "metadata": {},
   "outputs": [],
   "source": [
    "os.rename(src,dst)"
   ]
  },
  {
   "cell_type": "code",
   "execution_count": null,
   "id": "151777aa",
   "metadata": {},
   "outputs": [],
   "source": [
    "import os\n",
    "\n",
    "os.rename('readme.txt', 'notes.txt')"
   ]
  },
  {
   "cell_type": "code",
   "execution_count": 65,
   "id": "d9209174",
   "metadata": {},
   "outputs": [
    {
     "name": "stdout",
     "output_type": "stream",
     "text": [
      "[WinError 2] The system cannot find the file specified: 'readme.txt' -> 'notes.txt'\n"
     ]
    }
   ],
   "source": [
    "import os\n",
    "\n",
    "try:\n",
    "    os.rename('readme.txt', 'notes.txt')\n",
    "except FileNotFoundError as e:\n",
    "    print(e)\n",
    "except FileExistsError as e:\n",
    "    print(e)"
   ]
  },
  {
   "cell_type": "markdown",
   "id": "400c5070",
   "metadata": {},
   "source": [
    "## Section 13. Working Directories\n",
    "\n",
    "#### Get the current working directory"
   ]
  },
  {
   "cell_type": "code",
   "execution_count": 66,
   "id": "2dbe1e68",
   "metadata": {},
   "outputs": [
    {
     "name": "stdout",
     "output_type": "stream",
     "text": [
      "C:\\Users\\Nikhi\\ECE 5831 - Pattern Recognition\n"
     ]
    }
   ],
   "source": [
    "import os\n",
    "\n",
    "\n",
    "cwd = os.getcwd()\n",
    "print(cwd)"
   ]
  },
  {
   "cell_type": "code",
   "execution_count": null,
   "id": "030915a9",
   "metadata": {},
   "outputs": [],
   "source": [
    "import os\n",
    "\n",
    "\n",
    "os.chdir('/script')\n",
    "cwd = os.getcwd()\n",
    "print(cwd)"
   ]
  },
  {
   "cell_type": "code",
   "execution_count": 68,
   "id": "5ab169c1",
   "metadata": {},
   "outputs": [
    {
     "name": "stdout",
     "output_type": "stream",
     "text": [
      "temp\\python\n",
      "('temp', 'python')\n"
     ]
    }
   ],
   "source": [
    "import os\n",
    "\n",
    "fp = os.path.join('temp', 'python')\n",
    "print(fp)  # temp\\python (on Windows)\n",
    "\n",
    "pc = os.path.split(fp)\n",
    "print(pc)  # ('temp', 'python')"
   ]
  },
  {
   "cell_type": "code",
   "execution_count": 69,
   "id": "b5da9d44",
   "metadata": {},
   "outputs": [
    {
     "name": "stdout",
     "output_type": "stream",
     "text": [
      "C:\\temp\n"
     ]
    }
   ],
   "source": [
    "import os\n",
    "\n",
    "dir = os.path.join(\"C:\\\\\", \"temp\")\n",
    "print(dir)\n",
    "\n",
    "if os.path.exists(dir) or os.path.isdir(dir):\n",
    "    print(f'The {dir} is a directory')"
   ]
  },
  {
   "cell_type": "code",
   "execution_count": null,
   "id": "5fcf0e2b",
   "metadata": {},
   "outputs": [],
   "source": [
    "import os\n",
    "\n",
    "dir = os.path.join(\"C:\\\\\", \"temp\", \"python\")\n",
    "if not os.path.exists(dir):\n",
    "    os.mkdir(dir)"
   ]
  },
  {
   "cell_type": "markdown",
   "id": "7f78fdb7",
   "metadata": {},
   "source": [
    "#### Rename a directory"
   ]
  },
  {
   "cell_type": "code",
   "execution_count": 72,
   "id": "22902e12",
   "metadata": {},
   "outputs": [],
   "source": [
    "import os\n",
    "\n",
    "oldpath = os.path.join(\"C:\\\\\", \"temp\", \"python\")\n",
    "newpath = os.path.join(\"C:\\\\\", \"temp\", \"python3\")\n",
    "\n",
    "if os.path.exists(oldpath) and not os.path.exists(newpath):\n",
    "    os.rename(oldpath, newpath)\n",
    "    print(\"'{0}' was renamed to '{1}'\".format(oldpath, newpath))"
   ]
  },
  {
   "cell_type": "markdown",
   "id": "1be0f2f6",
   "metadata": {},
   "source": [
    "#### Delete a directory"
   ]
  },
  {
   "cell_type": "code",
   "execution_count": 73,
   "id": "c93b8d35",
   "metadata": {},
   "outputs": [],
   "source": [
    "import os\n",
    "\n",
    "dir = os.path.join(\"C:\\\\\",\"temp\",\"python\")\n",
    "if os.path.exists(dir):\n",
    "    os.rmdir(dir)\n",
    "    print(dir + ' is removed.')"
   ]
  },
  {
   "cell_type": "markdown",
   "id": "4d073871",
   "metadata": {},
   "source": [
    "#### Traverse a directory recursively"
   ]
  },
  {
   "cell_type": "code",
   "execution_count": 74,
   "id": "d2426840",
   "metadata": {},
   "outputs": [],
   "source": [
    "import os\n",
    "\n",
    "path = \"c:\\\\temp\"\n",
    "for root, dirs, files in os.walk(path):\n",
    "    print(\"{0} has {1} files\".format(root, len(files)))"
   ]
  },
  {
   "cell_type": "markdown",
   "id": "6c3367c6",
   "metadata": {},
   "source": [
    "#### Python List Files\n",
    "\n",
    "#### Python list file example"
   ]
  },
  {
   "cell_type": "code",
   "execution_count": 78,
   "id": "7ab7e091",
   "metadata": {},
   "outputs": [
    {
     "ename": "SyntaxError",
     "evalue": "invalid character '├' (U+251C) (1374974339.py, line 2)",
     "output_type": "error",
     "traceback": [
      "\u001b[1;36m  Cell \u001b[1;32mIn[78], line 2\u001b[1;36m\u001b[0m\n\u001b[1;33m    ├── assets\u001b[0m\n\u001b[1;37m    ^\u001b[0m\n\u001b[1;31mSyntaxError\u001b[0m\u001b[1;31m:\u001b[0m invalid character '├' (U+251C)\n"
     ]
    }
   ],
   "source": [
    "C:\\web\n",
    "├── assets\n",
    "|  ├── css\n",
    "|  |  └── style.css\n",
    "|  └── js\n",
    "|     └── app.js\n",
    "├── blog\n",
    "|  ├── read-file.html\n",
    "|  └── write-file.html\n",
    "├── about.html\n",
    "├── contact.html\n",
    "└── index.html"
   ]
  },
  {
   "cell_type": "code",
   "execution_count": 80,
   "id": "6b110b54",
   "metadata": {},
   "outputs": [],
   "source": [
    "import os\n",
    "\n",
    "\n",
    "path = 'C:\\\\web'\n",
    "\n",
    "html_files = []\n",
    "\n",
    "for dirpath, dirnames, filenames in os.walk(path):\n",
    "    for filename in filenames:\n",
    "        if filename.endswith('.html'):\n",
    "            html_files.append(os.path.join(dirpath, filename))\n",
    "\n",
    "for html_file in html_files:\n",
    "    print(html_file)"
   ]
  },
  {
   "cell_type": "code",
   "execution_count": 81,
   "id": "e3169ba7",
   "metadata": {},
   "outputs": [],
   "source": [
    "html_files = []"
   ]
  },
  {
   "cell_type": "code",
   "execution_count": null,
   "id": "9434cb75",
   "metadata": {},
   "outputs": [],
   "source": [
    "for dirpath, dirnames, filenames in os.walk(path):"
   ]
  },
  {
   "cell_type": "code",
   "execution_count": 83,
   "id": "d7383fba",
   "metadata": {},
   "outputs": [],
   "source": [
    "for html_file in html_files:\n",
    "    print(html_file)"
   ]
  },
  {
   "cell_type": "markdown",
   "id": "dcc09c21",
   "metadata": {},
   "source": [
    "#### Defining a reusable list files function"
   ]
  },
  {
   "cell_type": "code",
   "execution_count": 84,
   "id": "1188d190",
   "metadata": {},
   "outputs": [],
   "source": [
    "import os\n",
    "\n",
    "\n",
    "def list_files(path, extentions=None):\n",
    "    \"\"\" List all files in a directory specified by path\n",
    "    Args:\n",
    "        path - the root directory path\n",
    "        extensions - a iterator of file extensions to include, pass None to get all files.\n",
    "    Returns:\n",
    "        A list of files specified by extensions\n",
    "    \"\"\"\n",
    "    filepaths = []\n",
    "    for root, _, files in os.walk(path):\n",
    "        for file in files:\n",
    "            if extentions is None:\n",
    "                filepaths.append(os.path.join(root, file))\n",
    "            else:\n",
    "                for ext in extentions:\n",
    "                    if file.endswith(ext):\n",
    "                        filepaths.append(os.path.join(root, file))\n",
    "\n",
    "    return filepaths\n",
    "\n",
    "\n",
    "if __name__ == '__main__':\n",
    "    filepaths = list_files(r'D:\\web', ('.html', '.css'))\n",
    "    for filepath in filepaths:\n",
    "        print(filepath)"
   ]
  },
  {
   "cell_type": "markdown",
   "id": "da0b3c86",
   "metadata": {},
   "source": [
    "#### Make list files function more efficient"
   ]
  },
  {
   "cell_type": "code",
   "execution_count": 85,
   "id": "49cf7c94",
   "metadata": {},
   "outputs": [],
   "source": [
    "import os\n",
    "\n",
    "\n",
    "def list_files(path, extentions=None):\n",
    "    \"\"\" List all files in a directory specified by path\n",
    "    Args:\n",
    "        path - the root directory path\n",
    "        extensions - a iterator of file extensions to include, pass None to get all files.\n",
    "    Returns:\n",
    "        A list of files specified by extensions\n",
    "    \"\"\"\n",
    "    for root, _, files in os.walk(path):\n",
    "        for file in files:\n",
    "            if extentions is None:\n",
    "                yield os.path.join(root, file)\n",
    "            else:\n",
    "                for ext in extentions:\n",
    "                    if file.endswith(ext):\n",
    "                        yield os.path.join(root, file)\n",
    "\n",
    "\n",
    "if __name__ == '__main__':\n",
    "    filepaths = list_files(r'D:\\web', ('.html', '.css'))\n",
    "    for filepath in filepaths:\n",
    "        print(filepath)"
   ]
  },
  {
   "cell_type": "markdown",
   "id": "1787036c",
   "metadata": {},
   "source": [
    "## Section 15. Strings"
   ]
  },
  {
   "cell_type": "markdown",
   "id": "d5f419fa",
   "metadata": {},
   "source": [
    "## Python F-strings\n",
    "\n",
    "\n",
    "#### Introduction to the Python F-strings"
   ]
  },
  {
   "cell_type": "code",
   "execution_count": 87,
   "id": "0ee3736a",
   "metadata": {},
   "outputs": [
    {
     "name": "stdout",
     "output_type": "stream",
     "text": [
      "Hello, John!\n"
     ]
    }
   ],
   "source": [
    "name = 'John'\n",
    "s = f'Hello, {name}!'\n",
    "print(s)"
   ]
  },
  {
   "cell_type": "markdown",
   "id": "8c916aca",
   "metadata": {},
   "source": [
    "#### Python f-string examples"
   ]
  },
  {
   "cell_type": "code",
   "execution_count": 88,
   "id": "e759740b",
   "metadata": {},
   "outputs": [
    {
     "name": "stdout",
     "output_type": "stream",
     "text": [
      "Hello, JOHN!\n"
     ]
    }
   ],
   "source": [
    "name = 'John'\n",
    "s = F'Hello, {name.upper()}!'\n",
    "print(s)"
   ]
  },
  {
   "cell_type": "code",
   "execution_count": 89,
   "id": "4ba8f97c",
   "metadata": {},
   "outputs": [
    {
     "name": "stdout",
     "output_type": "stream",
     "text": [
      "Hello, John Doe!\n"
     ]
    }
   ],
   "source": [
    "first_name = 'John'\n",
    "last_name = 'Doe'\n",
    "s = F'Hello, {first_name} {last_name}!'\n",
    "print(s)\n"
   ]
  },
  {
   "cell_type": "code",
   "execution_count": 90,
   "id": "23a41eb7",
   "metadata": {},
   "outputs": [
    {
     "name": "stdout",
     "output_type": "stream",
     "text": [
      "Hello, John Doe!\n"
     ]
    }
   ],
   "source": [
    "first_name = 'John'\n",
    "last_name = 'Doe'\n",
    "s = F'Hello, {\" \".join((first_name, last_name))}!'\n",
    "\n",
    "print(s)"
   ]
  },
  {
   "cell_type": "markdown",
   "id": "b6b102f7",
   "metadata": {},
   "source": [
    "#### Multiline f-strings"
   ]
  },
  {
   "cell_type": "code",
   "execution_count": 91,
   "id": "91498f65",
   "metadata": {},
   "outputs": [
    {
     "name": "stdout",
     "output_type": "stream",
     "text": [
      "Hello John. You're learning Python at PythonTutorial.net.\n"
     ]
    }
   ],
   "source": [
    "name = 'John'\n",
    "website = 'PythonTutorial.net'\n",
    "\n",
    "message = (\n",
    "    f'Hello {name}. '\n",
    "    f\"You're learning Python at {website}.\" \n",
    ")\n",
    "\n",
    "print(message)"
   ]
  },
  {
   "cell_type": "code",
   "execution_count": 92,
   "id": "4b2ab656",
   "metadata": {},
   "outputs": [
    {
     "name": "stdout",
     "output_type": "stream",
     "text": [
      "Hello John. You're learning Python at PythonTutorial.net.\n"
     ]
    }
   ],
   "source": [
    "name = 'John'\n",
    "website = 'PythonTutorial.net'\n",
    "\n",
    "message = f'Hello {name}. ' \\\n",
    "          f\"You're learning Python at {website}.\" \n",
    "\n",
    "print(message)"
   ]
  },
  {
   "cell_type": "code",
   "execution_count": 94,
   "id": "978f92c3",
   "metadata": {},
   "outputs": [
    {
     "name": "stdout",
     "output_type": "stream",
     "text": [
      "Hello John.\n",
      "You're learning Python at PythonTutorial.net.\n"
     ]
    }
   ],
   "source": [
    "name = 'John'\n",
    "website = 'PythonTutorial.net'\n",
    "\n",
    "message = f\"\"\"Hello {name}.\n",
    "You're learning Python at {website}.\"\"\"\n",
    "\n",
    "print(message)"
   ]
  },
  {
   "cell_type": "markdown",
   "id": "43a34506",
   "metadata": {},
   "source": [
    "#### Curly braces"
   ]
  },
  {
   "cell_type": "code",
   "execution_count": 95,
   "id": "3874b483",
   "metadata": {},
   "outputs": [
    {
     "name": "stdout",
     "output_type": "stream",
     "text": [
      "{1+2}\n"
     ]
    }
   ],
   "source": [
    "s = f'{{1+2}}'\n",
    "print(s)"
   ]
  },
  {
   "cell_type": "code",
   "execution_count": 96,
   "id": "5037ed8a",
   "metadata": {},
   "outputs": [
    {
     "name": "stdout",
     "output_type": "stream",
     "text": [
      "{3}\n"
     ]
    }
   ],
   "source": [
    "s = f'{{{1+2}}}'\n",
    "print(s)"
   ]
  },
  {
   "cell_type": "code",
   "execution_count": 97,
   "id": "c9f8bf00",
   "metadata": {},
   "outputs": [
    {
     "name": "stdout",
     "output_type": "stream",
     "text": [
      "{{1+2}}\n"
     ]
    }
   ],
   "source": [
    "s = f'{{{{1+2}}}}'\n",
    "print(s)"
   ]
  },
  {
   "cell_type": "markdown",
   "id": "ba01b808",
   "metadata": {},
   "source": [
    "#### The evaluation order of expressions in Python f-strings"
   ]
  },
  {
   "cell_type": "code",
   "execution_count": 98,
   "id": "9a34f0ff",
   "metadata": {},
   "outputs": [
    {
     "name": "stdout",
     "output_type": "stream",
     "text": [
      "1,3\n"
     ]
    }
   ],
   "source": [
    "def inc(numbers, value):\n",
    "    numbers[0] += value\n",
    "    return numbers[0]\n",
    "\n",
    "numbers = [0]\n",
    "\n",
    "s = f'{inc(numbers,1)},{inc(numbers,2)}'\n",
    "print(s)"
   ]
  },
  {
   "cell_type": "code",
   "execution_count": 99,
   "id": "e0b41a61",
   "metadata": {},
   "outputs": [
    {
     "data": {
      "text/plain": [
       "4"
      ]
     },
     "execution_count": 99,
     "metadata": {},
     "output_type": "execute_result"
    }
   ],
   "source": [
    "inc(numbers,1)"
   ]
  },
  {
   "cell_type": "markdown",
   "id": "f43bb0b9",
   "metadata": {},
   "source": [
    "#### Format numbers using f-strings"
   ]
  },
  {
   "cell_type": "code",
   "execution_count": 100,
   "id": "8f720ea1",
   "metadata": {},
   "outputs": [
    {
     "name": "stdout",
     "output_type": "stream",
     "text": [
      "10\n"
     ]
    }
   ],
   "source": [
    "number = 16\n",
    "s = f'{number:x}'\n",
    "print(s)  # 10"
   ]
  },
  {
   "cell_type": "code",
   "execution_count": 101,
   "id": "113e9250",
   "metadata": {},
   "outputs": [
    {
     "name": "stdout",
     "output_type": "stream",
     "text": [
      "1.000000e-02\n"
     ]
    }
   ],
   "source": [
    "number = 0.01\n",
    "s = f'{number:e}'\n",
    "print(s)  # 1.000000e-02"
   ]
  },
  {
   "cell_type": "code",
   "execution_count": 102,
   "id": "0ce38aee",
   "metadata": {},
   "outputs": [
    {
     "name": "stdout",
     "output_type": "stream",
     "text": [
      " 00200\n"
     ]
    }
   ],
   "source": [
    "number = 200\n",
    "s = f'{number: 06}'\n",
    "print(s)  # 00200"
   ]
  },
  {
   "cell_type": "code",
   "execution_count": 103,
   "id": "1ef1ae76",
   "metadata": {},
   "outputs": [
    {
     "name": "stdout",
     "output_type": "stream",
     "text": [
      " 9.99\n"
     ]
    }
   ],
   "source": [
    "number = 9.98567\n",
    "s = f'{number: .2f}'\n",
    "print(s)  # 9.99"
   ]
  },
  {
   "cell_type": "code",
   "execution_count": 104,
   "id": "111a5d16",
   "metadata": {},
   "outputs": [
    {
     "name": "stdout",
     "output_type": "stream",
     "text": [
      " 400,000,000,000\n"
     ]
    }
   ],
   "source": [
    "number = 400000000000\n",
    "s = f'{number: ,}'  # also can use _\n",
    "print(s)  # 400,000,000,000"
   ]
  },
  {
   "cell_type": "code",
   "execution_count": 105,
   "id": "41836e07",
   "metadata": {},
   "outputs": [
    {
     "name": "stdout",
     "output_type": "stream",
     "text": [
      " 12.59%\n",
      " 12.6%\n"
     ]
    }
   ],
   "source": [
    "number = 0.1259\n",
    "s = f'{number: .2%}'\n",
    "print(s)  # 12.59%\n",
    "\n",
    "s = f'{number: .1%}'\n",
    "print(s)  # 12.5%"
   ]
  },
  {
   "cell_type": "markdown",
   "id": "8614f684",
   "metadata": {},
   "source": [
    "## Python Raw Strings\n",
    "\n",
    "\n",
    "#### Introduction to the Python raw strings"
   ]
  },
  {
   "cell_type": "code",
   "execution_count": 106,
   "id": "7c61056e",
   "metadata": {},
   "outputs": [
    {
     "name": "stdout",
     "output_type": "stream",
     "text": [
      "lang\tver\n",
      "Python\t3\n"
     ]
    }
   ],
   "source": [
    "s = 'lang\\tver\\nPython\\t3'\n",
    "print(s)"
   ]
  },
  {
   "cell_type": "code",
   "execution_count": 107,
   "id": "d842cfbf",
   "metadata": {},
   "outputs": [
    {
     "name": "stdout",
     "output_type": "stream",
     "text": [
      "lang\\tver\\nPython\\t3\n"
     ]
    }
   ],
   "source": [
    "s = r'lang\\tver\\nPython\\t3'\n",
    "print(s)"
   ]
  },
  {
   "cell_type": "code",
   "execution_count": 108,
   "id": "19e648c3",
   "metadata": {},
   "outputs": [
    {
     "name": "stdout",
     "output_type": "stream",
     "text": [
      "True\n"
     ]
    }
   ],
   "source": [
    "s1 = r'lang\\tver\\nPython\\t3'\n",
    "s2 = 'lang\\\\tver\\\\nPython\\\\t3'\n",
    "\n",
    "print(s1 == s2) # True"
   ]
  },
  {
   "cell_type": "code",
   "execution_count": 109,
   "id": "d4c7f3b5",
   "metadata": {},
   "outputs": [
    {
     "name": "stdout",
     "output_type": "stream",
     "text": [
      "1\n"
     ]
    }
   ],
   "source": [
    "s = '\\n'\n",
    "print(len(s)) # 1"
   ]
  },
  {
   "cell_type": "code",
   "execution_count": 110,
   "id": "66a5fd85",
   "metadata": {},
   "outputs": [
    {
     "name": "stdout",
     "output_type": "stream",
     "text": [
      "2\n"
     ]
    }
   ],
   "source": [
    "s = r'\\n'\n",
    "print(len(s)) # 2"
   ]
  },
  {
   "cell_type": "code",
   "execution_count": 111,
   "id": "049eae9a",
   "metadata": {},
   "outputs": [
    {
     "ename": "SyntaxError",
     "evalue": "unterminated string literal (detected at line 1) (3865254185.py, line 1)",
     "output_type": "error",
     "traceback": [
      "\u001b[1;36m  Cell \u001b[1;32mIn[111], line 1\u001b[1;36m\u001b[0m\n\u001b[1;33m    s = r'\\'\u001b[0m\n\u001b[1;37m        ^\u001b[0m\n\u001b[1;31mSyntaxError\u001b[0m\u001b[1;31m:\u001b[0m unterminated string literal (detected at line 1)\n"
     ]
    }
   ],
   "source": [
    "s = r'\\'"
   ]
  },
  {
   "cell_type": "code",
   "execution_count": 112,
   "id": "718014c9",
   "metadata": {},
   "outputs": [
    {
     "ename": "SyntaxError",
     "evalue": "unterminated string literal (detected at line 1) (2666811007.py, line 1)",
     "output_type": "error",
     "traceback": [
      "\u001b[1;36m  Cell \u001b[1;32mIn[112], line 1\u001b[1;36m\u001b[0m\n\u001b[1;33m    s = r'\\\\\\'\u001b[0m\n\u001b[1;37m        ^\u001b[0m\n\u001b[1;31mSyntaxError\u001b[0m\u001b[1;31m:\u001b[0m unterminated string literal (detected at line 1)\n"
     ]
    }
   ],
   "source": [
    "s = r'\\\\\\'"
   ]
  },
  {
   "cell_type": "code",
   "execution_count": null,
   "id": "5087654f",
   "metadata": {},
   "outputs": [],
   "source": [
    "c:\\user\\tasks\\new"
   ]
  },
  {
   "cell_type": "code",
   "execution_count": 114,
   "id": "0a033318",
   "metadata": {},
   "outputs": [
    {
     "ename": "SyntaxError",
     "evalue": "(unicode error) 'unicodeescape' codec can't decode bytes in position 2-3: truncated \\uXXXX escape (4204228918.py, line 1)",
     "output_type": "error",
     "traceback": [
      "\u001b[1;36m  Cell \u001b[1;32mIn[114], line 1\u001b[1;36m\u001b[0m\n\u001b[1;33m    dir_path = 'c:\\user\\tasks\\new'\u001b[0m\n\u001b[1;37m                                  ^\u001b[0m\n\u001b[1;31mSyntaxError\u001b[0m\u001b[1;31m:\u001b[0m (unicode error) 'unicodeescape' codec can't decode bytes in position 2-3: truncated \\uXXXX escape\n"
     ]
    }
   ],
   "source": [
    "dir_path = 'c:\\user\\tasks\\new'"
   ]
  },
  {
   "cell_type": "code",
   "execution_count": 115,
   "id": "6b812b53",
   "metadata": {},
   "outputs": [
    {
     "name": "stdout",
     "output_type": "stream",
     "text": [
      "c:\\user\tasks\n",
      "ew\n"
     ]
    }
   ],
   "source": [
    "dir_path = 'c:\\\\user\\tasks\\new'\n",
    "print(dir_path)"
   ]
  },
  {
   "cell_type": "code",
   "execution_count": 116,
   "id": "c45578ba",
   "metadata": {},
   "outputs": [
    {
     "name": "stdout",
     "output_type": "stream",
     "text": [
      "c:\\user\\tasks\\new\n"
     ]
    }
   ],
   "source": [
    "dir_path = r'c:\\user\\tasks\\new'\n",
    "print(dir_path)"
   ]
  },
  {
   "cell_type": "markdown",
   "id": "447f99b7",
   "metadata": {},
   "source": [
    "#### Convert a regular string into a raw string"
   ]
  },
  {
   "cell_type": "code",
   "execution_count": 117,
   "id": "8ae2b727",
   "metadata": {},
   "outputs": [
    {
     "name": "stdout",
     "output_type": "stream",
     "text": [
      "'\\n'\n"
     ]
    }
   ],
   "source": [
    "s = '\\n'\n",
    "raw_string = repr(s)\n",
    "\n",
    "print(raw_string)"
   ]
  },
  {
   "cell_type": "code",
   "execution_count": 118,
   "id": "ee4d7346",
   "metadata": {},
   "outputs": [
    {
     "name": "stdout",
     "output_type": "stream",
     "text": [
      "\\n\n"
     ]
    }
   ],
   "source": [
    "s = '\\n'\n",
    "raw_string = repr(s)[1:-1]\n",
    "print(raw_string)"
   ]
  },
  {
   "cell_type": "markdown",
   "id": "bf779f0f",
   "metadata": {},
   "source": [
    "## Python Backslash\n",
    "\n",
    "\n",
    "#### Introduction to the Python backslash"
   ]
  },
  {
   "cell_type": "code",
   "execution_count": 119,
   "id": "0e6bd19b",
   "metadata": {},
   "outputs": [
    {
     "name": "stdout",
     "output_type": "stream",
     "text": [
      "Hello,\n",
      " World\n"
     ]
    }
   ],
   "source": [
    "print('Hello,\\n World')"
   ]
  },
  {
   "cell_type": "code",
   "execution_count": 120,
   "id": "580eda95",
   "metadata": {},
   "outputs": [
    {
     "name": "stdout",
     "output_type": "stream",
     "text": [
      "1\n"
     ]
    }
   ],
   "source": [
    "s = '\\n'\n",
    "print(len(s)) # 1"
   ]
  },
  {
   "cell_type": "code",
   "execution_count": 121,
   "id": "fa6d2e80",
   "metadata": {},
   "outputs": [
    {
     "name": "stdout",
     "output_type": "stream",
     "text": [
      "\"Python's awesome\" She said\n"
     ]
    }
   ],
   "source": [
    "s = '\"Python\\'s awesome\" She said'\n",
    "print(s)"
   ]
  },
  {
   "cell_type": "markdown",
   "id": "d3303b9a",
   "metadata": {},
   "source": [
    "#### Backslash in f-strings"
   ]
  },
  {
   "cell_type": "code",
   "execution_count": 122,
   "id": "9d3fb0e6",
   "metadata": {},
   "outputs": [
    {
     "ename": "SyntaxError",
     "evalue": "unexpected character after line continuation character (3226697727.py, line 2)",
     "output_type": "error",
     "traceback": [
      "\u001b[1;36m  Cell \u001b[1;32mIn[122], line 2\u001b[1;36m\u001b[0m\n\u001b[1;33m    s = f'The RGB colors are:\\n {'\\n'.join(colors)}'\u001b[0m\n\u001b[1;37m                                   ^\u001b[0m\n\u001b[1;31mSyntaxError\u001b[0m\u001b[1;31m:\u001b[0m unexpected character after line continuation character\n"
     ]
    }
   ],
   "source": [
    "colors = ['red','green','blue']\n",
    "s = f'The RGB colors are:\\n {'\\n'.join(colors)}'\n",
    "print(s)"
   ]
  },
  {
   "cell_type": "code",
   "execution_count": 123,
   "id": "bc50dcb4",
   "metadata": {},
   "outputs": [
    {
     "name": "stdout",
     "output_type": "stream",
     "text": [
      "The RGB colors are:\n",
      "red\n",
      "green\n",
      "blue\n"
     ]
    }
   ],
   "source": [
    "colors = ['red','green','blue']\n",
    "rgb = '\\n'.join(colors)\n",
    "s = f\"The RGB colors are:\\n{rgb}\"\n",
    "print(s)"
   ]
  },
  {
   "cell_type": "markdown",
   "id": "547593da",
   "metadata": {},
   "source": [
    "#### Backslash in raw strings"
   ]
  },
  {
   "cell_type": "code",
   "execution_count": 124,
   "id": "5ad8301a",
   "metadata": {},
   "outputs": [
    {
     "name": "stdout",
     "output_type": "stream",
     "text": [
      "\\n\n"
     ]
    }
   ],
   "source": [
    "s = r'\\n'\n",
    "print(s)"
   ]
  },
  {
   "cell_type": "code",
   "execution_count": null,
   "id": "4c05ff98",
   "metadata": {},
   "outputs": [],
   "source": []
  }
 ],
 "metadata": {
  "kernelspec": {
   "display_name": "Python 3 (ipykernel)",
   "language": "python",
   "name": "python3"
  },
  "language_info": {
   "codemirror_mode": {
    "name": "ipython",
    "version": 3
   },
   "file_extension": ".py",
   "mimetype": "text/x-python",
   "name": "python",
   "nbconvert_exporter": "python",
   "pygments_lexer": "ipython3",
   "version": "3.11.4"
  }
 },
 "nbformat": 4,
 "nbformat_minor": 5
}
