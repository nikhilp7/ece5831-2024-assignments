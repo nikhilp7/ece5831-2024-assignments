{
 "cells": [
  {
   "cell_type": "markdown",
   "id": "d9f70b34",
   "metadata": {},
   "source": [
    "### Step Function"
   ]
  },
  {
   "cell_type": "code",
   "execution_count": 1,
   "id": "7d39ca8c",
   "metadata": {},
   "outputs": [],
   "source": [
    "import numpy as np\n",
    "import matplotlib.pyplot as plt"
   ]
  },
  {
   "cell_type": "code",
   "execution_count": 2,
   "id": "02502a6d",
   "metadata": {},
   "outputs": [],
   "source": [
    "## Step Activation Function.\n",
    "\n",
    "def step_function(x):\n",
    "    if x > 0:\n",
    "        return 1\n",
    "    else:\n",
    "        return 0"
   ]
  },
  {
   "cell_type": "code",
   "execution_count": 3,
   "id": "828d86b2",
   "metadata": {},
   "outputs": [
    {
     "data": {
      "text/plain": [
       "1"
      ]
     },
     "execution_count": 3,
     "metadata": {},
     "output_type": "execute_result"
    }
   ],
   "source": [
    "step_function(100)"
   ]
  },
  {
   "cell_type": "code",
   "execution_count": 4,
   "id": "6b2bf4a0",
   "metadata": {},
   "outputs": [
    {
     "data": {
      "text/plain": [
       "0"
      ]
     },
     "execution_count": 4,
     "metadata": {},
     "output_type": "execute_result"
    }
   ],
   "source": [
    "step_function(-1)"
   ]
  },
  {
   "cell_type": "code",
   "execution_count": 5,
   "id": "61f77315",
   "metadata": {},
   "outputs": [],
   "source": [
    "## Step Function with less lines of code\n",
    "\n",
    "def step_function(x):\n",
    "    return 1 if x > 0 else 0"
   ]
  },
  {
   "cell_type": "code",
   "execution_count": 6,
   "id": "9db150f9",
   "metadata": {},
   "outputs": [
    {
     "data": {
      "text/plain": [
       "0"
      ]
     },
     "execution_count": 6,
     "metadata": {},
     "output_type": "execute_result"
    }
   ],
   "source": [
    "step_function(-1)"
   ]
  },
  {
   "cell_type": "code",
   "execution_count": 7,
   "id": "5334726b",
   "metadata": {},
   "outputs": [
    {
     "data": {
      "text/plain": [
       "1"
      ]
     },
     "execution_count": 7,
     "metadata": {},
     "output_type": "execute_result"
    }
   ],
   "source": [
    "step_function(2)"
   ]
  },
  {
   "cell_type": "code",
   "execution_count": 8,
   "id": "4005b6e5",
   "metadata": {},
   "outputs": [],
   "source": [
    "def step_function(x):\n",
    "    y = x > 0\n",
    "    ## Using int() to get output as integer and not boolean \n",
    "    return int(y)"
   ]
  },
  {
   "cell_type": "code",
   "execution_count": 9,
   "id": "16dc3b04",
   "metadata": {},
   "outputs": [
    {
     "data": {
      "text/plain": [
       "1"
      ]
     },
     "execution_count": 9,
     "metadata": {},
     "output_type": "execute_result"
    }
   ],
   "source": [
    "step_function(2)"
   ]
  },
  {
   "cell_type": "code",
   "execution_count": 10,
   "id": "247e6ba2",
   "metadata": {},
   "outputs": [],
   "source": [
    "x = np.array([-2, -1, 0, 2, 100])"
   ]
  },
  {
   "cell_type": "code",
   "execution_count": 11,
   "id": "8c9563f8",
   "metadata": {},
   "outputs": [
    {
     "data": {
      "text/plain": [
       "array([ -2,  -1,   0,   2, 100])"
      ]
     },
     "execution_count": 11,
     "metadata": {},
     "output_type": "execute_result"
    }
   ],
   "source": [
    "x"
   ]
  },
  {
   "cell_type": "code",
   "execution_count": 12,
   "id": "c6e24adc",
   "metadata": {},
   "outputs": [
    {
     "data": {
      "text/plain": [
       "array([False, False, False,  True,  True])"
      ]
     },
     "execution_count": 12,
     "metadata": {},
     "output_type": "execute_result"
    }
   ],
   "source": [
    "x > 0"
   ]
  },
  {
   "cell_type": "code",
   "execution_count": 15,
   "id": "c617c6ce",
   "metadata": {},
   "outputs": [
    {
     "data": {
      "text/plain": [
       "array([0, 0, 0, 1, 1])"
      ]
     },
     "execution_count": 15,
     "metadata": {},
     "output_type": "execute_result"
    }
   ],
   "source": [
    "y.astype(int)"
   ]
  },
  {
   "cell_type": "code",
   "execution_count": 16,
   "id": "acf5b5c0",
   "metadata": {},
   "outputs": [],
   "source": [
    "def step_function(x):\n",
    "    y = x > 0\n",
    "    return y.astype(int)"
   ]
  },
  {
   "cell_type": "code",
   "execution_count": 17,
   "id": "e10ebde3",
   "metadata": {},
   "outputs": [
    {
     "data": {
      "text/plain": [
       "array([0, 1, 1, 0, 1])"
      ]
     },
     "execution_count": 17,
     "metadata": {},
     "output_type": "execute_result"
    }
   ],
   "source": [
    "step_function(np.array([-200, 100, 1, -1.5, 2]))"
   ]
  },
  {
   "cell_type": "markdown",
   "id": "962026a9",
   "metadata": {},
   "source": [
    "### Plots"
   ]
  },
  {
   "cell_type": "code",
   "execution_count": 18,
   "id": "2a4ab238",
   "metadata": {},
   "outputs": [],
   "source": [
    "def step_function(x):\n",
    "    return np.array(x > 0, dtype = int)"
   ]
  },
  {
   "cell_type": "code",
   "execution_count": 19,
   "id": "585c613f",
   "metadata": {},
   "outputs": [],
   "source": [
    "x = np.arange(-10, 10, 0.1)"
   ]
  },
  {
   "cell_type": "code",
   "execution_count": 20,
   "id": "11efd6b3",
   "metadata": {},
   "outputs": [
    {
     "data": {
      "text/plain": [
       "array([-1.00000000e+01, -9.90000000e+00, -9.80000000e+00, -9.70000000e+00,\n",
       "       -9.60000000e+00, -9.50000000e+00, -9.40000000e+00, -9.30000000e+00,\n",
       "       -9.20000000e+00, -9.10000000e+00, -9.00000000e+00, -8.90000000e+00,\n",
       "       -8.80000000e+00, -8.70000000e+00, -8.60000000e+00, -8.50000000e+00,\n",
       "       -8.40000000e+00, -8.30000000e+00, -8.20000000e+00, -8.10000000e+00,\n",
       "       -8.00000000e+00, -7.90000000e+00, -7.80000000e+00, -7.70000000e+00,\n",
       "       -7.60000000e+00, -7.50000000e+00, -7.40000000e+00, -7.30000000e+00,\n",
       "       -7.20000000e+00, -7.10000000e+00, -7.00000000e+00, -6.90000000e+00,\n",
       "       -6.80000000e+00, -6.70000000e+00, -6.60000000e+00, -6.50000000e+00,\n",
       "       -6.40000000e+00, -6.30000000e+00, -6.20000000e+00, -6.10000000e+00,\n",
       "       -6.00000000e+00, -5.90000000e+00, -5.80000000e+00, -5.70000000e+00,\n",
       "       -5.60000000e+00, -5.50000000e+00, -5.40000000e+00, -5.30000000e+00,\n",
       "       -5.20000000e+00, -5.10000000e+00, -5.00000000e+00, -4.90000000e+00,\n",
       "       -4.80000000e+00, -4.70000000e+00, -4.60000000e+00, -4.50000000e+00,\n",
       "       -4.40000000e+00, -4.30000000e+00, -4.20000000e+00, -4.10000000e+00,\n",
       "       -4.00000000e+00, -3.90000000e+00, -3.80000000e+00, -3.70000000e+00,\n",
       "       -3.60000000e+00, -3.50000000e+00, -3.40000000e+00, -3.30000000e+00,\n",
       "       -3.20000000e+00, -3.10000000e+00, -3.00000000e+00, -2.90000000e+00,\n",
       "       -2.80000000e+00, -2.70000000e+00, -2.60000000e+00, -2.50000000e+00,\n",
       "       -2.40000000e+00, -2.30000000e+00, -2.20000000e+00, -2.10000000e+00,\n",
       "       -2.00000000e+00, -1.90000000e+00, -1.80000000e+00, -1.70000000e+00,\n",
       "       -1.60000000e+00, -1.50000000e+00, -1.40000000e+00, -1.30000000e+00,\n",
       "       -1.20000000e+00, -1.10000000e+00, -1.00000000e+00, -9.00000000e-01,\n",
       "       -8.00000000e-01, -7.00000000e-01, -6.00000000e-01, -5.00000000e-01,\n",
       "       -4.00000000e-01, -3.00000000e-01, -2.00000000e-01, -1.00000000e-01,\n",
       "       -3.55271368e-14,  1.00000000e-01,  2.00000000e-01,  3.00000000e-01,\n",
       "        4.00000000e-01,  5.00000000e-01,  6.00000000e-01,  7.00000000e-01,\n",
       "        8.00000000e-01,  9.00000000e-01,  1.00000000e+00,  1.10000000e+00,\n",
       "        1.20000000e+00,  1.30000000e+00,  1.40000000e+00,  1.50000000e+00,\n",
       "        1.60000000e+00,  1.70000000e+00,  1.80000000e+00,  1.90000000e+00,\n",
       "        2.00000000e+00,  2.10000000e+00,  2.20000000e+00,  2.30000000e+00,\n",
       "        2.40000000e+00,  2.50000000e+00,  2.60000000e+00,  2.70000000e+00,\n",
       "        2.80000000e+00,  2.90000000e+00,  3.00000000e+00,  3.10000000e+00,\n",
       "        3.20000000e+00,  3.30000000e+00,  3.40000000e+00,  3.50000000e+00,\n",
       "        3.60000000e+00,  3.70000000e+00,  3.80000000e+00,  3.90000000e+00,\n",
       "        4.00000000e+00,  4.10000000e+00,  4.20000000e+00,  4.30000000e+00,\n",
       "        4.40000000e+00,  4.50000000e+00,  4.60000000e+00,  4.70000000e+00,\n",
       "        4.80000000e+00,  4.90000000e+00,  5.00000000e+00,  5.10000000e+00,\n",
       "        5.20000000e+00,  5.30000000e+00,  5.40000000e+00,  5.50000000e+00,\n",
       "        5.60000000e+00,  5.70000000e+00,  5.80000000e+00,  5.90000000e+00,\n",
       "        6.00000000e+00,  6.10000000e+00,  6.20000000e+00,  6.30000000e+00,\n",
       "        6.40000000e+00,  6.50000000e+00,  6.60000000e+00,  6.70000000e+00,\n",
       "        6.80000000e+00,  6.90000000e+00,  7.00000000e+00,  7.10000000e+00,\n",
       "        7.20000000e+00,  7.30000000e+00,  7.40000000e+00,  7.50000000e+00,\n",
       "        7.60000000e+00,  7.70000000e+00,  7.80000000e+00,  7.90000000e+00,\n",
       "        8.00000000e+00,  8.10000000e+00,  8.20000000e+00,  8.30000000e+00,\n",
       "        8.40000000e+00,  8.50000000e+00,  8.60000000e+00,  8.70000000e+00,\n",
       "        8.80000000e+00,  8.90000000e+00,  9.00000000e+00,  9.10000000e+00,\n",
       "        9.20000000e+00,  9.30000000e+00,  9.40000000e+00,  9.50000000e+00,\n",
       "        9.60000000e+00,  9.70000000e+00,  9.80000000e+00,  9.90000000e+00])"
      ]
     },
     "execution_count": 20,
     "metadata": {},
     "output_type": "execute_result"
    }
   ],
   "source": [
    "x # Array"
   ]
  },
  {
   "cell_type": "code",
   "execution_count": 21,
   "id": "8e76247f",
   "metadata": {},
   "outputs": [],
   "source": [
    "y = step_function(x)"
   ]
  },
  {
   "cell_type": "code",
   "execution_count": 22,
   "id": "5767b3c2",
   "metadata": {},
   "outputs": [
    {
     "data": {
      "text/plain": [
       "array([0, 0, 0, 0, 0, 0, 0, 0, 0, 0, 0, 0, 0, 0, 0, 0, 0, 0, 0, 0, 0, 0,\n",
       "       0, 0, 0, 0, 0, 0, 0, 0, 0, 0, 0, 0, 0, 0, 0, 0, 0, 0, 0, 0, 0, 0,\n",
       "       0, 0, 0, 0, 0, 0, 0, 0, 0, 0, 0, 0, 0, 0, 0, 0, 0, 0, 0, 0, 0, 0,\n",
       "       0, 0, 0, 0, 0, 0, 0, 0, 0, 0, 0, 0, 0, 0, 0, 0, 0, 0, 0, 0, 0, 0,\n",
       "       0, 0, 0, 0, 0, 0, 0, 0, 0, 0, 0, 0, 0, 1, 1, 1, 1, 1, 1, 1, 1, 1,\n",
       "       1, 1, 1, 1, 1, 1, 1, 1, 1, 1, 1, 1, 1, 1, 1, 1, 1, 1, 1, 1, 1, 1,\n",
       "       1, 1, 1, 1, 1, 1, 1, 1, 1, 1, 1, 1, 1, 1, 1, 1, 1, 1, 1, 1, 1, 1,\n",
       "       1, 1, 1, 1, 1, 1, 1, 1, 1, 1, 1, 1, 1, 1, 1, 1, 1, 1, 1, 1, 1, 1,\n",
       "       1, 1, 1, 1, 1, 1, 1, 1, 1, 1, 1, 1, 1, 1, 1, 1, 1, 1, 1, 1, 1, 1,\n",
       "       1, 1])"
      ]
     },
     "execution_count": 22,
     "metadata": {},
     "output_type": "execute_result"
    }
   ],
   "source": [
    "y"
   ]
  },
  {
   "cell_type": "code",
   "execution_count": 23,
   "id": "2f7fbdcc",
   "metadata": {},
   "outputs": [
    {
     "data": {
      "image/png": "[encoded data removed]",
      "text/plain": [
       "<Figure size 640x480 with 1 Axes>"
      ]
     },
     "metadata": {},
     "output_type": "display_data"
    }
   ],
   "source": [
    "plt.plot(x, y)\n",
    "plt.show()"
   ]
  },
  {
   "cell_type": "markdown",
   "id": "2ee82a4b",
   "metadata": {},
   "source": [
    "### Sigmoid Function"
   ]
  },
  {
   "cell_type": "code",
   "execution_count": 24,
   "id": "06d8c188",
   "metadata": {},
   "outputs": [],
   "source": [
    "def sigmoid(x):\n",
    "    return 1/(1 + np.exp(-x))"
   ]
  },
  {
   "cell_type": "code",
   "execution_count": 25,
   "id": "ff686a67",
   "metadata": {},
   "outputs": [],
   "source": [
    "x = np.array([-2, 1, 2, 3])"
   ]
  },
  {
   "cell_type": "code",
   "execution_count": 26,
   "id": "386eca5b",
   "metadata": {},
   "outputs": [
    {
     "data": {
      "text/plain": [
       "array([-2,  1,  2,  3])"
      ]
     },
     "execution_count": 26,
     "metadata": {},
     "output_type": "execute_result"
    }
   ],
   "source": [
    "x"
   ]
  },
  {
   "cell_type": "code",
   "execution_count": 27,
   "id": "f874322d",
   "metadata": {},
   "outputs": [
    {
     "data": {
      "text/plain": [
       "array([0.11920292, 0.73105858, 0.88079708, 0.95257413])"
      ]
     },
     "execution_count": 27,
     "metadata": {},
     "output_type": "execute_result"
    }
   ],
   "source": [
    "sigmoid(x)"
   ]
  },
  {
   "cell_type": "code",
   "execution_count": 28,
   "id": "142f8210",
   "metadata": {},
   "outputs": [],
   "source": [
    "x = np.arange(-5, 5, 0.1)\n",
    "y = sigmoid(x)"
   ]
  },
  {
   "cell_type": "code",
   "execution_count": 29,
   "id": "b4e75434",
   "metadata": {},
   "outputs": [
    {
     "data": {
      "image/png": "[encoded data removed]",
      "text/plain": [
       "<Figure size 640x480 with 1 Axes>"
      ]
     },
     "metadata": {},
     "output_type": "display_data"
    }
   ],
   "source": [
    "plt.plot(x, y)\n",
    "plt.show()"
   ]
  },
  {
   "cell_type": "code",
   "execution_count": 30,
   "id": "43fce7b7",
   "metadata": {},
   "outputs": [
    {
     "data": {
      "text/plain": [
       "0.8807970779778823"
      ]
     },
     "execution_count": 30,
     "metadata": {},
     "output_type": "execute_result"
    }
   ],
   "source": [
    "sigmoid(2)"
   ]
  },
  {
   "cell_type": "markdown",
   "id": "3b777807",
   "metadata": {},
   "source": [
    "## Matrix Multiplication"
   ]
  },
  {
   "cell_type": "code",
   "execution_count": 31,
   "id": "56f72dee",
   "metadata": {},
   "outputs": [],
   "source": [
    "w = np.array([[1, 3, 5], [2, 4, 6]])"
   ]
  },
  {
   "cell_type": "code",
   "execution_count": 32,
   "id": "5a681a61",
   "metadata": {},
   "outputs": [
    {
     "data": {
      "text/plain": [
       "array([[1, 3, 5],\n",
       "       [2, 4, 6]])"
      ]
     },
     "execution_count": 32,
     "metadata": {},
     "output_type": "execute_result"
    }
   ],
   "source": [
    "w"
   ]
  },
  {
   "cell_type": "code",
   "execution_count": 33,
   "id": "8d7893b6",
   "metadata": {},
   "outputs": [],
   "source": [
    "x = np.array([100, 200])"
   ]
  },
  {
   "cell_type": "code",
   "execution_count": 34,
   "id": "340d5472",
   "metadata": {},
   "outputs": [
    {
     "data": {
      "text/plain": [
       "array([100, 200])"
      ]
     },
     "execution_count": 34,
     "metadata": {},
     "output_type": "execute_result"
    }
   ],
   "source": [
    "x"
   ]
  },
  {
   "cell_type": "code",
   "execution_count": 35,
   "id": "75c7e600",
   "metadata": {},
   "outputs": [
    {
     "data": {
      "text/plain": [
       "2"
      ]
     },
     "execution_count": 35,
     "metadata": {},
     "output_type": "execute_result"
    }
   ],
   "source": [
    "np.ndim(w)"
   ]
  },
  {
   "cell_type": "code",
   "execution_count": 36,
   "id": "785b46a9",
   "metadata": {},
   "outputs": [
    {
     "data": {
      "text/plain": [
       "1"
      ]
     },
     "execution_count": 36,
     "metadata": {},
     "output_type": "execute_result"
    }
   ],
   "source": [
    "np.ndim(w[0])"
   ]
  },
  {
   "cell_type": "code",
   "execution_count": 37,
   "id": "3443402e",
   "metadata": {},
   "outputs": [
    {
     "data": {
      "text/plain": [
       "(2, 3)"
      ]
     },
     "execution_count": 37,
     "metadata": {},
     "output_type": "execute_result"
    }
   ],
   "source": [
    "np.shape(w)"
   ]
  },
  {
   "cell_type": "code",
   "execution_count": 38,
   "id": "f4c2790e",
   "metadata": {},
   "outputs": [
    {
     "data": {
      "text/plain": [
       "(2,)"
      ]
     },
     "execution_count": 38,
     "metadata": {},
     "output_type": "execute_result"
    }
   ],
   "source": [
    "np.shape(x)"
   ]
  },
  {
   "cell_type": "code",
   "execution_count": 39,
   "id": "d7938272",
   "metadata": {},
   "outputs": [
    {
     "data": {
      "text/plain": [
       "array([ 500, 1100, 1700])"
      ]
     },
     "execution_count": 39,
     "metadata": {},
     "output_type": "execute_result"
    }
   ],
   "source": [
    "np.dot(x, w)"
   ]
  },
  {
   "cell_type": "markdown",
   "id": "60f0347b",
   "metadata": {},
   "source": [
    "### Implementing Multilayer Perceptron"
   ]
  },
  {
   "cell_type": "markdown",
   "id": "75ec2e7d",
   "metadata": {},
   "source": [
    "First Layer Program"
   ]
  },
  {
   "cell_type": "code",
   "execution_count": 40,
   "id": "9ff5ae5d",
   "metadata": {},
   "outputs": [],
   "source": [
    "x = np.array([-50, 100])\n",
    "w1 = np.array([[0.1, 0.2, 0.15], [0.6, 0.2, 0.005]])\n",
    "b1 = np.array([0.1, 0.2, 0.05])"
   ]
  },
  {
   "cell_type": "code",
   "execution_count": 41,
   "id": "c93ccfaf",
   "metadata": {},
   "outputs": [],
   "source": [
    "a1 = np.dot(x, w1) + b1"
   ]
  },
  {
   "cell_type": "code",
   "execution_count": 42,
   "id": "fcf8cb52",
   "metadata": {},
   "outputs": [
    {
     "data": {
      "text/plain": [
       "array([55.1 , 10.2 , -6.95])"
      ]
     },
     "execution_count": 42,
     "metadata": {},
     "output_type": "execute_result"
    }
   ],
   "source": [
    "a1"
   ]
  },
  {
   "cell_type": "code",
   "execution_count": 43,
   "id": "30023a0b",
   "metadata": {},
   "outputs": [],
   "source": [
    "z1 = sigmoid(a1)"
   ]
  },
  {
   "cell_type": "code",
   "execution_count": 44,
   "id": "462fe88e",
   "metadata": {},
   "outputs": [
    {
     "data": {
      "text/plain": [
       "array([1.00000000e+00, 9.99962831e-01, 9.57717052e-04])"
      ]
     },
     "execution_count": 44,
     "metadata": {},
     "output_type": "execute_result"
    }
   ],
   "source": [
    "z1"
   ]
  },
  {
   "cell_type": "markdown",
   "id": "fabf8ce1",
   "metadata": {},
   "source": [
    "Calculate z2 and z3 to get a2 of Second Layer and a3 of Third Layer"
   ]
  },
  {
   "cell_type": "code",
   "execution_count": 45,
   "id": "2408b47d",
   "metadata": {},
   "outputs": [],
   "source": [
    "w2 = np.array([[0.1, 0.2], [0.05, 0.5], [0.1, 0.2]])"
   ]
  },
  {
   "cell_type": "code",
   "execution_count": 46,
   "id": "b551fc9b",
   "metadata": {},
   "outputs": [
    {
     "data": {
      "text/plain": [
       "(3, 2)"
      ]
     },
     "execution_count": 46,
     "metadata": {},
     "output_type": "execute_result"
    }
   ],
   "source": [
    "np.shape(w2)"
   ]
  },
  {
   "cell_type": "code",
   "execution_count": 47,
   "id": "c6c7c4ef",
   "metadata": {},
   "outputs": [],
   "source": [
    "b2 = np.array([0.4, 0.5])"
   ]
  },
  {
   "cell_type": "code",
   "execution_count": 48,
   "id": "f1c124e6",
   "metadata": {},
   "outputs": [],
   "source": [
    "a2 = np.dot(z1, w2) + b2"
   ]
  },
  {
   "cell_type": "code",
   "execution_count": 49,
   "id": "6e5ca7f9",
   "metadata": {},
   "outputs": [],
   "source": [
    "z2 = sigmoid(a2)"
   ]
  },
  {
   "cell_type": "code",
   "execution_count": 50,
   "id": "d4b991fa",
   "metadata": {},
   "outputs": [
    {
     "data": {
      "text/plain": [
       "array([0.63415738, 0.76855555])"
      ]
     },
     "execution_count": 50,
     "metadata": {},
     "output_type": "execute_result"
    }
   ],
   "source": [
    "z2"
   ]
  },
  {
   "cell_type": "code",
   "execution_count": 51,
   "id": "770dc25d",
   "metadata": {},
   "outputs": [],
   "source": [
    "w3 = np.array([[0.1, 0.2], [0.9, 0.8]])"
   ]
  },
  {
   "cell_type": "code",
   "execution_count": 52,
   "id": "f411a50d",
   "metadata": {},
   "outputs": [],
   "source": [
    "b3 = np.array([0.9, 0.9])"
   ]
  },
  {
   "cell_type": "code",
   "execution_count": 53,
   "id": "c9703484",
   "metadata": {},
   "outputs": [
    {
     "data": {
      "text/plain": [
       "(2,)"
      ]
     },
     "execution_count": 53,
     "metadata": {},
     "output_type": "execute_result"
    }
   ],
   "source": [
    "np.shape(b3)"
   ]
  },
  {
   "cell_type": "code",
   "execution_count": 54,
   "id": "893ae59d",
   "metadata": {},
   "outputs": [],
   "source": [
    "a3 = np.dot(z2, w3) + b3"
   ]
  },
  {
   "cell_type": "code",
   "execution_count": 55,
   "id": "af9d2d84",
   "metadata": {},
   "outputs": [],
   "source": [
    "z3 = sigmoid(a3)"
   ]
  },
  {
   "cell_type": "code",
   "execution_count": 56,
   "id": "666a9fab",
   "metadata": {},
   "outputs": [
    {
     "data": {
      "text/plain": [
       "array([0.83958126, 0.83776285])"
      ]
     },
     "execution_count": 56,
     "metadata": {},
     "output_type": "execute_result"
    }
   ],
   "source": [
    "z3"
   ]
  },
  {
   "cell_type": "code",
   "execution_count": null,
   "id": "b31c0b62",
   "metadata": {},
   "outputs": [],
   "source": []
  }
 ],
 "metadata": {
  "kernelspec": {
   "display_name": "Python 3 (ipykernel)",
   "language": "python",
   "name": "python3"
  },
  "language_info": {
   "codemirror_mode": {
    "name": "ipython",
    "version": 3
   },
   "file_extension": ".py",
   "mimetype": "text/x-python",
   "name": "python",
   "nbconvert_exporter": "python",
   "pygments_lexer": "ipython3",
   "version": "3.11.4"
  }
 },
 "nbformat": 4,
 "nbformat_minor": 5
}
